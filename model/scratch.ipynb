{
 "cells": [
  {
   "cell_type": "code",
   "execution_count": 1,
   "metadata": {},
   "outputs": [
    {
     "name": "stderr",
     "output_type": "stream",
     "text": [
      "/tmp/ipykernel_1803897/859605501.py:18: DeprecationWarning: the imp module is deprecated in favour of importlib and slated for removal in Python 3.12; see the module's documentation for alternative uses\n",
      "  from imp import reload\n"
     ]
    }
   ],
   "source": [
    "import numpy as np\n",
    "import pandas as pd\n",
    "import matplotlib.pyplot as plt\n",
    "%matplotlib inline\n",
    "from functools import partial\n",
    "from random import choices, randint, randrange, random, sample\n",
    "from typing import List, Optional, Callable, Tuple\n",
    "import numpy as np\n",
    "# from geneticalgorithm import geneticalgorithm as ga\n",
    "import pandas as pd\n",
    "from collections import Counter\n",
    "from tqdm import tqdm\n",
    "import time\n",
    "from Bio.SeqUtils import MeltingTemp\n",
    "from Bio import SeqIO\n",
    "from plotly import graph_objects as go\n",
    "import json\n",
    "from imp import reload\n",
    "# import primer_selection\n",
    "# reload(primer_selection)\n",
    "# import testing\n",
    "# reload(testing)\n"
   ]
  },
  {
   "cell_type": "code",
   "execution_count": 9,
   "metadata": {},
   "outputs": [],
   "source": [
    "from Bio.Blast.Applications import NcbiblastnCommandline\n",
    "from Bio import SeqIO\n",
    "from Bio.Blast import NCBIXML\n",
    "import subprocess"
   ]
  },
  {
   "cell_type": "code",
   "execution_count": 2,
   "metadata": {},
   "outputs": [
    {
     "name": "stdout",
     "output_type": "stream",
     "text": [
      "TACGCAT\n"
     ]
    }
   ],
   "source": [
    "def complement_sequence(dna_sequence):\n",
    "    trans = str.maketrans('ATCG', 'TAGC')\n",
    "    return dna_sequence.upper().translate(trans)\n",
    "\n",
    "# print(complement_sequence(\"ATGCGTA\"))\n",
    "# # Example usage:\n",
    "# # dna_sequence = \"ATGCGTA\"\n",
    "# # complement_sequence = complement_sequence(dna_sequence)\n",
    "# # print(complement_sequence)  # Output: TACGCAT\n",
    "# #%%\n",
    "def reverse_complement_sequence(seq):\n",
    "    complement = {\"A\": \"T\", \"T\": \"A\", \"C\": \"G\", \"G\": \"C\"}\n",
    "    reverse_seq = seq[::-1]\n",
    "    return \"\".join(complement[base] for base in reverse_seq)\n"
   ]
  },
  {
   "cell_type": "code",
   "execution_count": 36,
   "metadata": {},
   "outputs": [
    {
     "name": "stdout",
     "output_type": "stream",
     "text": [
      "Binding location: (0, 3), Mismatches: 0, Distance from target: 4\n",
      "Binding location: (1, 4), Mismatches: 3, Distance from target: 3\n",
      "Binding location: (2, 5), Mismatches: 2, Distance from target: 2\n",
      "Binding location: (3, 6), Mismatches: 3, Distance from target: 1\n",
      "Binding location: (4, 7), Mismatches: 2, Distance from target: 0\n",
      "Binding location: (5, 8), Mismatches: 3, Distance from target: 1\n",
      "Binding location: (6, 9), Mismatches: 0, Distance from target: 1\n",
      "Binding location: (7, 10), Mismatches: 3, Distance from target: 0\n",
      "Binding location: (8, 11), Mismatches: 3, Distance from target: 1\n",
      "Binding location: (9, 12), Mismatches: 1, Distance from target: 2\n",
      "Binding location: (10, 13), Mismatches: 3, Distance from target: 3\n",
      "Binding location: (11, 14), Mismatches: 2, Distance from target: 4\n",
      "Binding location: (12, 15), Mismatches: 2, Distance from target: 5\n"
     ]
    }
   ],
   "source": [
    "def calculate_mismatches(seq1, seq2):\n",
    "    return sum(1 for a, b in zip(seq1, seq2) if a != b)\n",
    "\n",
    "def find_alignments(sequence, genome, target_site):\n",
    "    alignments = []\n",
    "    seq_len = len(sequence)\n",
    "    genome_len = len(genome)\n",
    "    \n",
    "    for i in range(genome_len - seq_len + 1):\n",
    "        subseq = genome[i:i+seq_len]\n",
    "        mismatches = calculate_mismatches(sequence, subseq)\n",
    "        binding_location = (i, i+seq_len)\n",
    "        distance_from_target = min(abs(i - target_site), abs(i + seq_len - target_site))\n",
    "        \n",
    "        alignment_info = {\n",
    "            'binding_location': binding_location,\n",
    "            'mismatches': mismatches,\n",
    "            'distance_from_target': distance_from_target\n",
    "        }\n",
    "        alignments.append(alignment_info)\n",
    "    \n",
    "    return alignments\n",
    "\n",
    "# Usage\n",
    "sequence = 'ATG'\n",
    "genome = 'ATGCGTATGACGTAG'\n",
    "target_site = 7  # Assume the target site is at position 7\n",
    "alignments = find_alignments(sequence, genome, target_site)\n",
    "\n",
    "for alignment in alignments:\n",
    "    binding_location = alignment['binding_location']\n",
    "    mismatches = alignment['mismatches']\n",
    "    distance_from_target = alignment['distance_from_target']\n",
    "    print(f'Binding location: {binding_location}, Mismatches: {mismatches}, Distance from target: {distance_from_target}')\n",
    "\n"
   ]
  },
  {
   "cell_type": "code",
   "execution_count": null,
   "metadata": {},
   "outputs": [],
   "source": [
    "def calculate_mismatches(seq1, seq2):\n",
    "    return sum(1 for a, b in zip(seq1, seq2) if a != b)\n",
    "\n",
    "def find_alignments(sequence, genome, target_site):\n",
    "    alignments = []\n",
    "    seq_len = len(sequence)\n",
    "    genome_len = len(genome)\n",
    "    \n",
    "    for i in range(genome_len - seq_len + 1):\n",
    "        subseq = genome[i:i+seq_len]\n",
    "        mismatches = calculate_mismatches(sequence, subseq)\n",
    "        binding_location = (i, i+seq_len)\n",
    "        distance_from_target = min(abs(i - target_site), abs(i + seq_len - target_site))\n",
    "        \n",
    "        alignment_info = {\n",
    "            'binding_location': binding_location,\n",
    "            'mismatches': mismatches,\n",
    "            'distance_from_target': distance_from_target\n",
    "        }\n",
    "        alignments.append(alignment_info)\n",
    "    \n",
    "    return alignments\n",
    "\n",
    "# Usage\n",
    "sequence = 'ATG'\n",
    "genome = 'ATGCGTATGACGTAG'\n",
    "target_site = 7  # Assume the target site is at position 7\n",
    "alignments = find_alignments(sequence, genome, target_site)\n",
    "\n",
    "for alignment in alignments:\n",
    "    binding_location = alignment['binding_location']\n",
    "    mismatches = alignment['mismatches']\n",
    "    distance_from_target = alignment['distance_from_target']\n",
    "    print(f'Binding location: {binding_location}, Mismatches: {mismatches}, Distance from target: {distance_from_target}')"
   ]
  },
  {
   "cell_type": "code",
   "execution_count": 76,
   "metadata": {},
   "outputs": [
    {
     "data": {
      "text/plain": [
       "'CGAGCCGTTGCCGGTAGGTTGCGGCTGGTTATCGACGGTACTGTCCACATTTGTGGATAGCCATGTGGACAGTTCACCTGCCCACAACAACGGTTGTAGCTCGACCCGGAACCAAGACCCGGAACTAACGAGAACCAGGGAGATACGTCG'"
      ]
     },
     "execution_count": 76,
     "metadata": {},
     "output_type": "execute_result"
    }
   ],
   "source": [
    "ref_genome = '/mnt/storage10/lwang/Projects/Amplicone_design_tool/model/MTB-h37rv_asm19595v2-eg18.fa'\n",
    "\n",
    "def genome_size(fasta_file):\n",
    "    total_length = 0\n",
    "    with open(fasta_file, 'r') as file:\n",
    "        for line in file:\n",
    "            if not line.startswith('>'):\n",
    "                total_length += len(line.strip())\n",
    "    return total_length\n",
    "\n",
    "def extract_sequence_from_fasta(start_pos, end_pos, padding = 150, fasta_file= 'MTB-h37rv_asm19595v2-eg18.fa', sequence_id='Chromosome'):\n",
    "    \"\"\"\n",
    "    Extracts a subsequence from a FASTA file based on the given sequence ID, start position, and end position.\n",
    "    \"\"\"\n",
    "    # Iterate over the sequences in the FASTA file\n",
    "    for record in SeqIO.parse(fasta_file, \"fasta\"):\n",
    "        # Check if the current sequence ID matches the desired sequence ID\n",
    "        \n",
    "        if record.id == sequence_id:\n",
    "            # Extract the subsequence based on the start and end positions\n",
    "            subsequence = record.seq[start_pos-padding:end_pos+padding]\n",
    "            return str(subsequence)  # Return the subsequence as a string\n",
    "    # If the sequence ID is not found, return None\n",
    "    return None\n",
    "\n",
    "extract_sequence_from_fasta(0, genome_size(ref_genome))"
   ]
  },
  {
   "cell_type": "code",
   "execution_count": 74,
   "metadata": {},
   "outputs": [
    {
     "data": {
      "text/plain": [
       "4411532"
      ]
     },
     "execution_count": 74,
     "metadata": {},
     "output_type": "execute_result"
    }
   ],
   "source": [
    "genome_size(ref_genome)"
   ]
  },
  {
   "cell_type": "code",
   "execution_count": 78,
   "metadata": {},
   "outputs": [
    {
     "data": {
      "text/plain": [
       "4411532"
      ]
     },
     "execution_count": 78,
     "metadata": {},
     "output_type": "execute_result"
    }
   ],
   "source": [
    "genome_size(ref_genome)"
   ]
  },
  {
   "cell_type": "code",
   "execution_count": 80,
   "metadata": {},
   "outputs": [
    {
     "name": "stdout",
     "output_type": "stream",
     "text": [
      "TACGCAT\n"
     ]
    }
   ],
   "source": [
    "import primer_selection"
   ]
  },
  {
   "cell_type": "code",
   "execution_count": null,
   "metadata": {},
   "outputs": [],
   "source": [
    "primer_selection.extract_sequence_from_fasta(0, genome_size(ref_genome),0)"
   ]
  },
  {
   "cell_type": "code",
   "execution_count": 83,
   "metadata": {},
   "outputs": [
    {
     "name": "stdout",
     "output_type": "stream",
     "text": [
      "True\n"
     ]
    }
   ],
   "source": [
    "def simplified_tm(seq):\n",
    "    # Simplified melting temperature calculation based on base pair count\n",
    "    return (seq.count('A') + seq.count('T')) * 2 + (seq.count('C') + seq.count('G')) * 4\n",
    "\n",
    "def simplified_dg(seq):\n",
    "    nn_params = {\n",
    "        'AA': -1.0, 'TT': -1.0,\n",
    "        'AT': -0.9, 'TA': -0.9,\n",
    "        'CA': -1.7, 'TG': -1.7,\n",
    "        'GT': -1.5, 'AC': -1.5,\n",
    "        'CT': -1.6, 'AG': -1.6,\n",
    "        'GA': -1.5, 'TC': -1.5,\n",
    "        'CG': -2.8, 'GC': -2.3,\n",
    "        'GG': -1.9, 'CC': -1.9\n",
    "    }\n",
    "    dg = 0\n",
    "    for i in range(len(seq) - 1):\n",
    "        dinucleotide = seq[i:i+2]\n",
    "        dg += nn_params.get(dinucleotide, 0)  # Adds 0 if dinucleotide not found\n",
    "    return dg\n",
    "\n",
    "\n",
    "def is_good_primer_candidate(primer, genome, target_site, max_mismatches, binding_location_range, max_distance_from_target, min_tm, max_dg):\n",
    "    primer_len = len(primer)\n",
    "    genome_len = len(genome)\n",
    "    \n",
    "    for i in range(genome_len - primer_len + 1):\n",
    "        subseq = genome[i:i+primer_len]\n",
    "        mismatches = calculate_mismatches(primer, subseq)\n",
    "        distance_from_target = min(abs(i - target_site), abs(i + primer_len - target_site))\n",
    "        \n",
    "        # Check if the alignment meets the thresholds\n",
    "        within_mismatch_threshold = mismatches <= max_mismatches\n",
    "        within_binding_location_range = binding_location_range[0] <= i <= binding_location_range[1]\n",
    "        within_distance_threshold = distance_from_target <= max_distance_from_target\n",
    "        \n",
    "        # Evaluate binding strength\n",
    "        tm = simplified_tm(subseq)\n",
    "        dg = simplified_dg(subseq)\n",
    "        strong_binding = tm >= min_tm and dg <= max_dg\n",
    "        \n",
    "        # If a strong alternative binding site is found, return False\n",
    "        summary = within_mismatch_threshold + within_binding_location_range + within_distance_threshold + strong_binding\n",
    "        # if within_mismatch_threshold and within_binding_location_range and within_distance_threshold and strong_binding:\n",
    "        if summary > 3:\n",
    "            return False\n",
    "    return True  # No strong alternative binding sites found\n",
    "\n",
    "# Usage\n",
    "primer = 'CGAACTCGAGGCTGCCTACT'\n",
    "genome = primer_selection.extract_sequence_from_fasta(0, genome_size(ref_genome),0)\n",
    "target_site = 7\n",
    "max_mismatches = 2\n",
    "binding_location_range = (0, 15)\n",
    "max_distance_from_target = 50\n",
    "min_tm = 50  # Example threshold for minimum melting temperature\n",
    "max_dg = -10  # Example threshold for maximum Gibbs free energy\n",
    "\n",
    "is_good_candidate = is_good_primer_candidate(primer, genome, target_site, max_mismatches, binding_location_range, max_distance_from_target, min_tm, max_dg)\n",
    "print(is_good_candidate)\n"
   ]
  },
  {
   "cell_type": "code",
   "execution_count": null,
   "metadata": {},
   "outputs": [],
   "source": [
    "    for i in range(genome_len - seq_len + 1):\n",
    "        subseq = genome[i:i + seq_len]\n",
    "        tm = simplified_tm(sequence)\n",
    "        dg = simplified_dg(sequence)\n",
    "\n",
    "        within_similarity_threshold = calculate_similarity(sequence, subseq, similarity_threshold)\n",
    "        within_tm_threshold = tm >= min_tm\n",
    "        within_dg_threshold = dg <= max_dg\n",
    "\n",
    "        if within_similarity_threshold and within_tm_threshold and within_dg_threshold:\n",
    "            count += 1\n",
    "            if count > 1:\n",
    "                return True  # Early exit if more than one binding site is found\n",
    "\n",
    "    return False  # Return False if only one or no binding sites are found"
   ]
  },
  {
   "cell_type": "markdown",
   "metadata": {},
   "source": [
    "## Below is the code used from testing alternative binding"
   ]
  },
  {
   "cell_type": "code",
   "execution_count": 140,
   "metadata": {},
   "outputs": [
    {
     "name": "stdout",
     "output_type": "stream",
     "text": [
      "CGAACTCGAGGCTGCCTACT\n",
      "CGGACTCGAGGGTGCCTTCT\n",
      "True\n"
     ]
    }
   ],
   "source": [
    "def simplified_tm(seq):\n",
    "    # Simplified melting temperature calculation based on base pair count\n",
    "    return (seq.count('A') + seq.count('T')) * 2 + (seq.count('C') + seq.count('G')) * 4\n",
    "\n",
    "def simplified_dg(seq):\n",
    "    # Simplified Gibbs free energy calculation based on the nearest-neighbor model (not accurate)\n",
    "    nn_params = {\n",
    "        'AA': -1.0, 'TT': -1.0,\n",
    "        'AT': -0.9, 'TA': -0.9,\n",
    "        'CA': -1.7, 'TG': -1.7,\n",
    "        'GT': -1.5, 'AC': -1.5,\n",
    "        'CT': -1.6, 'AG': -1.6,\n",
    "        'GA': -1.5, 'TC': -1.5,\n",
    "        'CG': -2.8, 'GC': -2.3,\n",
    "        'GG': -1.9, 'CC': -1.9\n",
    "    }\n",
    "    dg = 0\n",
    "    for i in range(len(seq) - 1):\n",
    "        dinucleotide = seq[i:i+2]\n",
    "        dg += nn_params.get(dinucleotide, 0)\n",
    "    return dg\n",
    "\n",
    "def calculate_similarity(seq1, seq2):\n",
    "    matches = sum(1 for a, b in zip(seq1, seq2) if a == b)\n",
    "    return matches / len(seq1) * 100\n",
    "\n",
    "def has_multiple_binding_sites(sequence, genome, similarity_threshold, min_tm=60, max_dg=-10):\n",
    "    seq_len = len(sequence)\n",
    "    genome_len = len(genome)\n",
    "    count = 0\n",
    "\n",
    "    for i in range(genome_len - seq_len + 1):\n",
    "        subseq = genome[i:i + seq_len]\n",
    "        if calculate_similarity(subseq, sequence)>similarity_threshold:\n",
    "            tm = simplified_tm(subseq)\n",
    "            dg = simplified_dg(subseq)\n",
    "            \n",
    "            within_tm_threshold = tm >= min_tm\n",
    "            within_dg_threshold = dg <= max_dg\n",
    "\n",
    "            if within_tm_threshold and within_dg_threshold:\n",
    "                print(genome[i:i + seq_len])\n",
    "                count += 1\n",
    "                if count > 1:\n",
    "                    return True  # Early exit if more than one binding site is found\n",
    "\n",
    "    return False  # Return False if only one or no binding sites are found\n",
    "\n",
    "# Usage:\n",
    "primer = 'CGAACTCGAGGCTGCCTACT'\n",
    "# primer = 'GCTCGTCCATGTCCCACCAT'\n",
    "genome = primer_selection.extract_sequence_from_fasta(0, genome_size(ref_genome),0)\n",
    "result = has_multiple_binding_sites(primer, genome, 81)\n",
    "print(result)  # Output: True or False\n"
   ]
  },
  {
   "cell_type": "code",
   "execution_count": 132,
   "metadata": {},
   "outputs": [
    {
     "name": "stdout",
     "output_type": "stream",
     "text": [
      "CGAACTCGAGGCTGCCTACT\n",
      "CGAACTCGAGGCTGCCTACT\n",
      "True\n"
     ]
    }
   ],
   "source": [
    "def has_multiple_binding_sites(sequence, genome):\n",
    "    seq_len = len(sequence)\n",
    "    genome_len = len(genome)\n",
    "    count = 0\n",
    "\n",
    "    for i in range(genome_len - seq_len + 1):\n",
    "        subseq = genome[i:i + seq_len]\n",
    "        if subseq == sequence:\n",
    "            print(genome[i:i + seq_len])\n",
    "            count += 1\n",
    "            if count > 1:\n",
    "                return True  # Early exit if more than one binding site is found\n",
    "\n",
    "    return False  # Return False if only one or no binding sites are found\n",
    "\n",
    "# Usage:\n",
    "primer = 'CGAACTCGAGGCTGCCTACT'\n",
    "# primer = 'GCTCGTCCATGTCCCACCAT'\n",
    "genome = primer_selection.extract_sequence_from_fasta(0, genome_size(ref_genome),0)\n",
    "result = has_multiple_binding_sites(primer, genome)\n",
    "print(result)  # Output: True or False\n"
   ]
  },
  {
   "cell_type": "code",
   "execution_count": 103,
   "metadata": {},
   "outputs": [
    {
     "name": "stdout",
     "output_type": "stream",
     "text": [
      "False\n"
     ]
    }
   ],
   "source": [
    "def calculate_similarity(seq1, seq2):\n",
    "    matches = sum(1 for a, b in zip(seq1, seq2) if a == b)\n",
    "    return matches / len(seq1) * 100\n",
    "\n",
    "def has_multiple_binding_sites(sequence, genome, similarity_threshold):\n",
    "    seq_len = len(sequence)\n",
    "    genome_len = len(genome)\n",
    "    count = 0\n",
    "\n",
    "    for i in range(genome_len - seq_len + 1):\n",
    "        subseq = genome[i:i + seq_len]\n",
    "        similarity = calculate_similarity(sequence, subseq)\n",
    "        if similarity >= similarity_threshold:\n",
    "            count += 1\n",
    "            if count > 1:\n",
    "                return True  # Early exit if more than one binding site is found\n",
    "\n",
    "    return False  # Return False if only one or no binding sites are found\n",
    "\n",
    "# Usage:\n",
    "# primer = 'CGAACTCGAGGCTGCCTACT'\n",
    "primer = 'GCTCGTCCATGTCCCACCAT'\n",
    "genome = primer_selection.extract_sequence_from_fasta(0, genome_size(ref_genome),0)\n",
    "similarity_threshold = 91  # For example, 90% similarity\n",
    "result = has_multiple_binding_sites(primer, genome, similarity_threshold)\n",
    "print(result)  # Output: True or False\n"
   ]
  },
  {
   "cell_type": "code",
   "execution_count": 104,
   "metadata": {},
   "outputs": [
    {
     "name": "stdout",
     "output_type": "stream",
     "text": [
      "False\n"
     ]
    }
   ],
   "source": [
    "def simplified_tm(seq):\n",
    "    # Simplified melting temperature calculation based on base pair count\n",
    "    return (seq.count('A') + seq.count('T')) * 2 + (seq.count('C') + seq.count('G')) * 4\n",
    "\n",
    "def simplified_dg(seq):\n",
    "    # Simplified Gibbs free energy calculation based on the nearest-neighbor model (not accurate)\n",
    "    nn_params = {\n",
    "        'AA': -1.0, 'TT': -1.0,\n",
    "        'AT': -0.9, 'TA': -0.9,\n",
    "        'CA': -1.7, 'TG': -1.7,\n",
    "        'GT': -1.5, 'AC': -1.5,\n",
    "        'CT': -1.6, 'AG': -1.6,\n",
    "        'GA': -1.5, 'TC': -1.5,\n",
    "        'CG': -2.8, 'GC': -2.3,\n",
    "        'GG': -1.9, 'CC': -1.9\n",
    "    }\n",
    "    dg = 0\n",
    "    for i in range(len(seq) - 1):\n",
    "        dinucleotide = seq[i:i+2]\n",
    "        dg += nn_params.get(dinucleotide, 0)\n",
    "    return dg\n",
    "\n",
    "def has_multiple_binding_sites(sequence, genome, similarity_threshold, min_tm, max_dg):\n",
    "    seq_len = len(sequence)\n",
    "    genome_len = len(genome)\n",
    "    count = 0\n",
    "\n",
    "    for i in range(genome_len - seq_len + 1):\n",
    "        subseq = genome[i:i + seq_len]\n",
    "        similarity = calculate_similarity(sequence, subseq)\n",
    "        tm = simplified_tm(subseq)\n",
    "        dg = simplified_dg(subseq)\n",
    "\n",
    "        # Check if the alignment meets the thresholds\n",
    "        within_similarity_threshold = similarity >= similarity_threshold\n",
    "        within_tm_threshold = tm >= min_tm\n",
    "        within_dg_threshold = dg <= max_dg\n",
    "\n",
    "        if within_similarity_threshold and within_tm_threshold and within_dg_threshold:\n",
    "            count += 1\n",
    "            if count > 1:\n",
    "                return True  # Early exit if more than one binding site is found\n",
    "\n",
    "    return False  # Return False if only one or no binding sites are found\n",
    "\n",
    "# Usage:\n",
    "primer = 'GCTCGTCCATGTCCCACCAT'\n",
    "genome = primer_selection.extract_sequence_from_fasta(0, genome_size(ref_genome),0)\n",
    "similarity_threshold = 70  # For example, 90% similarity\n",
    "min_tm = 40  # Example threshold for minimum melting temperature\n",
    "max_dg = -10  # Example threshold for maximum Gibbs free energy\n",
    "\n",
    "result = has_multiple_binding_sites(sequence, genome, similarity_threshold, min_tm, max_dg)\n",
    "print(result)  # Output: True or False\n"
   ]
  },
  {
   "cell_type": "code",
   "execution_count": 130,
   "metadata": {},
   "outputs": [
    {
     "name": "stdout",
     "output_type": "stream",
     "text": [
      "True\n"
     ]
    }
   ],
   "source": [
    "def calculate_similarity(seq1, seq2, similarity_threshold):\n",
    "    required_matches = len(seq1) * similarity_threshold / 100\n",
    "    matches = 0\n",
    "    for a, b in zip(seq1, seq2):\n",
    "        if a == b:\n",
    "            matches += 1\n",
    "        if matches >= required_matches:\n",
    "            return True\n",
    "    return False    \n",
    "\n",
    "def simplified_tm(seq):\n",
    "    return (seq.count('A') + seq.count('T')) * 2 + (seq.count('C') + seq.count('G')) * 4\n",
    "\n",
    "def simplified_dg(seq):\n",
    "    nn_params = {\n",
    "        'AA': -1.0, 'TT': -1.0,\n",
    "        'AT': -0.9, 'TA': -0.9,\n",
    "        'CA': -1.7, 'TG': -1.7,\n",
    "        'GT': -1.5, 'AC': -1.5,\n",
    "        'CT': -1.6, 'AG': -1.6,\n",
    "        'GA': -1.5, 'TC': -1.5,\n",
    "        'CG': -2.8, 'GC': -2.3,\n",
    "        'GG': -1.9, 'CC': -1.9\n",
    "    }\n",
    "    dg = 0\n",
    "    for i in range(len(seq) - 1):\n",
    "        dinucleotide = seq[i:i+2]\n",
    "        dg += nn_params.get(dinucleotide, 0)\n",
    "    return dg\n",
    "\n",
    "def precompute_dinucleotide_params(genome):\n",
    "    unique_dinucleotides = set(genome[i:i+2] for i in range(len(genome) - 1))\n",
    "    tm_params = {dinuc: simplified_tm(dinuc) for dinuc in unique_dinucleotides}\n",
    "    dg_params = {dinuc: simplified_dg(dinuc) for dinuc in unique_dinucleotides}\n",
    "    return tm_params, dg_params\n",
    "\n",
    "tm_params, dg_params = precompute_dinucleotide_params(genome)\n",
    "\n",
    "def has_multiple_binding_sites(sequence, genome, similarity_threshold, min_tm, max_dg):\n",
    "    seq_len = len(sequence)\n",
    "    genome_len = len(genome)\n",
    "    count = 0\n",
    "    for i in range(genome_len - seq_len + 1):\n",
    "        subseq = genome[i:i + seq_len]\n",
    "        tm = simplified_tm(sequence)\n",
    "        dg = simplified_dg(sequence)\n",
    "\n",
    "        within_similarity_threshold = calculate_similarity(sequence, subseq, similarity_threshold)\n",
    "        within_tm_threshold = tm >= min_tm\n",
    "        within_dg_threshold = dg <= max_dg\n",
    "\n",
    "        if within_similarity_threshold and within_tm_threshold and within_dg_threshold:\n",
    "            count += 1\n",
    "            if count > 1:\n",
    "                return True  # Early exit if more than one binding site is found\n",
    "\n",
    "    return False  # Return False if only one or no binding sites are found\n",
    "\n",
    "# Usage:\n",
    "primer = 'GCTCGTCCATGTCCCACCAT'\n",
    "genome = primer_selection.extract_sequence_from_fasta(0, genome_size(ref_genome),0)\n",
    "similarity_threshold = 70  # For example, 90% similarity\n",
    "min_tm = 40  # Example threshold for minimum melting temperature\n",
    "max_dg = -10  # Example threshold for maximum Gibbs free energy\n",
    "\n",
    "result = not has_multiple_binding_sites(sequence, genome, similarity_threshold, min_tm, max_dg)\n",
    "print(result)  # Output: True or False"
   ]
  },
  {
   "cell_type": "code",
   "execution_count": 108,
   "metadata": {},
   "outputs": [],
   "source": [
    "tm_params, dg_params = precompute_dinucleotide_params(genome)\n"
   ]
  },
  {
   "cell_type": "code",
   "execution_count": 118,
   "metadata": {},
   "outputs": [],
   "source": [
    "tm = sum(tm_params[genome[i:i+2]] for i in range(len(primer) - 1))\n"
   ]
  },
  {
   "cell_type": "code",
   "execution_count": 119,
   "metadata": {},
   "outputs": [
    {
     "data": {
      "text/plain": [
       "122"
      ]
     },
     "execution_count": 119,
     "metadata": {},
     "output_type": "execute_result"
    }
   ],
   "source": [
    "tm"
   ]
  },
  {
   "cell_type": "code",
   "execution_count": 116,
   "metadata": {},
   "outputs": [
    {
     "data": {
      "text/plain": [
       "{'CA': 6,\n",
       " 'AC': 6,\n",
       " 'TG': 6,\n",
       " 'GG': 8,\n",
       " 'TT': 4,\n",
       " 'CT': 6,\n",
       " 'CC': 8,\n",
       " 'GA': 6,\n",
       " 'AT': 4,\n",
       " 'AA': 4,\n",
       " 'GC': 8,\n",
       " 'GT': 6,\n",
       " 'AG': 6,\n",
       " 'CG': 8,\n",
       " 'TC': 6,\n",
       " 'TA': 4}"
      ]
     },
     "execution_count": 116,
     "metadata": {},
     "output_type": "execute_result"
    }
   ],
   "source": [
    "tm_params"
   ]
  },
  {
   "cell_type": "code",
   "execution_count": 4,
   "metadata": {},
   "outputs": [
    {
     "name": "stdout",
     "output_type": "stream",
     "text": [
      "GC Content: 60.00%\n"
     ]
    }
   ],
   "source": [
    "def gc_content(sequence):\n",
    "    if len(sequence) == 0:\n",
    "        raise ValueError(\"Sequence length must be greater than 0\")\n",
    "    gc_count = sequence.count('G') + sequence.count('C')\n",
    "    total_length = len(sequence)\n",
    "    gc_content_percentage = (gc_count / total_length) * 100\n",
    "    return gc_content_percentage\n",
    "\n",
    "# Example usage:\n",
    "sequence = 'GCTCGTCCATGTCCCACCAT'\n",
    "gc_percentage = gc_content(sequence)\n",
    "print(f'GC Content: {gc_percentage:.2f}%')\n"
   ]
  },
  {
   "cell_type": "code",
   "execution_count": 3,
   "metadata": {},
   "outputs": [
    {
     "name": "stdout",
     "output_type": "stream",
     "text": [
      "Melting Temperature (Tm): 50.75°C\n"
     ]
    }
   ],
   "source": [
    "import math\n",
    "\n",
    "def calculate_tm_nearest_neighbor(sequence, na_concentration):\n",
    "    if len(sequence) == 0:\n",
    "        raise ValueError(\"Sequence length must be greater than 0\")\n",
    "    gc_count = sequence.count('G') + sequence.count('C')\n",
    "    total_length = len(sequence)\n",
    "    percent_gc = (gc_count / total_length) * 100\n",
    "    tm = 81.5 + 16.6 * math.log10(na_concentration) + 0.41 * percent_gc - 675 / total_length\n",
    "    return tm\n",
    "\n",
    "# Example usage:\n",
    "sequence = 'GCTCGTCCATGTCCCACCAT'\n",
    "na_concentration = 0.05  # Example sodium ion concentration in mol/L\n",
    "tm = calculate_tm_nearest_neighbor(sequence, na_concentration)\n",
    "print(f'Melting Temperature (Tm): {tm:.2f}°C')\n"
   ]
  },
  {
   "cell_type": "code",
   "execution_count": 5,
   "metadata": {},
   "outputs": [
    {
     "name": "stdout",
     "output_type": "stream",
     "text": [
      "Melting Temperature (Tm): 64°C\n"
     ]
    }
   ],
   "source": [
    "def calculate_tm(sequence):\n",
    "    if len(sequence) == 0:\n",
    "        raise ValueError(\"Sequence length must be greater than 0\")\n",
    "    gc_count = sequence.count('G') + sequence.count('C')\n",
    "    at_count = sequence.count('A') + sequence.count('T')\n",
    "    tm = (gc_count * 4) + (at_count * 2)\n",
    "    return tm\n",
    "\n",
    "# Example usage:\n",
    "sequence = 'GCTCGTCCATGTCCCACCAT'\n",
    "tm = calculate_tm(sequence)\n",
    "print(f'Melting Temperature (Tm): {tm}°C')\n"
   ]
  },
  {
   "cell_type": "code",
   "execution_count": 2,
   "metadata": {},
   "outputs": [],
   "source": [
    "spol = pd.read_csv('/mnt/storage10/lwang/Projects/Amplicone_design_tool/model/raw.githubusercontent.com_GaryNapier_spolpred_master_data_spoligotypes.csv')"
   ]
  },
  {
   "cell_type": "code",
   "execution_count": 4,
   "metadata": {},
   "outputs": [
    {
     "data": {
      "text/plain": [
       "Index(['id', 'pct_reads_mapped', 'num_reads_mapped', 'median_coverage',\n",
       "       'main_lineage', 'sublineage', 'octal_spoligotype', 'binary_spoligotype',\n",
       "       'spacer1', 'spacer2', 'spacer3', 'spacer4', 'spacer5', 'spacer6',\n",
       "       'spacer7', 'spacer8', 'spacer9', 'spacer10', 'spacer11', 'spacer12',\n",
       "       'spacer13', 'spacer14', 'spacer15', 'spacer16', 'spacer17', 'spacer18',\n",
       "       'spacer19', 'spacer20', 'spacer21', 'spacer22', 'spacer23', 'spacer24',\n",
       "       'spacer25', 'spacer26', 'spacer27', 'spacer28', 'spacer29', 'spacer30',\n",
       "       'spacer31', 'spacer32', 'spacer33', 'spacer34', 'spacer35', 'spacer36',\n",
       "       'spacer37', 'spacer38', 'spacer39', 'spacer40', 'spacer41', 'spacer42',\n",
       "       'spacer43'],\n",
       "      dtype='object')"
      ]
     },
     "execution_count": 4,
     "metadata": {},
     "output_type": "execute_result"
    }
   ],
   "source": [
    "spol.columns"
   ]
  },
  {
   "cell_type": "code",
   "execution_count": 11,
   "metadata": {},
   "outputs": [],
   "source": [
    "# qwer = pd.read_csv('/mnt/storage7/jody/philippines/projects/all_philippines/tbprofiler_new/variants.txt')\n",
    "s7_variants = pd.read_csv('/mnt/storage10/lwang/Projects/Amplicone_design_tool/model/variants.txt')"
   ]
  },
  {
   "cell_type": "code",
   "execution_count": 12,
   "metadata": {},
   "outputs": [],
   "source": [
    "full_data = pd.read_csv('/mnt/storage10/jody/projects/variant_dump/variants.csv')\n"
   ]
  },
  {
   "cell_type": "code",
   "execution_count": 24,
   "metadata": {},
   "outputs": [
    {
     "data": {
      "text/html": [
       "<div>\n",
       "<style scoped>\n",
       "    .dataframe tbody tr th:only-of-type {\n",
       "        vertical-align: middle;\n",
       "    }\n",
       "\n",
       "    .dataframe tbody tr th {\n",
       "        vertical-align: top;\n",
       "    }\n",
       "\n",
       "    .dataframe thead th {\n",
       "        text-align: right;\n",
       "    }\n",
       "</style>\n",
       "<table border=\"1\" class=\"dataframe\">\n",
       "  <thead>\n",
       "    <tr style=\"text-align: right;\">\n",
       "      <th></th>\n",
       "      <th>sample_id</th>\n",
       "      <th>genome_pos</th>\n",
       "      <th>gene</th>\n",
       "      <th>change</th>\n",
       "      <th>freq</th>\n",
       "      <th>type</th>\n",
       "      <th>sublin</th>\n",
       "      <th>drtype</th>\n",
       "      <th>drugs</th>\n",
       "    </tr>\n",
       "  </thead>\n",
       "  <tbody>\n",
       "    <tr>\n",
       "      <th>0</th>\n",
       "      <td>ERR9787047</td>\n",
       "      <td>6446</td>\n",
       "      <td>gyrB</td>\n",
       "      <td>p.Ala403Ser</td>\n",
       "      <td>1.0</td>\n",
       "      <td>missense_variant</td>\n",
       "      <td>lineage6.1.1</td>\n",
       "      <td>Sensitive</td>\n",
       "      <td>NaN</td>\n",
       "    </tr>\n",
       "    <tr>\n",
       "      <th>1</th>\n",
       "      <td>ERR9787047</td>\n",
       "      <td>7362</td>\n",
       "      <td>gyrA</td>\n",
       "      <td>p.Glu21Gln</td>\n",
       "      <td>1.0</td>\n",
       "      <td>missense_variant</td>\n",
       "      <td>lineage6.1.1</td>\n",
       "      <td>Sensitive</td>\n",
       "      <td>NaN</td>\n",
       "    </tr>\n",
       "    <tr>\n",
       "      <th>2</th>\n",
       "      <td>ERR9787047</td>\n",
       "      <td>7585</td>\n",
       "      <td>gyrA</td>\n",
       "      <td>p.Ser95Thr</td>\n",
       "      <td>1.0</td>\n",
       "      <td>missense_variant</td>\n",
       "      <td>lineage6.1.1</td>\n",
       "      <td>Sensitive</td>\n",
       "      <td>NaN</td>\n",
       "    </tr>\n",
       "    <tr>\n",
       "      <th>3</th>\n",
       "      <td>ERR9787047</td>\n",
       "      <td>8493</td>\n",
       "      <td>gyrA</td>\n",
       "      <td>p.Leu398Phe</td>\n",
       "      <td>1.0</td>\n",
       "      <td>missense_variant</td>\n",
       "      <td>lineage6.1.1</td>\n",
       "      <td>Sensitive</td>\n",
       "      <td>NaN</td>\n",
       "    </tr>\n",
       "    <tr>\n",
       "      <th>4</th>\n",
       "      <td>ERR9787047</td>\n",
       "      <td>9143</td>\n",
       "      <td>gyrA</td>\n",
       "      <td>c.1842T&gt;C</td>\n",
       "      <td>1.0</td>\n",
       "      <td>synonymous_variant</td>\n",
       "      <td>lineage6.1.1</td>\n",
       "      <td>Sensitive</td>\n",
       "      <td>NaN</td>\n",
       "    </tr>\n",
       "  </tbody>\n",
       "</table>\n",
       "</div>"
      ],
      "text/plain": [
       "    sample_id  genome_pos  gene       change  freq                type  \\\n",
       "0  ERR9787047        6446  gyrB  p.Ala403Ser   1.0    missense_variant   \n",
       "1  ERR9787047        7362  gyrA   p.Glu21Gln   1.0    missense_variant   \n",
       "2  ERR9787047        7585  gyrA   p.Ser95Thr   1.0    missense_variant   \n",
       "3  ERR9787047        8493  gyrA  p.Leu398Phe   1.0    missense_variant   \n",
       "4  ERR9787047        9143  gyrA    c.1842T>C   1.0  synonymous_variant   \n",
       "\n",
       "         sublin     drtype drugs  \n",
       "0  lineage6.1.1  Sensitive   NaN  \n",
       "1  lineage6.1.1  Sensitive   NaN  \n",
       "2  lineage6.1.1  Sensitive   NaN  \n",
       "3  lineage6.1.1  Sensitive   NaN  \n",
       "4  lineage6.1.1  Sensitive   NaN  "
      ]
     },
     "execution_count": 24,
     "metadata": {},
     "output_type": "execute_result"
    }
   ],
   "source": [
    "full_data.head()"
   ]
  },
  {
   "cell_type": "code",
   "execution_count": 25,
   "metadata": {},
   "outputs": [
    {
     "data": {
      "text/html": [
       "<div>\n",
       "<style scoped>\n",
       "    .dataframe tbody tr th:only-of-type {\n",
       "        vertical-align: middle;\n",
       "    }\n",
       "\n",
       "    .dataframe tbody tr th {\n",
       "        vertical-align: top;\n",
       "    }\n",
       "\n",
       "    .dataframe thead th {\n",
       "        text-align: right;\n",
       "    }\n",
       "</style>\n",
       "<table border=\"1\" class=\"dataframe\">\n",
       "  <thead>\n",
       "    <tr style=\"text-align: right;\">\n",
       "      <th></th>\n",
       "      <th>sample_id</th>\n",
       "      <th>genome_pos</th>\n",
       "      <th>gene</th>\n",
       "      <th>change</th>\n",
       "      <th>freq</th>\n",
       "      <th>type</th>\n",
       "      <th>sublin</th>\n",
       "      <th>drtype</th>\n",
       "      <th>drugs</th>\n",
       "    </tr>\n",
       "  </thead>\n",
       "  <tbody>\n",
       "    <tr>\n",
       "      <th>0</th>\n",
       "      <td>ERR9787047</td>\n",
       "      <td>6446</td>\n",
       "      <td>gyrB</td>\n",
       "      <td>p.Ala403Ser</td>\n",
       "      <td>1.000000</td>\n",
       "      <td>missense_variant</td>\n",
       "      <td>lineage6.1.1</td>\n",
       "      <td>Sensitive</td>\n",
       "      <td>NaN</td>\n",
       "    </tr>\n",
       "    <tr>\n",
       "      <th>1</th>\n",
       "      <td>ERR9787047</td>\n",
       "      <td>7362</td>\n",
       "      <td>gyrA</td>\n",
       "      <td>p.Glu21Gln</td>\n",
       "      <td>1.000000</td>\n",
       "      <td>missense_variant</td>\n",
       "      <td>lineage6.1.1</td>\n",
       "      <td>Sensitive</td>\n",
       "      <td>NaN</td>\n",
       "    </tr>\n",
       "    <tr>\n",
       "      <th>2</th>\n",
       "      <td>ERR9787047</td>\n",
       "      <td>7585</td>\n",
       "      <td>gyrA</td>\n",
       "      <td>p.Ser95Thr</td>\n",
       "      <td>1.000000</td>\n",
       "      <td>missense_variant</td>\n",
       "      <td>lineage6.1.1</td>\n",
       "      <td>Sensitive</td>\n",
       "      <td>NaN</td>\n",
       "    </tr>\n",
       "    <tr>\n",
       "      <th>3</th>\n",
       "      <td>ERR9787047</td>\n",
       "      <td>8493</td>\n",
       "      <td>gyrA</td>\n",
       "      <td>p.Leu398Phe</td>\n",
       "      <td>1.000000</td>\n",
       "      <td>missense_variant</td>\n",
       "      <td>lineage6.1.1</td>\n",
       "      <td>Sensitive</td>\n",
       "      <td>NaN</td>\n",
       "    </tr>\n",
       "    <tr>\n",
       "      <th>4</th>\n",
       "      <td>ERR9787047</td>\n",
       "      <td>9143</td>\n",
       "      <td>gyrA</td>\n",
       "      <td>c.1842T&gt;C</td>\n",
       "      <td>1.000000</td>\n",
       "      <td>synonymous_variant</td>\n",
       "      <td>lineage6.1.1</td>\n",
       "      <td>Sensitive</td>\n",
       "      <td>NaN</td>\n",
       "    </tr>\n",
       "    <tr>\n",
       "      <th>...</th>\n",
       "      <td>...</td>\n",
       "      <td>...</td>\n",
       "      <td>...</td>\n",
       "      <td>...</td>\n",
       "      <td>...</td>\n",
       "      <td>...</td>\n",
       "      <td>...</td>\n",
       "      <td>...</td>\n",
       "      <td>...</td>\n",
       "    </tr>\n",
       "    <tr>\n",
       "      <th>7420991</th>\n",
       "      <td>ERR718460</td>\n",
       "      <td>4328399</td>\n",
       "      <td>ethA</td>\n",
       "      <td>c.-926C&gt;T</td>\n",
       "      <td>0.986486</td>\n",
       "      <td>upstream_gene_variant</td>\n",
       "      <td>lineage2.2.1</td>\n",
       "      <td>Other</td>\n",
       "      <td>NaN</td>\n",
       "    </tr>\n",
       "    <tr>\n",
       "      <th>7420992</th>\n",
       "      <td>ERR718460</td>\n",
       "      <td>4338365</td>\n",
       "      <td>whiB6</td>\n",
       "      <td>p.Cys53Arg</td>\n",
       "      <td>1.000000</td>\n",
       "      <td>missense_variant</td>\n",
       "      <td>lineage2.2.1</td>\n",
       "      <td>Other</td>\n",
       "      <td>NaN</td>\n",
       "    </tr>\n",
       "    <tr>\n",
       "      <th>7420993</th>\n",
       "      <td>ERR718460</td>\n",
       "      <td>4338595</td>\n",
       "      <td>whiB6</td>\n",
       "      <td>c.-75delG</td>\n",
       "      <td>1.000000</td>\n",
       "      <td>upstream_gene_variant</td>\n",
       "      <td>lineage2.2.1</td>\n",
       "      <td>Other</td>\n",
       "      <td>NaN</td>\n",
       "    </tr>\n",
       "    <tr>\n",
       "      <th>7420994</th>\n",
       "      <td>ERR718460</td>\n",
       "      <td>4407588</td>\n",
       "      <td>gid</td>\n",
       "      <td>c.615A&gt;G</td>\n",
       "      <td>1.000000</td>\n",
       "      <td>synonymous_variant</td>\n",
       "      <td>lineage2.2.1</td>\n",
       "      <td>Other</td>\n",
       "      <td>NaN</td>\n",
       "    </tr>\n",
       "    <tr>\n",
       "      <th>7420995</th>\n",
       "      <td>ERR718460</td>\n",
       "      <td>4407927</td>\n",
       "      <td>gid</td>\n",
       "      <td>p.Glu92Asp</td>\n",
       "      <td>1.000000</td>\n",
       "      <td>missense_variant</td>\n",
       "      <td>lineage2.2.1</td>\n",
       "      <td>Other</td>\n",
       "      <td>NaN</td>\n",
       "    </tr>\n",
       "  </tbody>\n",
       "</table>\n",
       "<p>7420996 rows × 9 columns</p>\n",
       "</div>"
      ],
      "text/plain": [
       "          sample_id  genome_pos   gene       change      freq  \\\n",
       "0        ERR9787047        6446   gyrB  p.Ala403Ser  1.000000   \n",
       "1        ERR9787047        7362   gyrA   p.Glu21Gln  1.000000   \n",
       "2        ERR9787047        7585   gyrA   p.Ser95Thr  1.000000   \n",
       "3        ERR9787047        8493   gyrA  p.Leu398Phe  1.000000   \n",
       "4        ERR9787047        9143   gyrA    c.1842T>C  1.000000   \n",
       "...             ...         ...    ...          ...       ...   \n",
       "7420991   ERR718460     4328399   ethA    c.-926C>T  0.986486   \n",
       "7420992   ERR718460     4338365  whiB6   p.Cys53Arg  1.000000   \n",
       "7420993   ERR718460     4338595  whiB6    c.-75delG  1.000000   \n",
       "7420994   ERR718460     4407588    gid     c.615A>G  1.000000   \n",
       "7420995   ERR718460     4407927    gid   p.Glu92Asp  1.000000   \n",
       "\n",
       "                          type        sublin     drtype drugs  \n",
       "0             missense_variant  lineage6.1.1  Sensitive   NaN  \n",
       "1             missense_variant  lineage6.1.1  Sensitive   NaN  \n",
       "2             missense_variant  lineage6.1.1  Sensitive   NaN  \n",
       "3             missense_variant  lineage6.1.1  Sensitive   NaN  \n",
       "4           synonymous_variant  lineage6.1.1  Sensitive   NaN  \n",
       "...                        ...           ...        ...   ...  \n",
       "7420991  upstream_gene_variant  lineage2.2.1      Other   NaN  \n",
       "7420992       missense_variant  lineage2.2.1      Other   NaN  \n",
       "7420993  upstream_gene_variant  lineage2.2.1      Other   NaN  \n",
       "7420994     synonymous_variant  lineage2.2.1      Other   NaN  \n",
       "7420995       missense_variant  lineage2.2.1      Other   NaN  \n",
       "\n",
       "[7420996 rows x 9 columns]"
      ]
     },
     "execution_count": 25,
     "metadata": {},
     "output_type": "execute_result"
    }
   ],
   "source": [
    "full_data"
   ]
  },
  {
   "cell_type": "code",
   "execution_count": 17,
   "metadata": {},
   "outputs": [
    {
     "data": {
      "text/plain": [
       "(750,)"
      ]
     },
     "execution_count": 17,
     "metadata": {},
     "output_type": "execute_result"
    }
   ],
   "source": [
    "s7_variants['sample_id'].unique().tolist()"
   ]
  },
  {
   "cell_type": "code",
   "execution_count": null,
   "metadata": {},
   "outputs": [],
   "source": [
    "full_data['sample_id'].unique().tolist()"
   ]
  },
  {
   "cell_type": "code",
   "execution_count": 21,
   "metadata": {},
   "outputs": [],
   "source": [
    "overlap = set(s7_variants['sample_id'].unique().tolist()).intersection(set(full_data['sample_id'].unique().tolist()))\n"
   ]
  },
  {
   "cell_type": "code",
   "execution_count": null,
   "metadata": {},
   "outputs": [],
   "source": [
    "full_data[full_data['change']=='p.Ala403Ser']"
   ]
  },
  {
   "cell_type": "code",
   "execution_count": 7,
   "metadata": {},
   "outputs": [
    {
     "data": {
      "text/html": [
       "<div>\n",
       "<style scoped>\n",
       "    .dataframe tbody tr th:only-of-type {\n",
       "        vertical-align: middle;\n",
       "    }\n",
       "\n",
       "    .dataframe tbody tr th {\n",
       "        vertical-align: top;\n",
       "    }\n",
       "\n",
       "    .dataframe thead th {\n",
       "        text-align: right;\n",
       "    }\n",
       "</style>\n",
       "<table border=\"1\" class=\"dataframe\">\n",
       "  <thead>\n",
       "    <tr style=\"text-align: right;\">\n",
       "      <th></th>\n",
       "      <th>sample_id</th>\n",
       "      <th>genome_pos</th>\n",
       "      <th>gene</th>\n",
       "      <th>change</th>\n",
       "      <th>freq</th>\n",
       "      <th>type</th>\n",
       "      <th>sublin</th>\n",
       "      <th>drtype</th>\n",
       "      <th>drugs</th>\n",
       "    </tr>\n",
       "  </thead>\n",
       "  <tbody>\n",
       "    <tr>\n",
       "      <th>0</th>\n",
       "      <td>ERR9787047</td>\n",
       "      <td>6446</td>\n",
       "      <td>gyrB</td>\n",
       "      <td>p.Ala403Ser</td>\n",
       "      <td>1.000000</td>\n",
       "      <td>missense_variant</td>\n",
       "      <td>lineage6.1.1</td>\n",
       "      <td>Sensitive</td>\n",
       "      <td>NaN</td>\n",
       "    </tr>\n",
       "    <tr>\n",
       "      <th>141</th>\n",
       "      <td>SRR8902561</td>\n",
       "      <td>6446</td>\n",
       "      <td>gyrB</td>\n",
       "      <td>p.Ala403Ser</td>\n",
       "      <td>1.000000</td>\n",
       "      <td>missense_variant</td>\n",
       "      <td>La1.8.1</td>\n",
       "      <td>Other</td>\n",
       "      <td>NaN</td>\n",
       "    </tr>\n",
       "    <tr>\n",
       "      <th>2273</th>\n",
       "      <td>ERR2815611</td>\n",
       "      <td>6446</td>\n",
       "      <td>gyrB</td>\n",
       "      <td>p.Ala403Ser</td>\n",
       "      <td>0.985075</td>\n",
       "      <td>missense_variant</td>\n",
       "      <td>La1.1</td>\n",
       "      <td>Sensitive</td>\n",
       "      <td>NaN</td>\n",
       "    </tr>\n",
       "    <tr>\n",
       "      <th>2336</th>\n",
       "      <td>ERR3439434</td>\n",
       "      <td>6446</td>\n",
       "      <td>gyrB</td>\n",
       "      <td>p.Ala403Ser</td>\n",
       "      <td>1.000000</td>\n",
       "      <td>missense_variant</td>\n",
       "      <td>La1.8.1</td>\n",
       "      <td>Other</td>\n",
       "      <td>NaN</td>\n",
       "    </tr>\n",
       "    <tr>\n",
       "      <th>3706</th>\n",
       "      <td>SRR14782548</td>\n",
       "      <td>6446</td>\n",
       "      <td>gyrB</td>\n",
       "      <td>p.Ala403Ser</td>\n",
       "      <td>0.976190</td>\n",
       "      <td>missense_variant</td>\n",
       "      <td>La1.2.BCG</td>\n",
       "      <td>Other</td>\n",
       "      <td>NaN</td>\n",
       "    </tr>\n",
       "    <tr>\n",
       "      <th>...</th>\n",
       "      <td>...</td>\n",
       "      <td>...</td>\n",
       "      <td>...</td>\n",
       "      <td>...</td>\n",
       "      <td>...</td>\n",
       "      <td>...</td>\n",
       "      <td>...</td>\n",
       "      <td>...</td>\n",
       "      <td>...</td>\n",
       "    </tr>\n",
       "    <tr>\n",
       "      <th>7414917</th>\n",
       "      <td>ERR2512732</td>\n",
       "      <td>6446</td>\n",
       "      <td>gyrB</td>\n",
       "      <td>p.Ala403Ser</td>\n",
       "      <td>1.000000</td>\n",
       "      <td>missense_variant</td>\n",
       "      <td>La1.8.1</td>\n",
       "      <td>Other</td>\n",
       "      <td>NaN</td>\n",
       "    </tr>\n",
       "    <tr>\n",
       "      <th>7415030</th>\n",
       "      <td>ERR192047</td>\n",
       "      <td>6446</td>\n",
       "      <td>gyrB</td>\n",
       "      <td>p.Ala403Ser</td>\n",
       "      <td>1.000000</td>\n",
       "      <td>missense_variant</td>\n",
       "      <td>La1.8.1</td>\n",
       "      <td>Other</td>\n",
       "      <td>NaN</td>\n",
       "    </tr>\n",
       "    <tr>\n",
       "      <th>7415606</th>\n",
       "      <td>ERR4192560</td>\n",
       "      <td>6446</td>\n",
       "      <td>gyrB</td>\n",
       "      <td>p.Ala403Ser</td>\n",
       "      <td>1.000000</td>\n",
       "      <td>missense_variant</td>\n",
       "      <td>lineage6.1.1</td>\n",
       "      <td>Sensitive</td>\n",
       "      <td>NaN</td>\n",
       "    </tr>\n",
       "    <tr>\n",
       "      <th>7415792</th>\n",
       "      <td>SRR1735567</td>\n",
       "      <td>6446</td>\n",
       "      <td>gyrB</td>\n",
       "      <td>p.Ala403Ser</td>\n",
       "      <td>1.000000</td>\n",
       "      <td>missense_variant</td>\n",
       "      <td>La1.2.BCG</td>\n",
       "      <td>Other</td>\n",
       "      <td>NaN</td>\n",
       "    </tr>\n",
       "    <tr>\n",
       "      <th>7420193</th>\n",
       "      <td>ERR4188235</td>\n",
       "      <td>6446</td>\n",
       "      <td>gyrB</td>\n",
       "      <td>p.Ala403Ser</td>\n",
       "      <td>1.000000</td>\n",
       "      <td>missense_variant</td>\n",
       "      <td>La1.8.1</td>\n",
       "      <td>Other</td>\n",
       "      <td>NaN</td>\n",
       "    </tr>\n",
       "  </tbody>\n",
       "</table>\n",
       "<p>10112 rows × 9 columns</p>\n",
       "</div>"
      ],
      "text/plain": [
       "           sample_id  genome_pos  gene       change      freq  \\\n",
       "0         ERR9787047        6446  gyrB  p.Ala403Ser  1.000000   \n",
       "141       SRR8902561        6446  gyrB  p.Ala403Ser  1.000000   \n",
       "2273      ERR2815611        6446  gyrB  p.Ala403Ser  0.985075   \n",
       "2336      ERR3439434        6446  gyrB  p.Ala403Ser  1.000000   \n",
       "3706     SRR14782548        6446  gyrB  p.Ala403Ser  0.976190   \n",
       "...              ...         ...   ...          ...       ...   \n",
       "7414917   ERR2512732        6446  gyrB  p.Ala403Ser  1.000000   \n",
       "7415030    ERR192047        6446  gyrB  p.Ala403Ser  1.000000   \n",
       "7415606   ERR4192560        6446  gyrB  p.Ala403Ser  1.000000   \n",
       "7415792   SRR1735567        6446  gyrB  p.Ala403Ser  1.000000   \n",
       "7420193   ERR4188235        6446  gyrB  p.Ala403Ser  1.000000   \n",
       "\n",
       "                     type        sublin     drtype drugs  \n",
       "0        missense_variant  lineage6.1.1  Sensitive   NaN  \n",
       "141      missense_variant       La1.8.1      Other   NaN  \n",
       "2273     missense_variant         La1.1  Sensitive   NaN  \n",
       "2336     missense_variant       La1.8.1      Other   NaN  \n",
       "3706     missense_variant     La1.2.BCG      Other   NaN  \n",
       "...                   ...           ...        ...   ...  \n",
       "7414917  missense_variant       La1.8.1      Other   NaN  \n",
       "7415030  missense_variant       La1.8.1      Other   NaN  \n",
       "7415606  missense_variant  lineage6.1.1  Sensitive   NaN  \n",
       "7415792  missense_variant     La1.2.BCG      Other   NaN  \n",
       "7420193  missense_variant       La1.8.1      Other   NaN  \n",
       "\n",
       "[10112 rows x 9 columns]"
      ]
     },
     "execution_count": 7,
     "metadata": {},
     "output_type": "execute_result"
    }
   ],
   "source": [
    "full_data[full_data['change']=='p.Ala403Ser']"
   ]
  },
  {
   "cell_type": "code",
   "execution_count": 5,
   "metadata": {},
   "outputs": [
    {
     "data": {
      "text/plain": [
       "(7420996, 9)"
      ]
     },
     "execution_count": 5,
     "metadata": {},
     "output_type": "execute_result"
    }
   ],
   "source": [
    "full_data.shape"
   ]
  },
  {
   "cell_type": "code",
   "execution_count": null,
   "metadata": {},
   "outputs": [],
   "source": [
    "full_data"
   ]
  },
  {
   "cell_type": "code",
   "execution_count": 19,
   "metadata": {},
   "outputs": [],
   "source": [
    "import random\n",
    "\n",
    "def generate_random_gene_seq(length):\n",
    "    bases = ['A', 'T', 'C', 'G']\n",
    "    return ''.join(random.choice(bases) for _ in range(length))\n",
    "\n",
    "random_gene_seq = generate_random_gene_seq(300)\n",
    "# print(f\"Random Gene Sequence of Length 100: {random_gene_seq}\")\n"
   ]
  },
  {
   "cell_type": "code",
   "execution_count": 23,
   "metadata": {},
   "outputs": [
    {
     "data": {
      "text/plain": [
       "'CGTCTGTACATGCCGCTCTATTACAATTATTCCACAAGGGTCAAGGGGCCGCTGCGCTCGGAACGCTCGTGATAGCGCTATCTCAACGCTATTACGGTAGATTCGACTTAAACACATACCTAAGCGCAAGGTAGCACGGCGGGCGTCTTTTAAACTTGGGCATCGCGACCACCGGCCAATTACGGTTTAGCTATCGTCTTACTTAGGCTATAGAGCGCTTTGCCAGAACAAAGGAAAGCGTAAGGATAACCACGGTTCGATGTTGATGGGCGACGACAGGTAGCTCGATCCTCCACTCCG'"
      ]
     },
     "execution_count": 23,
     "metadata": {},
     "output_type": "execute_result"
    }
   ],
   "source": [
    "random_gene_seq"
   ]
  },
  {
   "cell_type": "code",
   "execution_count": 22,
   "metadata": {},
   "outputs": [
    {
     "name": "stdout",
     "output_type": "stream",
     "text": [
      "PRIMER_LEFT_EXPLAIN: considered 1488, GC content failed 5, low tm 540, high tm 553, high hairpin stability 11, ok 379\n",
      "PRIMER_RIGHT_EXPLAIN: considered 1488, low tm 458, high tm 490, ok 540\n",
      "PRIMER_INTERNAL_EXPLAIN: considered 2635, GC content failed 5, low tm 1501, high tm 384, high hairpin stability 26, ok 719\n",
      "PRIMER_PAIR_EXPLAIN: considered 24, unacceptable product size 18, ok 6\n",
      "PRIMER_LEFT_NUM_RETURNED: 5\n",
      "PRIMER_RIGHT_NUM_RETURNED: 5\n",
      "PRIMER_INTERNAL_NUM_RETURNED: 5\n",
      "PRIMER_PAIR_NUM_RETURNED: 5\n",
      "PRIMER_PAIR: [{'PENALTY': 0.42132891917782445, 'COMPL_ANY_TH': 0.0, 'COMPL_END_TH': 0.0, 'PRODUCT_SIZE': 119, 'PRODUCT_TM': 83.74517309519567}, {'PENALTY': 0.44012224215788365, 'COMPL_ANY_TH': 0.0, 'COMPL_END_TH': 0.0, 'PRODUCT_SIZE': 204, 'PRODUCT_TM': 86.62122351536374}, {'PENALTY': 0.44066222716770653, 'COMPL_ANY_TH': 0.0, 'COMPL_END_TH': 0.0, 'PRODUCT_SIZE': 205, 'PRODUCT_TM': 86.7326295411887}, {'PENALTY': 0.4442396702864926, 'COMPL_ANY_TH': 0.0, 'COMPL_END_TH': 0.0, 'PRODUCT_SIZE': 202, 'PRODUCT_TM': 86.80104296789722}, {'PENALTY': 0.4514970354201182, 'COMPL_ANY_TH': 0.0, 'COMPL_END_TH': 0.0, 'PRODUCT_SIZE': 262, 'PRODUCT_TM': 87.45182522169512}]\n",
      "PRIMER_LEFT: [{'PENALTY': 0.37931569698349676, 'SEQUENCE': 'CCGGCCAATTACGGTTTAGC', 'COORDS': [171, 20], 'TM': 59.6206843030165, 'GC_PERCENT': 55.0, 'SELF_ANY_TH': 2.236646359005192, 'SELF_END_TH': 0.0, 'HAIRPIN_TH': 44.85416666299585, 'END_STABILITY': 3.09}, {'PENALTY': 0.4094838132257905, 'SEQUENCE': 'ATTCCACAAGGGTCAAGGGG', 'COORDS': [28, 20], 'TM': 59.59051618677421, 'GC_PERCENT': 55.0, 'SELF_ANY_TH': 0.0, 'SELF_END_TH': 0.0, 'HAIRPIN_TH': 38.11191835318118, 'END_STABILITY': 4.79}, {'PENALTY': 0.4094838132257905, 'SEQUENCE': 'ATTCCACAAGGGTCAAGGGG', 'COORDS': [28, 20], 'TM': 59.59051618677421, 'GC_PERCENT': 55.0, 'SELF_ANY_TH': 0.0, 'SELF_END_TH': 0.0, 'HAIRPIN_TH': 38.11191835318118, 'END_STABILITY': 4.79}, {'PENALTY': 0.4094838132257905, 'SEQUENCE': 'ATTCCACAAGGGTCAAGGGG', 'COORDS': [28, 20], 'TM': 59.59051618677421, 'GC_PERCENT': 55.0, 'SELF_ANY_TH': 0.0, 'SELF_END_TH': 0.0, 'HAIRPIN_TH': 38.11191835318118, 'END_STABILITY': 4.79}, {'PENALTY': 0.4094838132257905, 'SEQUENCE': 'ATTCCACAAGGGTCAAGGGG', 'COORDS': [28, 20], 'TM': 59.59051618677421, 'GC_PERCENT': 55.0, 'SELF_ANY_TH': 0.0, 'SELF_END_TH': 0.0, 'HAIRPIN_TH': 38.11191835318118, 'END_STABILITY': 4.79}]\n",
      "PRIMER_RIGHT: [{'PENALTY': 0.04201322219432768, 'SEQUENCE': 'GATCGAGCTACCTGTCGTCG', 'COORDS': [289, 20], 'TM': 60.04201322219433, 'GC_PERCENT': 60.0, 'SELF_ANY_TH': 0.0, 'SELF_END_TH': 0.0, 'HAIRPIN_TH': 37.46089260988566, 'END_STABILITY': 5.12}, {'PENALTY': 0.03063842893209312, 'SEQUENCE': 'TTTGTTCTGGCAAAGCGCTC', 'COORDS': [231, 20], 'TM': 59.96936157106791, 'GC_PERCENT': 50.0, 'SELF_ANY_TH': 12.056413739117374, 'SELF_END_TH': 0.0, 'HAIRPIN_TH': 41.911649083362136, 'END_STABILITY': 5.03}, {'PENALTY': 0.031178413941916006, 'SEQUENCE': 'CTTTGTTCTGGCAAAGCGCT', 'COORDS': [232, 20], 'TM': 59.968821586058084, 'GC_PERCENT': 50.0, 'SELF_ANY_TH': 2.6374023557038413, 'SELF_END_TH': 2.6374023557038413, 'HAIRPIN_TH': 45.57475054917268, 'END_STABILITY': 5.92}, {'PENALTY': 0.034755857060702056, 'SEQUENCE': 'TGTTCTGGCAAAGCGCTCTA', 'COORDS': [229, 20], 'TM': 59.9652441429393, 'GC_PERCENT': 50.0, 'SELF_ANY_TH': 12.056413739117374, 'SELF_END_TH': 0.0, 'HAIRPIN_TH': 41.911649083362136, 'END_STABILITY': 2.43}, {'PENALTY': 0.04201322219432768, 'SEQUENCE': 'GATCGAGCTACCTGTCGTCG', 'COORDS': [289, 20], 'TM': 60.04201322219433, 'GC_PERCENT': 60.0, 'SELF_ANY_TH': 0.0, 'SELF_END_TH': 0.0, 'HAIRPIN_TH': 37.46089260988566, 'END_STABILITY': 5.12}]\n",
      "PRIMER_INTERNAL: [{'PENALTY': 4.380910805419035, 'SEQUENCE': 'AGCGCTTTGCCAGAACAAAGGA', 'COORDS': [213, 22], 'TM': 57.619089194580965, 'GC_PERCENT': 50.0, 'SELF_ANY_TH': 0.0, 'SELF_END_TH': 0.0, 'HAIRPIN_TH': 46.21830111992318}, {'PENALTY': 0.04413418366300448, 'SEQUENCE': 'GTAGCACGGCGGGCGTCTTT', 'COORDS': [130, 20], 'TM': 60.044134183663004, 'GC_PERCENT': 65.0, 'SELF_ANY_TH': 25.893126130569158, 'SELF_END_TH': 9.303165116169112, 'HAIRPIN_TH': 33.97899652747088}, {'PENALTY': 0.04413418366300448, 'SEQUENCE': 'GTAGCACGGCGGGCGTCTTT', 'COORDS': [130, 20], 'TM': 60.044134183663004, 'GC_PERCENT': 65.0, 'SELF_ANY_TH': 25.893126130569158, 'SELF_END_TH': 9.303165116169112, 'HAIRPIN_TH': 33.97899652747088}, {'PENALTY': 0.04413418366300448, 'SEQUENCE': 'GTAGCACGGCGGGCGTCTTT', 'COORDS': [130, 20], 'TM': 60.044134183663004, 'GC_PERCENT': 65.0, 'SELF_ANY_TH': 25.893126130569158, 'SELF_END_TH': 9.303165116169112, 'HAIRPIN_TH': 33.97899652747088}, {'PENALTY': 0.04413418366300448, 'SEQUENCE': 'GTAGCACGGCGGGCGTCTTT', 'COORDS': [130, 20], 'TM': 60.044134183663004, 'GC_PERCENT': 65.0, 'SELF_ANY_TH': 25.893126130569158, 'SELF_END_TH': 9.303165116169112, 'HAIRPIN_TH': 33.97899652747088}]\n",
      "PRIMER_PAIR_0_PENALTY: 0.42132891917782445\n",
      "PRIMER_LEFT_0_PENALTY: 0.37931569698349676\n",
      "PRIMER_RIGHT_0_PENALTY: 0.04201322219432768\n",
      "PRIMER_INTERNAL_0_PENALTY: 4.380910805419035\n",
      "PRIMER_LEFT_0_SEQUENCE: CCGGCCAATTACGGTTTAGC\n",
      "PRIMER_RIGHT_0_SEQUENCE: GATCGAGCTACCTGTCGTCG\n",
      "PRIMER_INTERNAL_0_SEQUENCE: AGCGCTTTGCCAGAACAAAGGA\n",
      "PRIMER_LEFT_0: [171, 20]\n",
      "PRIMER_RIGHT_0: [289, 20]\n",
      "PRIMER_INTERNAL_0: [213, 22]\n",
      "PRIMER_LEFT_0_TM: 59.6206843030165\n",
      "PRIMER_RIGHT_0_TM: 60.04201322219433\n",
      "PRIMER_INTERNAL_0_TM: 57.619089194580965\n",
      "PRIMER_LEFT_0_GC_PERCENT: 55.0\n",
      "PRIMER_RIGHT_0_GC_PERCENT: 60.0\n",
      "PRIMER_INTERNAL_0_GC_PERCENT: 50.0\n",
      "PRIMER_LEFT_0_SELF_ANY_TH: 2.236646359005192\n",
      "PRIMER_RIGHT_0_SELF_ANY_TH: 0.0\n",
      "PRIMER_INTERNAL_0_SELF_ANY_TH: 0.0\n",
      "PRIMER_LEFT_0_SELF_END_TH: 0.0\n",
      "PRIMER_RIGHT_0_SELF_END_TH: 0.0\n",
      "PRIMER_INTERNAL_0_SELF_END_TH: 0.0\n",
      "PRIMER_LEFT_0_HAIRPIN_TH: 44.85416666299585\n",
      "PRIMER_RIGHT_0_HAIRPIN_TH: 37.46089260988566\n",
      "PRIMER_INTERNAL_0_HAIRPIN_TH: 46.21830111992318\n",
      "PRIMER_LEFT_0_END_STABILITY: 3.09\n",
      "PRIMER_RIGHT_0_END_STABILITY: 5.12\n",
      "PRIMER_PAIR_0_COMPL_ANY_TH: 0.0\n",
      "PRIMER_PAIR_0_COMPL_END_TH: 0.0\n",
      "PRIMER_PAIR_0_PRODUCT_SIZE: 119\n",
      "PRIMER_PAIR_0_PRODUCT_TM: 83.74517309519567\n",
      "PRIMER_PAIR_1_PENALTY: 0.44012224215788365\n",
      "PRIMER_LEFT_1_PENALTY: 0.4094838132257905\n",
      "PRIMER_RIGHT_1_PENALTY: 0.03063842893209312\n",
      "PRIMER_INTERNAL_1_PENALTY: 0.04413418366300448\n",
      "PRIMER_LEFT_1_SEQUENCE: ATTCCACAAGGGTCAAGGGG\n",
      "PRIMER_RIGHT_1_SEQUENCE: TTTGTTCTGGCAAAGCGCTC\n",
      "PRIMER_INTERNAL_1_SEQUENCE: GTAGCACGGCGGGCGTCTTT\n",
      "PRIMER_LEFT_1: [28, 20]\n",
      "PRIMER_RIGHT_1: [231, 20]\n",
      "PRIMER_INTERNAL_1: [130, 20]\n",
      "PRIMER_LEFT_1_TM: 59.59051618677421\n",
      "PRIMER_RIGHT_1_TM: 59.96936157106791\n",
      "PRIMER_INTERNAL_1_TM: 60.044134183663004\n",
      "PRIMER_LEFT_1_GC_PERCENT: 55.0\n",
      "PRIMER_RIGHT_1_GC_PERCENT: 50.0\n",
      "PRIMER_INTERNAL_1_GC_PERCENT: 65.0\n",
      "PRIMER_LEFT_1_SELF_ANY_TH: 0.0\n",
      "PRIMER_RIGHT_1_SELF_ANY_TH: 12.056413739117374\n",
      "PRIMER_INTERNAL_1_SELF_ANY_TH: 25.893126130569158\n",
      "PRIMER_LEFT_1_SELF_END_TH: 0.0\n",
      "PRIMER_RIGHT_1_SELF_END_TH: 0.0\n",
      "PRIMER_INTERNAL_1_SELF_END_TH: 9.303165116169112\n",
      "PRIMER_LEFT_1_HAIRPIN_TH: 38.11191835318118\n",
      "PRIMER_RIGHT_1_HAIRPIN_TH: 41.911649083362136\n",
      "PRIMER_INTERNAL_1_HAIRPIN_TH: 33.97899652747088\n",
      "PRIMER_LEFT_1_END_STABILITY: 4.79\n",
      "PRIMER_RIGHT_1_END_STABILITY: 5.03\n",
      "PRIMER_PAIR_1_COMPL_ANY_TH: 0.0\n",
      "PRIMER_PAIR_1_COMPL_END_TH: 0.0\n",
      "PRIMER_PAIR_1_PRODUCT_SIZE: 204\n",
      "PRIMER_PAIR_1_PRODUCT_TM: 86.62122351536374\n",
      "PRIMER_PAIR_2_PENALTY: 0.44066222716770653\n",
      "PRIMER_LEFT_2_PENALTY: 0.4094838132257905\n",
      "PRIMER_RIGHT_2_PENALTY: 0.031178413941916006\n",
      "PRIMER_INTERNAL_2_PENALTY: 0.04413418366300448\n",
      "PRIMER_LEFT_2_SEQUENCE: ATTCCACAAGGGTCAAGGGG\n",
      "PRIMER_RIGHT_2_SEQUENCE: CTTTGTTCTGGCAAAGCGCT\n",
      "PRIMER_INTERNAL_2_SEQUENCE: GTAGCACGGCGGGCGTCTTT\n",
      "PRIMER_LEFT_2: [28, 20]\n",
      "PRIMER_RIGHT_2: [232, 20]\n",
      "PRIMER_INTERNAL_2: [130, 20]\n",
      "PRIMER_LEFT_2_TM: 59.59051618677421\n",
      "PRIMER_RIGHT_2_TM: 59.968821586058084\n",
      "PRIMER_INTERNAL_2_TM: 60.044134183663004\n",
      "PRIMER_LEFT_2_GC_PERCENT: 55.0\n",
      "PRIMER_RIGHT_2_GC_PERCENT: 50.0\n",
      "PRIMER_INTERNAL_2_GC_PERCENT: 65.0\n",
      "PRIMER_LEFT_2_SELF_ANY_TH: 0.0\n",
      "PRIMER_RIGHT_2_SELF_ANY_TH: 2.6374023557038413\n",
      "PRIMER_INTERNAL_2_SELF_ANY_TH: 25.893126130569158\n",
      "PRIMER_LEFT_2_SELF_END_TH: 0.0\n",
      "PRIMER_RIGHT_2_SELF_END_TH: 2.6374023557038413\n",
      "PRIMER_INTERNAL_2_SELF_END_TH: 9.303165116169112\n",
      "PRIMER_LEFT_2_HAIRPIN_TH: 38.11191835318118\n",
      "PRIMER_RIGHT_2_HAIRPIN_TH: 45.57475054917268\n",
      "PRIMER_INTERNAL_2_HAIRPIN_TH: 33.97899652747088\n",
      "PRIMER_LEFT_2_END_STABILITY: 4.79\n",
      "PRIMER_RIGHT_2_END_STABILITY: 5.92\n",
      "PRIMER_PAIR_2_COMPL_ANY_TH: 0.0\n",
      "PRIMER_PAIR_2_COMPL_END_TH: 0.0\n",
      "PRIMER_PAIR_2_PRODUCT_SIZE: 205\n",
      "PRIMER_PAIR_2_PRODUCT_TM: 86.7326295411887\n",
      "PRIMER_PAIR_3_PENALTY: 0.4442396702864926\n",
      "PRIMER_LEFT_3_PENALTY: 0.4094838132257905\n",
      "PRIMER_RIGHT_3_PENALTY: 0.034755857060702056\n",
      "PRIMER_INTERNAL_3_PENALTY: 0.04413418366300448\n",
      "PRIMER_LEFT_3_SEQUENCE: ATTCCACAAGGGTCAAGGGG\n",
      "PRIMER_RIGHT_3_SEQUENCE: TGTTCTGGCAAAGCGCTCTA\n",
      "PRIMER_INTERNAL_3_SEQUENCE: GTAGCACGGCGGGCGTCTTT\n",
      "PRIMER_LEFT_3: [28, 20]\n",
      "PRIMER_RIGHT_3: [229, 20]\n",
      "PRIMER_INTERNAL_3: [130, 20]\n",
      "PRIMER_LEFT_3_TM: 59.59051618677421\n",
      "PRIMER_RIGHT_3_TM: 59.9652441429393\n",
      "PRIMER_INTERNAL_3_TM: 60.044134183663004\n",
      "PRIMER_LEFT_3_GC_PERCENT: 55.0\n",
      "PRIMER_RIGHT_3_GC_PERCENT: 50.0\n",
      "PRIMER_INTERNAL_3_GC_PERCENT: 65.0\n",
      "PRIMER_LEFT_3_SELF_ANY_TH: 0.0\n",
      "PRIMER_RIGHT_3_SELF_ANY_TH: 12.056413739117374\n",
      "PRIMER_INTERNAL_3_SELF_ANY_TH: 25.893126130569158\n",
      "PRIMER_LEFT_3_SELF_END_TH: 0.0\n",
      "PRIMER_RIGHT_3_SELF_END_TH: 0.0\n",
      "PRIMER_INTERNAL_3_SELF_END_TH: 9.303165116169112\n",
      "PRIMER_LEFT_3_HAIRPIN_TH: 38.11191835318118\n",
      "PRIMER_RIGHT_3_HAIRPIN_TH: 41.911649083362136\n",
      "PRIMER_INTERNAL_3_HAIRPIN_TH: 33.97899652747088\n",
      "PRIMER_LEFT_3_END_STABILITY: 4.79\n",
      "PRIMER_RIGHT_3_END_STABILITY: 2.43\n",
      "PRIMER_PAIR_3_COMPL_ANY_TH: 0.0\n",
      "PRIMER_PAIR_3_COMPL_END_TH: 0.0\n",
      "PRIMER_PAIR_3_PRODUCT_SIZE: 202\n",
      "PRIMER_PAIR_3_PRODUCT_TM: 86.80104296789722\n",
      "PRIMER_PAIR_4_PENALTY: 0.4514970354201182\n",
      "PRIMER_LEFT_4_PENALTY: 0.4094838132257905\n",
      "PRIMER_RIGHT_4_PENALTY: 0.04201322219432768\n",
      "PRIMER_INTERNAL_4_PENALTY: 0.04413418366300448\n",
      "PRIMER_LEFT_4_SEQUENCE: ATTCCACAAGGGTCAAGGGG\n",
      "PRIMER_RIGHT_4_SEQUENCE: GATCGAGCTACCTGTCGTCG\n",
      "PRIMER_INTERNAL_4_SEQUENCE: GTAGCACGGCGGGCGTCTTT\n",
      "PRIMER_LEFT_4: [28, 20]\n",
      "PRIMER_RIGHT_4: [289, 20]\n",
      "PRIMER_INTERNAL_4: [130, 20]\n",
      "PRIMER_LEFT_4_TM: 59.59051618677421\n",
      "PRIMER_RIGHT_4_TM: 60.04201322219433\n",
      "PRIMER_INTERNAL_4_TM: 60.044134183663004\n",
      "PRIMER_LEFT_4_GC_PERCENT: 55.0\n",
      "PRIMER_RIGHT_4_GC_PERCENT: 60.0\n",
      "PRIMER_INTERNAL_4_GC_PERCENT: 65.0\n",
      "PRIMER_LEFT_4_SELF_ANY_TH: 0.0\n",
      "PRIMER_RIGHT_4_SELF_ANY_TH: 0.0\n",
      "PRIMER_INTERNAL_4_SELF_ANY_TH: 25.893126130569158\n",
      "PRIMER_LEFT_4_SELF_END_TH: 0.0\n",
      "PRIMER_RIGHT_4_SELF_END_TH: 0.0\n",
      "PRIMER_INTERNAL_4_SELF_END_TH: 9.303165116169112\n",
      "PRIMER_LEFT_4_HAIRPIN_TH: 38.11191835318118\n",
      "PRIMER_RIGHT_4_HAIRPIN_TH: 37.46089260988566\n",
      "PRIMER_INTERNAL_4_HAIRPIN_TH: 33.97899652747088\n",
      "PRIMER_LEFT_4_END_STABILITY: 4.79\n",
      "PRIMER_RIGHT_4_END_STABILITY: 5.12\n",
      "PRIMER_PAIR_4_COMPL_ANY_TH: 0.0\n",
      "PRIMER_PAIR_4_COMPL_END_TH: 0.0\n",
      "PRIMER_PAIR_4_PRODUCT_SIZE: 262\n",
      "PRIMER_PAIR_4_PRODUCT_TM: 87.45182522169512\n"
     ]
    }
   ],
   "source": [
    "import primer3\n",
    "\n",
    "# Define sequence arguments\n",
    "seq_args = {\n",
    "    'SEQUENCE_ID': 'example',\n",
    "    'SEQUENCE_TEMPLATE': random_gene_seq,\n",
    "    'SEQUENCE_INCLUDED_REGION': [15, len(random_gene_seq) - 15]\n",
    "}\n",
    "\n",
    "# Define global arguments\n",
    "global_args = {\n",
    "    'PRIMER_TASK': 'generic',\n",
    "    'PRIMER_PICK_LEFT_PRIMER': 1,\n",
    "    'PRIMER_PICK_INTERNAL_OLIGO': 1,\n",
    "    'PRIMER_PICK_RIGHT_PRIMER': 1,\n",
    "    'PRIMER_OPT_SIZE': 20,\n",
    "    'PRIMER_MIN_SIZE': 18,\n",
    "    'PRIMER_MAX_SIZE': 25,\n",
    "    'PRIMER_NUM_RETURN': 5,\n",
    "    'PRIMER_MIN_TM': 57.0,\n",
    "    'PRIMER_MAX_TM': 63.0,\n",
    "    'PRIMER_MIN_GC': 20.0,\n",
    "    'PRIMER_MAX_GC': 80.0,\n",
    "    'PRIMER_MAX_POLY_X': 100,\n",
    "    'PRIMER_INTERNAL_MAX_POLY_X': 100,\n",
    "    'PRIMER_SALT_MONOVALENT': 50.0,\n",
    "    'PRIMER_DNA_CONC': 50.0,\n",
    "    'PRIMER_MAX_NS_ACCEPTED': 0,\n",
    "    'PRIMER_MAX_SELF_ANY': 12,\n",
    "    'PRIMER_MAX_SELF_END': 8,\n",
    "    'PRIMER_PAIR_MAX_COMPL_ANY': 12,\n",
    "    'PRIMER_PAIR_MAX_COMPL_END': 8\n",
    "}\n",
    "\n",
    "# Run the primer design\n",
    "designs = primer3.design_primers(seq_args, global_args)\n",
    "designs = bindings.design_primers(seq_args, global_args)\n",
    "\n",
    "# Output results\n",
    "for key, value in designs.items():\n",
    "    print(f\"{key}: {value}\")\n"
   ]
  },
  {
   "cell_type": "code",
   "execution_count": 12,
   "metadata": {},
   "outputs": [
    {
     "name": "stdout",
     "output_type": "stream",
     "text": [
      "Start of SEQUENCE_INCLUDED_REGION:  1\n",
      "Length of SEQUENCE_INCLUDED_REGION:  70\n",
      "Total length of SEQUENCE_TEMPLATE:  71\n"
     ]
    }
   ],
   "source": [
    "# Print to validate\n",
    "print(\"Start of SEQUENCE_INCLUDED_REGION: \", seq_args['SEQUENCE_INCLUDED_REGION'][0])\n",
    "print(\"Length of SEQUENCE_INCLUDED_REGION: \", seq_args['SEQUENCE_INCLUDED_REGION'][1])\n",
    "print(\"Total length of SEQUENCE_TEMPLATE: \", len(seq_args['SEQUENCE_TEMPLATE']))\n",
    "\n",
    "# Validate bounds\n",
    "if seq_args['SEQUENCE_INCLUDED_REGION'][0] + seq_args['SEQUENCE_INCLUDED_REGION'][1] > len(seq_args['SEQUENCE_TEMPLATE']):\n",
    "    print(\"Error: SEQUENCE_INCLUDED_REGION is out of bounds\")\n"
   ]
  },
  {
   "cell_type": "code",
   "execution_count": 3,
   "metadata": {},
   "outputs": [
    {
     "data": {
      "text/plain": [
       "1500"
      ]
     },
     "execution_count": 3,
     "metadata": {},
     "output_type": "execute_result"
    }
   ],
   "source": [
    "seq = 'AGTGCTTTCGCACGTCGTACCCCTCGGGTAGCTGGCGCTGGATCAGGCTCAGGAACATCTTCCGCATGCGCCGTGGCCACTTCTGGCAGGCGCTGTACACGGCCGCCTGGCGCAGCACGTTCTTCCACCGTACCGCGGTGTAGGCCATGGTCTCCGGCAGCCAGCGGTTGAGCTTCTCGGCGATGCCGTCCCGGTCTGGCTGCGACACGATGTAGGTGGGTGAGCGCTGCAGCATCGTGACGTGCTTGGCGCCCGAGTCCGCCAGCGCCGGCACGAGCGTGACCGCCGTTGCGCCACTGCCGATCACGACGATGTTCTTAGCGTCGTAGTCGAGGTCCTCGGGCCAGTGCTGCGGATGGATGATCGGCCCGACGAAATCCTCCGAGCCGGCGAATCTCGGCGAGTAGCCCTCGTCGTAGTTGTAGTAGCCGCTGCACAGAAAGAGGAATTCGCAGGTGAGGGCGCTGAGCGTGCCGTGGCTTTGGATGTGAACGGTCCAGCGGTTTTCCGCGGTCGACCAATCGGCACTGATCACCTTGTGGTGGAACCGGATATGCCTGTCGATTCCATACATGGCCGCGGTGCTCTTGACGTACTCGAGGATGGGCTTGCCGTCGGCGATCGCCTGCCGTCCGGTCCAGGGACGGAATCGGAAACCTAGCGTGTACATGTCGGAGTCGGAGCGAATTCCGGGATAACGGAACAAATCCCAGGTGCCGCCCATGGATTCCCGCTTTTCCAGGATGGCGTAGCTCTTGGTCGGGCAACGGTCCTGCAGGTGCCAGGCCGCGCTGACACCGGAGATTCCAGCGCCCACGATGACAACGTCGAGGTGCTCGGTCATGGATCCACGCTATCAACGTAATGTCGAGGCCGTCAACGAGATGTCGACACTATCGACACGTAGTAAGCTGCCAGGGTGACCACCTCCGCGGCCAGTCAGGCTTCGCTGCCTAGGGGCCGGCGCACCGCGCGGCCGTCCGGCGACGATCGTGAACTGGCGATCCTCGCCACCGCCGAGAACCTTCTCGAGGACCGTCCGCTGGCCGATATCTCGGTCGACGATCTGGCCAAGGGCGCCGGTATCTCGAGGCCGACGTTCTACTTCTATTTCCCATCCAAGGAAGCGGTGCTGCTGACCCTGCTGGACCGGGTGGTCAATCAAGCCGACATGGCCCTACAGACCCTTGCCGAGAATCCCGCCGACACCGACCGCGAGAACATGTGGCGCACCGGGATCAACGTGTTCTTCGAGACATTCGGGTCGCACAAGGCGGTAACCCGAGCCGGTCAGGCCGCCAGGGCAACCAGTGTCGAAGTCGCCGAACTGTGGTCGACGTTTATGCAGAAGTGGATCGCCTACACGGCCGCCGTGATCGACGCCGAACGCGACCGAGGCGCGGCGCCGCGCACCCTGCCGGCCCATGAACTGGCCACAGCGCTCAACCTGATGAACGAGCGGACGCTGTTCGCGTCATTCGCCGGCGAACAGCCCTCGGT'\n",
    "len(seq)"
   ]
  },
  {
   "cell_type": "code",
   "execution_count": 8,
   "metadata": {},
   "outputs": [
    {
     "data": {
      "text/plain": [
       "'CACGATGTAGGTGGGTGAGCGCTGC'"
      ]
     },
     "execution_count": 8,
     "metadata": {},
     "output_type": "execute_result"
    }
   ],
   "source": [
    "seq[205:230]"
   ]
  },
  {
   "cell_type": "code",
   "execution_count": null,
   "metadata": {},
   "outputs": [],
   "source": [
    "ACTGCCGATCACGACGATGT"
   ]
  },
  {
   "cell_type": "code",
   "execution_count": 13,
   "metadata": {},
   "outputs": [
    {
     "data": {
      "text/plain": [
       "295"
      ]
     },
     "execution_count": 13,
     "metadata": {},
     "output_type": "execute_result"
    }
   ],
   "source": [
    "left_seq = 'AGTGCTTTCGCACGTCGTACCCCTCGGGTAGCTGGCGCTGGATCAGGCTCAGGAACATCTTCCGCATGCGCCGTGGCCACTTCTGGCAGGCGCTGTACACGGCCGCCTGGCGCAGCACGTTCTTCCACCGTACCGCGGTGTAGGCCATGGTCTCCGGCAGCCAGCGGTTGAGCTTCTCGGCGATGCCGTCCCGGTCTGGCTGCGACACGATGTAGGTGGGTGAGCGCTGCAGCATCGTGACGTGCTTGGCGCCCGAGTCCGCCAGCGCCGGCACGAGCGTGACCGCCGTTGCGCC'\n",
    "len(left_seq)"
   ]
  },
  {
   "cell_type": "code",
   "execution_count": null,
   "metadata": {},
   "outputs": [],
   "source": []
  },
  {
   "cell_type": "code",
   "execution_count": 10,
   "metadata": {},
   "outputs": [
    {
     "data": {
      "text/plain": [
       "'AGTGCTTTCGCACGTCGTACCCCTCGGGTAGCTGGCGCTGGATCAGGCTCAGGAACATCTTCCGCATGCGCCGTGGCCACTTCTGGCAGGCGCTGTACACGGCCGCCTGGCGCAGCACGTTCTTCCACCGTACCGCGGTGTAGGCCATGGTCTCCGGCAGCCAGCGGTTGAGCTTCTCGGCGATGCCGTCCCGGTCTGGCTGCGACACGATGTAGGTGGGTGAGCGCTGCAGCATCGTGACGTGCTTGGCGCCCGAGTCCGCCAGCGCCGGCACGAGCGTGACCGCCGTTGCGCC'"
      ]
     },
     "execution_count": 10,
     "metadata": {},
     "output_type": "execute_result"
    }
   ],
   "source": [
    "left_seq"
   ]
  },
  {
   "cell_type": "code",
   "execution_count": 12,
   "metadata": {},
   "outputs": [
    {
     "data": {
      "text/plain": [
       "'AACCGGATATGCCTGTCGAT'"
      ]
     },
     "execution_count": 12,
     "metadata": {},
     "output_type": "execute_result"
    }
   ],
   "source": [
    "primer_selection.extract_sequence_from_fasta(4327174, 4327174+20, padding=0)"
   ]
  },
  {
   "cell_type": "code",
   "execution_count": 15,
   "metadata": {},
   "outputs": [
    {
     "data": {
      "text/plain": [
       "'CGGTTTTCCGCGGTCGACCA'"
      ]
     },
     "execution_count": 15,
     "metadata": {},
     "output_type": "execute_result"
    }
   ],
   "source": [
    "primer_selection.extract_sequence_from_fasta(4327129, 4327129+20, padding=0)\n"
   ]
  },
  {
   "cell_type": "code",
   "execution_count": 14,
   "metadata": {},
   "outputs": [
    {
     "data": {
      "text/plain": [
       "4327424"
      ]
     },
     "execution_count": 14,
     "metadata": {},
     "output_type": "execute_result"
    }
   ],
   "source": [
    "4327129 + 295"
   ]
  },
  {
   "cell_type": "code",
   "execution_count": 36,
   "metadata": {},
   "outputs": [
    {
     "name": "stdout",
     "output_type": "stream",
     "text": [
      "Sequence found in Chromosome from position 760286 to 760306\n"
     ]
    }
   ],
   "source": [
    "from Bio import SeqIO\n",
    "\n",
    "def find_sequence_location(fasta_file, query_sequence):\n",
    "    for record in SeqIO.parse(fasta_file, \"fasta\"):\n",
    "        sequence = str(record.seq)\n",
    "        if query_sequence in sequence:\n",
    "            start_index = sequence.index(query_sequence)\n",
    "            end_index = start_index + len(query_sequence)\n",
    "            return f\"Sequence found in {record.id} from position {start_index} to {end_index}\"\n",
    "    return \"Sequence not found in the FASTA file\"\n",
    "\n",
    "# Example usage\n",
    "fasta_file = \"/mnt/storage10/lwang/Projects/Amplicone_design_tool/MTB-h37rv_asm19595v2-eg18.fa\"\n",
    "query_sequence = \"ATCATCAACGGGACCGAGCG\"\n",
    "\n",
    "result = find_sequence_location(fasta_file, query_sequence)\n",
    "print(result)\n"
   ]
  },
  {
   "cell_type": "code",
   "execution_count": 40,
   "metadata": {},
   "outputs": [
    {
     "name": "stdout",
     "output_type": "stream",
     "text": [
      "Sequence found in Chromosome from position 760365 to 760385\n"
     ]
    }
   ],
   "source": [
    "fasta_file = \"/mnt/storage10/lwang/Projects/Amplicone_design_tool/MTB-h37rv_asm19595v2-eg18.fa\"\n",
    "query_sequence = \"AGTCCACCGACAAGACGCTG\"\n",
    "\n",
    "result = find_sequence_location(fasta_file, query_sequence)\n",
    "print(result)"
   ]
  },
  {
   "cell_type": "code",
   "execution_count": 35,
   "metadata": {},
   "outputs": [
    {
     "data": {
      "text/plain": [
       "4327879"
      ]
     },
     "execution_count": 35,
     "metadata": {},
     "output_type": "execute_result"
    }
   ],
   "source": [
    "4328229-350"
   ]
  },
  {
   "cell_type": "code",
   "execution_count": 41,
   "metadata": {},
   "outputs": [
    {
     "data": {
      "text/plain": [
       "'Sequence found in Chromosome from position 13 to 33'"
      ]
     },
     "execution_count": 41,
     "metadata": {},
     "output_type": "execute_result"
    }
   ],
   "source": [
    "find_sequence_location(fasta_file, 'CCGGTTCAGGCTTCACCACA')"
   ]
  },
  {
   "cell_type": "code",
   "execution_count": 45,
   "metadata": {},
   "outputs": [],
   "source": [
    "from Bio import SeqIO\n",
    "\n",
    "def find_sequence_location(query_sequence, position, fasta_file):\n",
    "    closest_start = float('inf')\n",
    "    closest_end = float('inf')\n",
    "    closest_record = None\n",
    "\n",
    "    for record in SeqIO.parse(fasta_file, \"fasta\"):\n",
    "        sequence = str(record.seq)\n",
    "        index = sequence.find(query_sequence)\n",
    "        \n",
    "        while index != -1:\n",
    "            start_index = index\n",
    "            end_index = index + len(query_sequence)\n",
    "            \n",
    "            if abs(position - start_index) < abs(position - closest_start):\n",
    "                closest_start = start_index\n",
    "                closest_end = end_index\n",
    "                closest_record = record.id\n",
    "\n",
    "            index = sequence.find(query_sequence, index + 1)\n",
    "\n",
    "    if closest_record is not None:\n",
    "        return closest_start, closest_end\n",
    "    else:\n",
    "        print(\"Primer Sequence not found in FASTA file.\")\n",
    "        return 0,0"
   ]
  },
  {
   "cell_type": "code",
   "execution_count": 50,
   "metadata": {},
   "outputs": [
    {
     "data": {
      "text/plain": [
       "(4325973, 4325993)"
      ]
     },
     "execution_count": 50,
     "metadata": {},
     "output_type": "execute_result"
    }
   ],
   "source": [
    "find_sequence_location('GCCTAAACCGGCGCTAAACC', 4326008, fasta_file='/mnt/storage10/lwang/Projects/Amplicone_design_tool/MTB-h37rv_asm19595v2-eg18.fa')\n"
   ]
  },
  {
   "cell_type": "code",
   "execution_count": 28,
   "metadata": {},
   "outputs": [
    {
     "data": {
      "text/plain": [
       "'ACTGCCGATCACGACGATGT'"
      ]
     },
     "execution_count": 28,
     "metadata": {},
     "output_type": "execute_result"
    }
   ],
   "source": [
    "primer_selection.extract_sequence_from_fasta(4326924, 4326944, padding=0)\n"
   ]
  },
  {
   "cell_type": "code",
   "execution_count": 25,
   "metadata": {},
   "outputs": [],
   "source": [
    "from Bio import SeqIO\n",
    "\n",
    "def find_sequence_location(fasta_file, query_sequence, position):\n",
    "    closest_start = float('inf')\n",
    "    closest_end = float('inf')\n",
    "    closest_record = None\n",
    "\n",
    "    for record in SeqIO.parse(fasta_file, \"fasta\"):\n",
    "        sequence = str(record.seq)\n",
    "        index = sequence.find(query_sequence)\n",
    "        \n",
    "        while index != -1:\n",
    "            start_index = index\n",
    "            end_index = index + len(query_sequence)\n",
    "            \n",
    "            if abs(position - start_index) < abs(position - closest_start):\n",
    "                closest_start = start_index\n",
    "                closest_end = end_index\n",
    "                closest_record = record.id\n",
    "\n",
    "            index = sequence.find(query_sequence, index + 1)\n",
    "\n",
    "    if closest_record is not None:\n",
    "        return closest_start, closest_end\n",
    "    else:\n",
    "        return \"Sequence not found in the FASTA file\""
   ]
  },
  {
   "cell_type": "code",
   "execution_count": 29,
   "metadata": {},
   "outputs": [
    {
     "data": {
      "text/plain": [
       "4326924"
      ]
     },
     "execution_count": 29,
     "metadata": {},
     "output_type": "execute_result"
    }
   ],
   "source": [
    "query_sequence ='ACTGCCGATCACGACGATGT'\n",
    "# query_sequence = primer_selection.reverse_complement_sequence(query_sequence)\n",
    "find_sequence_location(fasta_file, query_sequence, 4327932)[0]\n",
    "# print(result)"
   ]
  },
  {
   "cell_type": "code",
   "execution_count": null,
   "metadata": {},
   "outputs": [],
   "source": [
    "4327129 4327629"
   ]
  },
  {
   "cell_type": "code",
   "execution_count": null,
   "metadata": {},
   "outputs": [],
   "source": [
    "4327129"
   ]
  },
  {
   "cell_type": "code",
   "execution_count": 20,
   "metadata": {},
   "outputs": [
    {
     "data": {
      "text/plain": [
       "4326629"
      ]
     },
     "execution_count": 20,
     "metadata": {},
     "output_type": "execute_result"
    }
   ],
   "source": [
    "[[4326879, 4327879],\n",
    " [2282776, 2283776],\n",
    " [2285958, 2286958],\n",
    " [4246734, 4247734],\n",
    " [4244193, 4245193],\n",
    " [2280899, 2281899],\n",
    " [2152912, 2153912],\n",
    " [2284954, 2285954],\n",
    " [2747141, 2748141],\n",
    " [1834840, 1835840],\n",
    " [2150990, 2151990],\n",
    " [2277174, 2278174],\n",
    " [3067958, 3068958],\n",
    " [2147188, 2148188],\n",
    " [2138550, 2139550],\n",
    " [2281712, 2282712],\n",
    " [2283527, 2284527],\n",
    " [1416371, 1417371],\n",
    " [3840393, 3841393],\n",
    " [3073502, 3074502],\n",
    " [2149884, 2150884],\n",
    " [2276296, 2277296],\n",
    " [2279554, 2280554],\n",
    " [2287239, 2288239],\n",
    " [2141412, 2142412],\n",
    " [2140159, 2141159],\n",
    " [2148199, 2149199],\n",
    " [2144518, 2145518],\n",
    " [3086947, 3087947],\n",
    " [2128861, 2129861]]"
   ]
  }
 ],
 "metadata": {
  "kernelspec": {
   "display_name": "ml-s10",
   "language": "python",
   "name": "python3"
  },
  "language_info": {
   "codemirror_mode": {
    "name": "ipython",
    "version": 3
   },
   "file_extension": ".py",
   "mimetype": "text/x-python",
   "name": "python",
   "nbconvert_exporter": "python",
   "pygments_lexer": "ipython3",
   "version": "3.11.6"
  },
  "orig_nbformat": 4
 },
 "nbformat": 4,
 "nbformat_minor": 2
}

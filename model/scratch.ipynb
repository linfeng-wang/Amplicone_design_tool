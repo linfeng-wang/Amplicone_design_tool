{
 "cells": [
  {
   "cell_type": "code",
   "execution_count": 2,
   "metadata": {},
   "outputs": [
    {
     "name": "stderr",
     "output_type": "stream",
     "text": [
      "/tmp/ipykernel_3663247/859605501.py:18: DeprecationWarning: the imp module is deprecated in favour of importlib and slated for removal in Python 3.12; see the module's documentation for alternative uses\n",
      "  from imp import reload\n"
     ]
    }
   ],
   "source": [
    "import numpy as np\n",
    "import pandas as pd\n",
    "import matplotlib.pyplot as plt\n",
    "%matplotlib inline\n",
    "from functools import partial\n",
    "from random import choices, randint, randrange, random, sample\n",
    "from typing import List, Optional, Callable, Tuple\n",
    "import numpy as np\n",
    "# from geneticalgorithm import geneticalgorithm as ga\n",
    "import pandas as pd\n",
    "from collections import Counter\n",
    "from tqdm import tqdm\n",
    "import time\n",
    "from Bio.SeqUtils import MeltingTemp\n",
    "from Bio import SeqIO\n",
    "from plotly import graph_objects as go\n",
    "import json\n",
    "from imp import reload\n",
    "# import primer_selection\n",
    "# reload(primer_selection)\n",
    "# import testing\n",
    "# reload(testing)\n"
   ]
  },
  {
   "cell_type": "code",
   "execution_count": 7,
   "metadata": {},
   "outputs": [
    {
     "data": {
      "text/plain": [
       "71"
      ]
     },
     "execution_count": 7,
     "metadata": {},
     "output_type": "execute_result"
    }
   ],
   "source": [
    "len('GCTTGCATGCCTGCAGGTCGACTCTAGAGGATCCCCCTACATTTTACACACAGGAAACAGCTATGACCATG')"
   ]
  },
  {
   "cell_type": "code",
   "execution_count": 14,
   "metadata": {},
   "outputs": [],
   "source": [
    "from primer3 import bindings\n"
   ]
  },
  {
   "cell_type": "code",
   "execution_count": 19,
   "metadata": {},
   "outputs": [],
   "source": [
    "import random\n",
    "\n",
    "def generate_random_gene_seq(length):\n",
    "    bases = ['A', 'T', 'C', 'G']\n",
    "    return ''.join(random.choice(bases) for _ in range(length))\n",
    "\n",
    "random_gene_seq = generate_random_gene_seq(300)\n",
    "# print(f\"Random Gene Sequence of Length 100: {random_gene_seq}\")\n"
   ]
  },
  {
   "cell_type": "code",
   "execution_count": 23,
   "metadata": {},
   "outputs": [
    {
     "data": {
      "text/plain": [
       "'CGTCTGTACATGCCGCTCTATTACAATTATTCCACAAGGGTCAAGGGGCCGCTGCGCTCGGAACGCTCGTGATAGCGCTATCTCAACGCTATTACGGTAGATTCGACTTAAACACATACCTAAGCGCAAGGTAGCACGGCGGGCGTCTTTTAAACTTGGGCATCGCGACCACCGGCCAATTACGGTTTAGCTATCGTCTTACTTAGGCTATAGAGCGCTTTGCCAGAACAAAGGAAAGCGTAAGGATAACCACGGTTCGATGTTGATGGGCGACGACAGGTAGCTCGATCCTCCACTCCG'"
      ]
     },
     "execution_count": 23,
     "metadata": {},
     "output_type": "execute_result"
    }
   ],
   "source": [
    "random_gene_seq"
   ]
  },
  {
   "cell_type": "code",
   "execution_count": 22,
   "metadata": {},
   "outputs": [
    {
     "name": "stdout",
     "output_type": "stream",
     "text": [
      "PRIMER_LEFT_EXPLAIN: considered 1488, GC content failed 5, low tm 540, high tm 553, high hairpin stability 11, ok 379\n",
      "PRIMER_RIGHT_EXPLAIN: considered 1488, low tm 458, high tm 490, ok 540\n",
      "PRIMER_INTERNAL_EXPLAIN: considered 2635, GC content failed 5, low tm 1501, high tm 384, high hairpin stability 26, ok 719\n",
      "PRIMER_PAIR_EXPLAIN: considered 24, unacceptable product size 18, ok 6\n",
      "PRIMER_LEFT_NUM_RETURNED: 5\n",
      "PRIMER_RIGHT_NUM_RETURNED: 5\n",
      "PRIMER_INTERNAL_NUM_RETURNED: 5\n",
      "PRIMER_PAIR_NUM_RETURNED: 5\n",
      "PRIMER_PAIR: [{'PENALTY': 0.42132891917782445, 'COMPL_ANY_TH': 0.0, 'COMPL_END_TH': 0.0, 'PRODUCT_SIZE': 119, 'PRODUCT_TM': 83.74517309519567}, {'PENALTY': 0.44012224215788365, 'COMPL_ANY_TH': 0.0, 'COMPL_END_TH': 0.0, 'PRODUCT_SIZE': 204, 'PRODUCT_TM': 86.62122351536374}, {'PENALTY': 0.44066222716770653, 'COMPL_ANY_TH': 0.0, 'COMPL_END_TH': 0.0, 'PRODUCT_SIZE': 205, 'PRODUCT_TM': 86.7326295411887}, {'PENALTY': 0.4442396702864926, 'COMPL_ANY_TH': 0.0, 'COMPL_END_TH': 0.0, 'PRODUCT_SIZE': 202, 'PRODUCT_TM': 86.80104296789722}, {'PENALTY': 0.4514970354201182, 'COMPL_ANY_TH': 0.0, 'COMPL_END_TH': 0.0, 'PRODUCT_SIZE': 262, 'PRODUCT_TM': 87.45182522169512}]\n",
      "PRIMER_LEFT: [{'PENALTY': 0.37931569698349676, 'SEQUENCE': 'CCGGCCAATTACGGTTTAGC', 'COORDS': [171, 20], 'TM': 59.6206843030165, 'GC_PERCENT': 55.0, 'SELF_ANY_TH': 2.236646359005192, 'SELF_END_TH': 0.0, 'HAIRPIN_TH': 44.85416666299585, 'END_STABILITY': 3.09}, {'PENALTY': 0.4094838132257905, 'SEQUENCE': 'ATTCCACAAGGGTCAAGGGG', 'COORDS': [28, 20], 'TM': 59.59051618677421, 'GC_PERCENT': 55.0, 'SELF_ANY_TH': 0.0, 'SELF_END_TH': 0.0, 'HAIRPIN_TH': 38.11191835318118, 'END_STABILITY': 4.79}, {'PENALTY': 0.4094838132257905, 'SEQUENCE': 'ATTCCACAAGGGTCAAGGGG', 'COORDS': [28, 20], 'TM': 59.59051618677421, 'GC_PERCENT': 55.0, 'SELF_ANY_TH': 0.0, 'SELF_END_TH': 0.0, 'HAIRPIN_TH': 38.11191835318118, 'END_STABILITY': 4.79}, {'PENALTY': 0.4094838132257905, 'SEQUENCE': 'ATTCCACAAGGGTCAAGGGG', 'COORDS': [28, 20], 'TM': 59.59051618677421, 'GC_PERCENT': 55.0, 'SELF_ANY_TH': 0.0, 'SELF_END_TH': 0.0, 'HAIRPIN_TH': 38.11191835318118, 'END_STABILITY': 4.79}, {'PENALTY': 0.4094838132257905, 'SEQUENCE': 'ATTCCACAAGGGTCAAGGGG', 'COORDS': [28, 20], 'TM': 59.59051618677421, 'GC_PERCENT': 55.0, 'SELF_ANY_TH': 0.0, 'SELF_END_TH': 0.0, 'HAIRPIN_TH': 38.11191835318118, 'END_STABILITY': 4.79}]\n",
      "PRIMER_RIGHT: [{'PENALTY': 0.04201322219432768, 'SEQUENCE': 'GATCGAGCTACCTGTCGTCG', 'COORDS': [289, 20], 'TM': 60.04201322219433, 'GC_PERCENT': 60.0, 'SELF_ANY_TH': 0.0, 'SELF_END_TH': 0.0, 'HAIRPIN_TH': 37.46089260988566, 'END_STABILITY': 5.12}, {'PENALTY': 0.03063842893209312, 'SEQUENCE': 'TTTGTTCTGGCAAAGCGCTC', 'COORDS': [231, 20], 'TM': 59.96936157106791, 'GC_PERCENT': 50.0, 'SELF_ANY_TH': 12.056413739117374, 'SELF_END_TH': 0.0, 'HAIRPIN_TH': 41.911649083362136, 'END_STABILITY': 5.03}, {'PENALTY': 0.031178413941916006, 'SEQUENCE': 'CTTTGTTCTGGCAAAGCGCT', 'COORDS': [232, 20], 'TM': 59.968821586058084, 'GC_PERCENT': 50.0, 'SELF_ANY_TH': 2.6374023557038413, 'SELF_END_TH': 2.6374023557038413, 'HAIRPIN_TH': 45.57475054917268, 'END_STABILITY': 5.92}, {'PENALTY': 0.034755857060702056, 'SEQUENCE': 'TGTTCTGGCAAAGCGCTCTA', 'COORDS': [229, 20], 'TM': 59.9652441429393, 'GC_PERCENT': 50.0, 'SELF_ANY_TH': 12.056413739117374, 'SELF_END_TH': 0.0, 'HAIRPIN_TH': 41.911649083362136, 'END_STABILITY': 2.43}, {'PENALTY': 0.04201322219432768, 'SEQUENCE': 'GATCGAGCTACCTGTCGTCG', 'COORDS': [289, 20], 'TM': 60.04201322219433, 'GC_PERCENT': 60.0, 'SELF_ANY_TH': 0.0, 'SELF_END_TH': 0.0, 'HAIRPIN_TH': 37.46089260988566, 'END_STABILITY': 5.12}]\n",
      "PRIMER_INTERNAL: [{'PENALTY': 4.380910805419035, 'SEQUENCE': 'AGCGCTTTGCCAGAACAAAGGA', 'COORDS': [213, 22], 'TM': 57.619089194580965, 'GC_PERCENT': 50.0, 'SELF_ANY_TH': 0.0, 'SELF_END_TH': 0.0, 'HAIRPIN_TH': 46.21830111992318}, {'PENALTY': 0.04413418366300448, 'SEQUENCE': 'GTAGCACGGCGGGCGTCTTT', 'COORDS': [130, 20], 'TM': 60.044134183663004, 'GC_PERCENT': 65.0, 'SELF_ANY_TH': 25.893126130569158, 'SELF_END_TH': 9.303165116169112, 'HAIRPIN_TH': 33.97899652747088}, {'PENALTY': 0.04413418366300448, 'SEQUENCE': 'GTAGCACGGCGGGCGTCTTT', 'COORDS': [130, 20], 'TM': 60.044134183663004, 'GC_PERCENT': 65.0, 'SELF_ANY_TH': 25.893126130569158, 'SELF_END_TH': 9.303165116169112, 'HAIRPIN_TH': 33.97899652747088}, {'PENALTY': 0.04413418366300448, 'SEQUENCE': 'GTAGCACGGCGGGCGTCTTT', 'COORDS': [130, 20], 'TM': 60.044134183663004, 'GC_PERCENT': 65.0, 'SELF_ANY_TH': 25.893126130569158, 'SELF_END_TH': 9.303165116169112, 'HAIRPIN_TH': 33.97899652747088}, {'PENALTY': 0.04413418366300448, 'SEQUENCE': 'GTAGCACGGCGGGCGTCTTT', 'COORDS': [130, 20], 'TM': 60.044134183663004, 'GC_PERCENT': 65.0, 'SELF_ANY_TH': 25.893126130569158, 'SELF_END_TH': 9.303165116169112, 'HAIRPIN_TH': 33.97899652747088}]\n",
      "PRIMER_PAIR_0_PENALTY: 0.42132891917782445\n",
      "PRIMER_LEFT_0_PENALTY: 0.37931569698349676\n",
      "PRIMER_RIGHT_0_PENALTY: 0.04201322219432768\n",
      "PRIMER_INTERNAL_0_PENALTY: 4.380910805419035\n",
      "PRIMER_LEFT_0_SEQUENCE: CCGGCCAATTACGGTTTAGC\n",
      "PRIMER_RIGHT_0_SEQUENCE: GATCGAGCTACCTGTCGTCG\n",
      "PRIMER_INTERNAL_0_SEQUENCE: AGCGCTTTGCCAGAACAAAGGA\n",
      "PRIMER_LEFT_0: [171, 20]\n",
      "PRIMER_RIGHT_0: [289, 20]\n",
      "PRIMER_INTERNAL_0: [213, 22]\n",
      "PRIMER_LEFT_0_TM: 59.6206843030165\n",
      "PRIMER_RIGHT_0_TM: 60.04201322219433\n",
      "PRIMER_INTERNAL_0_TM: 57.619089194580965\n",
      "PRIMER_LEFT_0_GC_PERCENT: 55.0\n",
      "PRIMER_RIGHT_0_GC_PERCENT: 60.0\n",
      "PRIMER_INTERNAL_0_GC_PERCENT: 50.0\n",
      "PRIMER_LEFT_0_SELF_ANY_TH: 2.236646359005192\n",
      "PRIMER_RIGHT_0_SELF_ANY_TH: 0.0\n",
      "PRIMER_INTERNAL_0_SELF_ANY_TH: 0.0\n",
      "PRIMER_LEFT_0_SELF_END_TH: 0.0\n",
      "PRIMER_RIGHT_0_SELF_END_TH: 0.0\n",
      "PRIMER_INTERNAL_0_SELF_END_TH: 0.0\n",
      "PRIMER_LEFT_0_HAIRPIN_TH: 44.85416666299585\n",
      "PRIMER_RIGHT_0_HAIRPIN_TH: 37.46089260988566\n",
      "PRIMER_INTERNAL_0_HAIRPIN_TH: 46.21830111992318\n",
      "PRIMER_LEFT_0_END_STABILITY: 3.09\n",
      "PRIMER_RIGHT_0_END_STABILITY: 5.12\n",
      "PRIMER_PAIR_0_COMPL_ANY_TH: 0.0\n",
      "PRIMER_PAIR_0_COMPL_END_TH: 0.0\n",
      "PRIMER_PAIR_0_PRODUCT_SIZE: 119\n",
      "PRIMER_PAIR_0_PRODUCT_TM: 83.74517309519567\n",
      "PRIMER_PAIR_1_PENALTY: 0.44012224215788365\n",
      "PRIMER_LEFT_1_PENALTY: 0.4094838132257905\n",
      "PRIMER_RIGHT_1_PENALTY: 0.03063842893209312\n",
      "PRIMER_INTERNAL_1_PENALTY: 0.04413418366300448\n",
      "PRIMER_LEFT_1_SEQUENCE: ATTCCACAAGGGTCAAGGGG\n",
      "PRIMER_RIGHT_1_SEQUENCE: TTTGTTCTGGCAAAGCGCTC\n",
      "PRIMER_INTERNAL_1_SEQUENCE: GTAGCACGGCGGGCGTCTTT\n",
      "PRIMER_LEFT_1: [28, 20]\n",
      "PRIMER_RIGHT_1: [231, 20]\n",
      "PRIMER_INTERNAL_1: [130, 20]\n",
      "PRIMER_LEFT_1_TM: 59.59051618677421\n",
      "PRIMER_RIGHT_1_TM: 59.96936157106791\n",
      "PRIMER_INTERNAL_1_TM: 60.044134183663004\n",
      "PRIMER_LEFT_1_GC_PERCENT: 55.0\n",
      "PRIMER_RIGHT_1_GC_PERCENT: 50.0\n",
      "PRIMER_INTERNAL_1_GC_PERCENT: 65.0\n",
      "PRIMER_LEFT_1_SELF_ANY_TH: 0.0\n",
      "PRIMER_RIGHT_1_SELF_ANY_TH: 12.056413739117374\n",
      "PRIMER_INTERNAL_1_SELF_ANY_TH: 25.893126130569158\n",
      "PRIMER_LEFT_1_SELF_END_TH: 0.0\n",
      "PRIMER_RIGHT_1_SELF_END_TH: 0.0\n",
      "PRIMER_INTERNAL_1_SELF_END_TH: 9.303165116169112\n",
      "PRIMER_LEFT_1_HAIRPIN_TH: 38.11191835318118\n",
      "PRIMER_RIGHT_1_HAIRPIN_TH: 41.911649083362136\n",
      "PRIMER_INTERNAL_1_HAIRPIN_TH: 33.97899652747088\n",
      "PRIMER_LEFT_1_END_STABILITY: 4.79\n",
      "PRIMER_RIGHT_1_END_STABILITY: 5.03\n",
      "PRIMER_PAIR_1_COMPL_ANY_TH: 0.0\n",
      "PRIMER_PAIR_1_COMPL_END_TH: 0.0\n",
      "PRIMER_PAIR_1_PRODUCT_SIZE: 204\n",
      "PRIMER_PAIR_1_PRODUCT_TM: 86.62122351536374\n",
      "PRIMER_PAIR_2_PENALTY: 0.44066222716770653\n",
      "PRIMER_LEFT_2_PENALTY: 0.4094838132257905\n",
      "PRIMER_RIGHT_2_PENALTY: 0.031178413941916006\n",
      "PRIMER_INTERNAL_2_PENALTY: 0.04413418366300448\n",
      "PRIMER_LEFT_2_SEQUENCE: ATTCCACAAGGGTCAAGGGG\n",
      "PRIMER_RIGHT_2_SEQUENCE: CTTTGTTCTGGCAAAGCGCT\n",
      "PRIMER_INTERNAL_2_SEQUENCE: GTAGCACGGCGGGCGTCTTT\n",
      "PRIMER_LEFT_2: [28, 20]\n",
      "PRIMER_RIGHT_2: [232, 20]\n",
      "PRIMER_INTERNAL_2: [130, 20]\n",
      "PRIMER_LEFT_2_TM: 59.59051618677421\n",
      "PRIMER_RIGHT_2_TM: 59.968821586058084\n",
      "PRIMER_INTERNAL_2_TM: 60.044134183663004\n",
      "PRIMER_LEFT_2_GC_PERCENT: 55.0\n",
      "PRIMER_RIGHT_2_GC_PERCENT: 50.0\n",
      "PRIMER_INTERNAL_2_GC_PERCENT: 65.0\n",
      "PRIMER_LEFT_2_SELF_ANY_TH: 0.0\n",
      "PRIMER_RIGHT_2_SELF_ANY_TH: 2.6374023557038413\n",
      "PRIMER_INTERNAL_2_SELF_ANY_TH: 25.893126130569158\n",
      "PRIMER_LEFT_2_SELF_END_TH: 0.0\n",
      "PRIMER_RIGHT_2_SELF_END_TH: 2.6374023557038413\n",
      "PRIMER_INTERNAL_2_SELF_END_TH: 9.303165116169112\n",
      "PRIMER_LEFT_2_HAIRPIN_TH: 38.11191835318118\n",
      "PRIMER_RIGHT_2_HAIRPIN_TH: 45.57475054917268\n",
      "PRIMER_INTERNAL_2_HAIRPIN_TH: 33.97899652747088\n",
      "PRIMER_LEFT_2_END_STABILITY: 4.79\n",
      "PRIMER_RIGHT_2_END_STABILITY: 5.92\n",
      "PRIMER_PAIR_2_COMPL_ANY_TH: 0.0\n",
      "PRIMER_PAIR_2_COMPL_END_TH: 0.0\n",
      "PRIMER_PAIR_2_PRODUCT_SIZE: 205\n",
      "PRIMER_PAIR_2_PRODUCT_TM: 86.7326295411887\n",
      "PRIMER_PAIR_3_PENALTY: 0.4442396702864926\n",
      "PRIMER_LEFT_3_PENALTY: 0.4094838132257905\n",
      "PRIMER_RIGHT_3_PENALTY: 0.034755857060702056\n",
      "PRIMER_INTERNAL_3_PENALTY: 0.04413418366300448\n",
      "PRIMER_LEFT_3_SEQUENCE: ATTCCACAAGGGTCAAGGGG\n",
      "PRIMER_RIGHT_3_SEQUENCE: TGTTCTGGCAAAGCGCTCTA\n",
      "PRIMER_INTERNAL_3_SEQUENCE: GTAGCACGGCGGGCGTCTTT\n",
      "PRIMER_LEFT_3: [28, 20]\n",
      "PRIMER_RIGHT_3: [229, 20]\n",
      "PRIMER_INTERNAL_3: [130, 20]\n",
      "PRIMER_LEFT_3_TM: 59.59051618677421\n",
      "PRIMER_RIGHT_3_TM: 59.9652441429393\n",
      "PRIMER_INTERNAL_3_TM: 60.044134183663004\n",
      "PRIMER_LEFT_3_GC_PERCENT: 55.0\n",
      "PRIMER_RIGHT_3_GC_PERCENT: 50.0\n",
      "PRIMER_INTERNAL_3_GC_PERCENT: 65.0\n",
      "PRIMER_LEFT_3_SELF_ANY_TH: 0.0\n",
      "PRIMER_RIGHT_3_SELF_ANY_TH: 12.056413739117374\n",
      "PRIMER_INTERNAL_3_SELF_ANY_TH: 25.893126130569158\n",
      "PRIMER_LEFT_3_SELF_END_TH: 0.0\n",
      "PRIMER_RIGHT_3_SELF_END_TH: 0.0\n",
      "PRIMER_INTERNAL_3_SELF_END_TH: 9.303165116169112\n",
      "PRIMER_LEFT_3_HAIRPIN_TH: 38.11191835318118\n",
      "PRIMER_RIGHT_3_HAIRPIN_TH: 41.911649083362136\n",
      "PRIMER_INTERNAL_3_HAIRPIN_TH: 33.97899652747088\n",
      "PRIMER_LEFT_3_END_STABILITY: 4.79\n",
      "PRIMER_RIGHT_3_END_STABILITY: 2.43\n",
      "PRIMER_PAIR_3_COMPL_ANY_TH: 0.0\n",
      "PRIMER_PAIR_3_COMPL_END_TH: 0.0\n",
      "PRIMER_PAIR_3_PRODUCT_SIZE: 202\n",
      "PRIMER_PAIR_3_PRODUCT_TM: 86.80104296789722\n",
      "PRIMER_PAIR_4_PENALTY: 0.4514970354201182\n",
      "PRIMER_LEFT_4_PENALTY: 0.4094838132257905\n",
      "PRIMER_RIGHT_4_PENALTY: 0.04201322219432768\n",
      "PRIMER_INTERNAL_4_PENALTY: 0.04413418366300448\n",
      "PRIMER_LEFT_4_SEQUENCE: ATTCCACAAGGGTCAAGGGG\n",
      "PRIMER_RIGHT_4_SEQUENCE: GATCGAGCTACCTGTCGTCG\n",
      "PRIMER_INTERNAL_4_SEQUENCE: GTAGCACGGCGGGCGTCTTT\n",
      "PRIMER_LEFT_4: [28, 20]\n",
      "PRIMER_RIGHT_4: [289, 20]\n",
      "PRIMER_INTERNAL_4: [130, 20]\n",
      "PRIMER_LEFT_4_TM: 59.59051618677421\n",
      "PRIMER_RIGHT_4_TM: 60.04201322219433\n",
      "PRIMER_INTERNAL_4_TM: 60.044134183663004\n",
      "PRIMER_LEFT_4_GC_PERCENT: 55.0\n",
      "PRIMER_RIGHT_4_GC_PERCENT: 60.0\n",
      "PRIMER_INTERNAL_4_GC_PERCENT: 65.0\n",
      "PRIMER_LEFT_4_SELF_ANY_TH: 0.0\n",
      "PRIMER_RIGHT_4_SELF_ANY_TH: 0.0\n",
      "PRIMER_INTERNAL_4_SELF_ANY_TH: 25.893126130569158\n",
      "PRIMER_LEFT_4_SELF_END_TH: 0.0\n",
      "PRIMER_RIGHT_4_SELF_END_TH: 0.0\n",
      "PRIMER_INTERNAL_4_SELF_END_TH: 9.303165116169112\n",
      "PRIMER_LEFT_4_HAIRPIN_TH: 38.11191835318118\n",
      "PRIMER_RIGHT_4_HAIRPIN_TH: 37.46089260988566\n",
      "PRIMER_INTERNAL_4_HAIRPIN_TH: 33.97899652747088\n",
      "PRIMER_LEFT_4_END_STABILITY: 4.79\n",
      "PRIMER_RIGHT_4_END_STABILITY: 5.12\n",
      "PRIMER_PAIR_4_COMPL_ANY_TH: 0.0\n",
      "PRIMER_PAIR_4_COMPL_END_TH: 0.0\n",
      "PRIMER_PAIR_4_PRODUCT_SIZE: 262\n",
      "PRIMER_PAIR_4_PRODUCT_TM: 87.45182522169512\n"
     ]
    }
   ],
   "source": [
    "import primer3\n",
    "\n",
    "# Define sequence arguments\n",
    "seq_args = {\n",
    "    'SEQUENCE_ID': 'example',\n",
    "    'SEQUENCE_TEMPLATE': random_gene_seq,\n",
    "    'SEQUENCE_INCLUDED_REGION': [15, len(random_gene_seq) - 15]\n",
    "}\n",
    "\n",
    "# Define global arguments\n",
    "global_args = {\n",
    "    'PRIMER_TASK': 'generic',\n",
    "    'PRIMER_PICK_LEFT_PRIMER': 1,\n",
    "    'PRIMER_PICK_INTERNAL_OLIGO': 1,\n",
    "    'PRIMER_PICK_RIGHT_PRIMER': 1,\n",
    "    'PRIMER_OPT_SIZE': 20,\n",
    "    'PRIMER_MIN_SIZE': 18,\n",
    "    'PRIMER_MAX_SIZE': 25,\n",
    "    'PRIMER_NUM_RETURN': 5,\n",
    "    'PRIMER_MIN_TM': 57.0,\n",
    "    'PRIMER_MAX_TM': 63.0,\n",
    "    'PRIMER_MIN_GC': 20.0,\n",
    "    'PRIMER_MAX_GC': 80.0,\n",
    "    'PRIMER_MAX_POLY_X': 100,\n",
    "    'PRIMER_INTERNAL_MAX_POLY_X': 100,\n",
    "    'PRIMER_SALT_MONOVALENT': 50.0,\n",
    "    'PRIMER_DNA_CONC': 50.0,\n",
    "    'PRIMER_MAX_NS_ACCEPTED': 0,\n",
    "    'PRIMER_MAX_SELF_ANY': 12,\n",
    "    'PRIMER_MAX_SELF_END': 8,\n",
    "    'PRIMER_PAIR_MAX_COMPL_ANY': 12,\n",
    "    'PRIMER_PAIR_MAX_COMPL_END': 8\n",
    "}\n",
    "\n",
    "# Run the primer design\n",
    "designs = primer3.design_primers(seq_args, global_args)\n",
    "designs = bindings.design_primers(seq_args, global_args)\n",
    "\n",
    "# Output results\n",
    "for key, value in designs.items():\n",
    "    print(f\"{key}: {value}\")\n"
   ]
  },
  {
   "cell_type": "code",
   "execution_count": 12,
   "metadata": {},
   "outputs": [
    {
     "name": "stdout",
     "output_type": "stream",
     "text": [
      "Start of SEQUENCE_INCLUDED_REGION:  1\n",
      "Length of SEQUENCE_INCLUDED_REGION:  70\n",
      "Total length of SEQUENCE_TEMPLATE:  71\n"
     ]
    }
   ],
   "source": [
    "# Print to validate\n",
    "print(\"Start of SEQUENCE_INCLUDED_REGION: \", seq_args['SEQUENCE_INCLUDED_REGION'][0])\n",
    "print(\"Length of SEQUENCE_INCLUDED_REGION: \", seq_args['SEQUENCE_INCLUDED_REGION'][1])\n",
    "print(\"Total length of SEQUENCE_TEMPLATE: \", len(seq_args['SEQUENCE_TEMPLATE']))\n",
    "\n",
    "# Validate bounds\n",
    "if seq_args['SEQUENCE_INCLUDED_REGION'][0] + seq_args['SEQUENCE_INCLUDED_REGION'][1] > len(seq_args['SEQUENCE_TEMPLATE']):\n",
    "    print(\"Error: SEQUENCE_INCLUDED_REGION is out of bounds\")\n"
   ]
  },
  {
   "cell_type": "code",
   "execution_count": 3,
   "metadata": {},
   "outputs": [
    {
     "data": {
      "text/plain": [
       "1500"
      ]
     },
     "execution_count": 3,
     "metadata": {},
     "output_type": "execute_result"
    }
   ],
   "source": [
    "seq = 'AGTGCTTTCGCACGTCGTACCCCTCGGGTAGCTGGCGCTGGATCAGGCTCAGGAACATCTTCCGCATGCGCCGTGGCCACTTCTGGCAGGCGCTGTACACGGCCGCCTGGCGCAGCACGTTCTTCCACCGTACCGCGGTGTAGGCCATGGTCTCCGGCAGCCAGCGGTTGAGCTTCTCGGCGATGCCGTCCCGGTCTGGCTGCGACACGATGTAGGTGGGTGAGCGCTGCAGCATCGTGACGTGCTTGGCGCCCGAGTCCGCCAGCGCCGGCACGAGCGTGACCGCCGTTGCGCCACTGCCGATCACGACGATGTTCTTAGCGTCGTAGTCGAGGTCCTCGGGCCAGTGCTGCGGATGGATGATCGGCCCGACGAAATCCTCCGAGCCGGCGAATCTCGGCGAGTAGCCCTCGTCGTAGTTGTAGTAGCCGCTGCACAGAAAGAGGAATTCGCAGGTGAGGGCGCTGAGCGTGCCGTGGCTTTGGATGTGAACGGTCCAGCGGTTTTCCGCGGTCGACCAATCGGCACTGATCACCTTGTGGTGGAACCGGATATGCCTGTCGATTCCATACATGGCCGCGGTGCTCTTGACGTACTCGAGGATGGGCTTGCCGTCGGCGATCGCCTGCCGTCCGGTCCAGGGACGGAATCGGAAACCTAGCGTGTACATGTCGGAGTCGGAGCGAATTCCGGGATAACGGAACAAATCCCAGGTGCCGCCCATGGATTCCCGCTTTTCCAGGATGGCGTAGCTCTTGGTCGGGCAACGGTCCTGCAGGTGCCAGGCCGCGCTGACACCGGAGATTCCAGCGCCCACGATGACAACGTCGAGGTGCTCGGTCATGGATCCACGCTATCAACGTAATGTCGAGGCCGTCAACGAGATGTCGACACTATCGACACGTAGTAAGCTGCCAGGGTGACCACCTCCGCGGCCAGTCAGGCTTCGCTGCCTAGGGGCCGGCGCACCGCGCGGCCGTCCGGCGACGATCGTGAACTGGCGATCCTCGCCACCGCCGAGAACCTTCTCGAGGACCGTCCGCTGGCCGATATCTCGGTCGACGATCTGGCCAAGGGCGCCGGTATCTCGAGGCCGACGTTCTACTTCTATTTCCCATCCAAGGAAGCGGTGCTGCTGACCCTGCTGGACCGGGTGGTCAATCAAGCCGACATGGCCCTACAGACCCTTGCCGAGAATCCCGCCGACACCGACCGCGAGAACATGTGGCGCACCGGGATCAACGTGTTCTTCGAGACATTCGGGTCGCACAAGGCGGTAACCCGAGCCGGTCAGGCCGCCAGGGCAACCAGTGTCGAAGTCGCCGAACTGTGGTCGACGTTTATGCAGAAGTGGATCGCCTACACGGCCGCCGTGATCGACGCCGAACGCGACCGAGGCGCGGCGCCGCGCACCCTGCCGGCCCATGAACTGGCCACAGCGCTCAACCTGATGAACGAGCGGACGCTGTTCGCGTCATTCGCCGGCGAACAGCCCTCGGT'\n",
    "len(seq)"
   ]
  },
  {
   "cell_type": "code",
   "execution_count": 8,
   "metadata": {},
   "outputs": [
    {
     "data": {
      "text/plain": [
       "'CACGATGTAGGTGGGTGAGCGCTGC'"
      ]
     },
     "execution_count": 8,
     "metadata": {},
     "output_type": "execute_result"
    }
   ],
   "source": [
    "seq[205:230]"
   ]
  },
  {
   "cell_type": "code",
   "execution_count": null,
   "metadata": {},
   "outputs": [],
   "source": [
    "ACTGCCGATCACGACGATGT"
   ]
  },
  {
   "cell_type": "code",
   "execution_count": 13,
   "metadata": {},
   "outputs": [
    {
     "data": {
      "text/plain": [
       "295"
      ]
     },
     "execution_count": 13,
     "metadata": {},
     "output_type": "execute_result"
    }
   ],
   "source": [
    "left_seq = 'AGTGCTTTCGCACGTCGTACCCCTCGGGTAGCTGGCGCTGGATCAGGCTCAGGAACATCTTCCGCATGCGCCGTGGCCACTTCTGGCAGGCGCTGTACACGGCCGCCTGGCGCAGCACGTTCTTCCACCGTACCGCGGTGTAGGCCATGGTCTCCGGCAGCCAGCGGTTGAGCTTCTCGGCGATGCCGTCCCGGTCTGGCTGCGACACGATGTAGGTGGGTGAGCGCTGCAGCATCGTGACGTGCTTGGCGCCCGAGTCCGCCAGCGCCGGCACGAGCGTGACCGCCGTTGCGCC'\n",
    "len(left_seq)"
   ]
  },
  {
   "cell_type": "code",
   "execution_count": null,
   "metadata": {},
   "outputs": [],
   "source": []
  },
  {
   "cell_type": "code",
   "execution_count": 10,
   "metadata": {},
   "outputs": [
    {
     "data": {
      "text/plain": [
       "'AGTGCTTTCGCACGTCGTACCCCTCGGGTAGCTGGCGCTGGATCAGGCTCAGGAACATCTTCCGCATGCGCCGTGGCCACTTCTGGCAGGCGCTGTACACGGCCGCCTGGCGCAGCACGTTCTTCCACCGTACCGCGGTGTAGGCCATGGTCTCCGGCAGCCAGCGGTTGAGCTTCTCGGCGATGCCGTCCCGGTCTGGCTGCGACACGATGTAGGTGGGTGAGCGCTGCAGCATCGTGACGTGCTTGGCGCCCGAGTCCGCCAGCGCCGGCACGAGCGTGACCGCCGTTGCGCC'"
      ]
     },
     "execution_count": 10,
     "metadata": {},
     "output_type": "execute_result"
    }
   ],
   "source": [
    "left_seq"
   ]
  },
  {
   "cell_type": "code",
   "execution_count": 12,
   "metadata": {},
   "outputs": [
    {
     "data": {
      "text/plain": [
       "'AACCGGATATGCCTGTCGAT'"
      ]
     },
     "execution_count": 12,
     "metadata": {},
     "output_type": "execute_result"
    }
   ],
   "source": [
    "primer_selection.extract_sequence_from_fasta(4327174, 4327174+20, padding=0)"
   ]
  },
  {
   "cell_type": "code",
   "execution_count": 15,
   "metadata": {},
   "outputs": [
    {
     "data": {
      "text/plain": [
       "'CGGTTTTCCGCGGTCGACCA'"
      ]
     },
     "execution_count": 15,
     "metadata": {},
     "output_type": "execute_result"
    }
   ],
   "source": [
    "primer_selection.extract_sequence_from_fasta(4327129, 4327129+20, padding=0)\n"
   ]
  },
  {
   "cell_type": "code",
   "execution_count": 14,
   "metadata": {},
   "outputs": [
    {
     "data": {
      "text/plain": [
       "4327424"
      ]
     },
     "execution_count": 14,
     "metadata": {},
     "output_type": "execute_result"
    }
   ],
   "source": [
    "4327129 + 295"
   ]
  },
  {
   "cell_type": "code",
   "execution_count": 36,
   "metadata": {},
   "outputs": [
    {
     "name": "stdout",
     "output_type": "stream",
     "text": [
      "Sequence found in Chromosome from position 760286 to 760306\n"
     ]
    }
   ],
   "source": [
    "from Bio import SeqIO\n",
    "\n",
    "def find_sequence_location(fasta_file, query_sequence):\n",
    "    for record in SeqIO.parse(fasta_file, \"fasta\"):\n",
    "        sequence = str(record.seq)\n",
    "        if query_sequence in sequence:\n",
    "            start_index = sequence.index(query_sequence)\n",
    "            end_index = start_index + len(query_sequence)\n",
    "            return f\"Sequence found in {record.id} from position {start_index} to {end_index}\"\n",
    "    return \"Sequence not found in the FASTA file\"\n",
    "\n",
    "# Example usage\n",
    "fasta_file = \"/mnt/storage10/lwang/Projects/Amplicone_design_tool/MTB-h37rv_asm19595v2-eg18.fa\"\n",
    "query_sequence = \"ATCATCAACGGGACCGAGCG\"\n",
    "\n",
    "result = find_sequence_location(fasta_file, query_sequence)\n",
    "print(result)\n"
   ]
  },
  {
   "cell_type": "code",
   "execution_count": 40,
   "metadata": {},
   "outputs": [
    {
     "name": "stdout",
     "output_type": "stream",
     "text": [
      "Sequence found in Chromosome from position 760365 to 760385\n"
     ]
    }
   ],
   "source": [
    "fasta_file = \"/mnt/storage10/lwang/Projects/Amplicone_design_tool/MTB-h37rv_asm19595v2-eg18.fa\"\n",
    "query_sequence = \"AGTCCACCGACAAGACGCTG\"\n",
    "\n",
    "result = find_sequence_location(fasta_file, query_sequence)\n",
    "print(result)"
   ]
  },
  {
   "cell_type": "code",
   "execution_count": 35,
   "metadata": {},
   "outputs": [
    {
     "data": {
      "text/plain": [
       "4327879"
      ]
     },
     "execution_count": 35,
     "metadata": {},
     "output_type": "execute_result"
    }
   ],
   "source": [
    "4328229-350"
   ]
  },
  {
   "cell_type": "code",
   "execution_count": 41,
   "metadata": {},
   "outputs": [
    {
     "data": {
      "text/plain": [
       "'Sequence found in Chromosome from position 13 to 33'"
      ]
     },
     "execution_count": 41,
     "metadata": {},
     "output_type": "execute_result"
    }
   ],
   "source": [
    "find_sequence_location(fasta_file, 'CCGGTTCAGGCTTCACCACA')"
   ]
  },
  {
   "cell_type": "code",
   "execution_count": 45,
   "metadata": {},
   "outputs": [],
   "source": [
    "from Bio import SeqIO\n",
    "\n",
    "def find_sequence_location(query_sequence, position, fasta_file):\n",
    "    closest_start = float('inf')\n",
    "    closest_end = float('inf')\n",
    "    closest_record = None\n",
    "\n",
    "    for record in SeqIO.parse(fasta_file, \"fasta\"):\n",
    "        sequence = str(record.seq)\n",
    "        index = sequence.find(query_sequence)\n",
    "        \n",
    "        while index != -1:\n",
    "            start_index = index\n",
    "            end_index = index + len(query_sequence)\n",
    "            \n",
    "            if abs(position - start_index) < abs(position - closest_start):\n",
    "                closest_start = start_index\n",
    "                closest_end = end_index\n",
    "                closest_record = record.id\n",
    "\n",
    "            index = sequence.find(query_sequence, index + 1)\n",
    "\n",
    "    if closest_record is not None:\n",
    "        return closest_start, closest_end\n",
    "    else:\n",
    "        print(\"Primer Sequence not found in FASTA file.\")\n",
    "        return 0,0"
   ]
  },
  {
   "cell_type": "code",
   "execution_count": 50,
   "metadata": {},
   "outputs": [
    {
     "data": {
      "text/plain": [
       "(4325973, 4325993)"
      ]
     },
     "execution_count": 50,
     "metadata": {},
     "output_type": "execute_result"
    }
   ],
   "source": [
    "find_sequence_location('GCCTAAACCGGCGCTAAACC', 4326008, fasta_file='/mnt/storage10/lwang/Projects/Amplicone_design_tool/MTB-h37rv_asm19595v2-eg18.fa')\n"
   ]
  },
  {
   "cell_type": "code",
   "execution_count": 28,
   "metadata": {},
   "outputs": [
    {
     "data": {
      "text/plain": [
       "'ACTGCCGATCACGACGATGT'"
      ]
     },
     "execution_count": 28,
     "metadata": {},
     "output_type": "execute_result"
    }
   ],
   "source": [
    "primer_selection.extract_sequence_from_fasta(4326924, 4326944, padding=0)\n"
   ]
  },
  {
   "cell_type": "code",
   "execution_count": 25,
   "metadata": {},
   "outputs": [],
   "source": [
    "from Bio import SeqIO\n",
    "\n",
    "def find_sequence_location(fasta_file, query_sequence, position):\n",
    "    closest_start = float('inf')\n",
    "    closest_end = float('inf')\n",
    "    closest_record = None\n",
    "\n",
    "    for record in SeqIO.parse(fasta_file, \"fasta\"):\n",
    "        sequence = str(record.seq)\n",
    "        index = sequence.find(query_sequence)\n",
    "        \n",
    "        while index != -1:\n",
    "            start_index = index\n",
    "            end_index = index + len(query_sequence)\n",
    "            \n",
    "            if abs(position - start_index) < abs(position - closest_start):\n",
    "                closest_start = start_index\n",
    "                closest_end = end_index\n",
    "                closest_record = record.id\n",
    "\n",
    "            index = sequence.find(query_sequence, index + 1)\n",
    "\n",
    "    if closest_record is not None:\n",
    "        return closest_start, closest_end\n",
    "    else:\n",
    "        return \"Sequence not found in the FASTA file\""
   ]
  },
  {
   "cell_type": "code",
   "execution_count": 29,
   "metadata": {},
   "outputs": [
    {
     "data": {
      "text/plain": [
       "4326924"
      ]
     },
     "execution_count": 29,
     "metadata": {},
     "output_type": "execute_result"
    }
   ],
   "source": [
    "query_sequence ='ACTGCCGATCACGACGATGT'\n",
    "# query_sequence = primer_selection.reverse_complement_sequence(query_sequence)\n",
    "find_sequence_location(fasta_file, query_sequence, 4327932)[0]\n",
    "# print(result)"
   ]
  },
  {
   "cell_type": "code",
   "execution_count": null,
   "metadata": {},
   "outputs": [],
   "source": [
    "4327129 4327629"
   ]
  },
  {
   "cell_type": "code",
   "execution_count": null,
   "metadata": {},
   "outputs": [],
   "source": [
    "4327129"
   ]
  },
  {
   "cell_type": "code",
   "execution_count": 20,
   "metadata": {},
   "outputs": [
    {
     "data": {
      "text/plain": [
       "4326629"
      ]
     },
     "execution_count": 20,
     "metadata": {},
     "output_type": "execute_result"
    }
   ],
   "source": [
    "[[4326879, 4327879],\n",
    " [2282776, 2283776],\n",
    " [2285958, 2286958],\n",
    " [4246734, 4247734],\n",
    " [4244193, 4245193],\n",
    " [2280899, 2281899],\n",
    " [2152912, 2153912],\n",
    " [2284954, 2285954],\n",
    " [2747141, 2748141],\n",
    " [1834840, 1835840],\n",
    " [2150990, 2151990],\n",
    " [2277174, 2278174],\n",
    " [3067958, 3068958],\n",
    " [2147188, 2148188],\n",
    " [2138550, 2139550],\n",
    " [2281712, 2282712],\n",
    " [2283527, 2284527],\n",
    " [1416371, 1417371],\n",
    " [3840393, 3841393],\n",
    " [3073502, 3074502],\n",
    " [2149884, 2150884],\n",
    " [2276296, 2277296],\n",
    " [2279554, 2280554],\n",
    " [2287239, 2288239],\n",
    " [2141412, 2142412],\n",
    " [2140159, 2141159],\n",
    " [2148199, 2149199],\n",
    " [2144518, 2145518],\n",
    " [3086947, 3087947],\n",
    " [2128861, 2129861]]"
   ]
  }
 ],
 "metadata": {
  "kernelspec": {
   "display_name": "ml-s10",
   "language": "python",
   "name": "python3"
  },
  "language_info": {
   "codemirror_mode": {
    "name": "ipython",
    "version": 3
   },
   "file_extension": ".py",
   "mimetype": "text/x-python",
   "name": "python",
   "nbconvert_exporter": "python",
   "pygments_lexer": "ipython3",
   "version": "3.11.6"
  },
  "orig_nbformat": 4
 },
 "nbformat": 4,
 "nbformat_minor": 2
}

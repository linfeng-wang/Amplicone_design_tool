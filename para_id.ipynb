{
 "cells": [
  {
   "cell_type": "code",
   "execution_count": 39,
   "metadata": {},
   "outputs": [],
   "source": [
    "# In this file we try to identify the best parameters for the amplicone design tool given known parameters\n",
    "#%%\n",
    "from functools import partial\n",
    "from random import choices, randint, randrange, random, sample\n",
    "from typing import List, Optional, Callable, Tuple\n",
    "import numpy as np\n",
    "# from geneticalgorithm import geneticalgorithm as ga\n",
    "import pandas as pd\n",
    "from collections import Counter\n",
    "from tqdm import tqdm\n",
    "import time\n",
    "from Bio.SeqUtils import MeltingTemp\n",
    "from Bio import SeqIO\n",
    "from Bio.Blast import NCBIWWW, NCBIXML\n",
    "import primer3\n",
    "from Bio.Seq import Seq\n",
    "from Bio.SeqUtils import MeltingTemp\n",
    "from primer3 import calc_heterodimer\n",
    "from primer3 import bindings"
   ]
  },
  {
   "attachments": {},
   "cell_type": "markdown",
   "metadata": {},
   "source": [
    "# functions"
   ]
  },
  {
   "cell_type": "code",
   "execution_count": 78,
   "metadata": {},
   "outputs": [
    {
     "name": "stdout",
     "output_type": "stream",
     "text": [
      "Tm: 30.40290207197791\n",
      "GC content: 50.0\n"
     ]
    }
   ],
   "source": [
    "reference_genome= '/mnt/storage10/lwang/Projects/Amplicone_design_tool/MTB-h37rv_asm19595v2-eg18.fa'\n",
    "\n",
    "def calculate_gc_content(sequence):\n",
    "    \"\"\"\n",
    "    Calculate the percentage of G and C nucleotides in a DNA sequence.\n",
    "\n",
    "    Args:\n",
    "        sequence (str): DNA sequence string.\n",
    "\n",
    "    Returns:\n",
    "        float: Percentage of G and C nucleotides in the sequence.\n",
    "    \"\"\"\n",
    "    gc_count = 0\n",
    "    total_count = 0\n",
    "\n",
    "    for nucleotide in sequence:\n",
    "        if nucleotide.upper() in ['G', 'C']:\n",
    "            gc_count += 1\n",
    "        if nucleotide.upper() in ['A', 'T', 'G', 'C']:\n",
    "            total_count += 1\n",
    "\n",
    "    gc_percentage = (gc_count / total_count) * 100\n",
    "    return gc_percentage\n",
    "\n",
    "def extract_sequence_from_fasta(start_pos, end_pos, padding = 150, fasta_file= '/mnt/storage10/lwang/Projects/Amplicone_design_tool/MTB-h37rv_asm19595v2-eg18.fa', sequence_id='Chromosome'):\n",
    "    \"\"\"\n",
    "    Extracts a subsequence from a FASTA file based on the given sequence ID, start position, and end position.\n",
    "    \"\"\"\n",
    "    # Iterate over the sequences in the FASTA file\n",
    "    for record in SeqIO.parse(fasta_file, \"fasta\"):\n",
    "        # Check if the current sequence ID matches the desired sequence ID\n",
    "        \n",
    "        if record.id == sequence_id:\n",
    "            # Extract the subsequence based on the start and end positions\n",
    "            subsequence = record.seq[start_pos-padding:end_pos+padding]\n",
    "            return str(subsequence)  # Return the subsequence as a string\n",
    "    # If the sequence ID is not found, return None\n",
    "    return None\n",
    "\n",
    "def complement_sequence(seq):\n",
    "    complement = {\"A\": \"T\", \"T\": \"A\", \"C\": \"G\", \"G\": \"C\"}\n",
    "    return \"\".join(complement[base] for base in seq)\n",
    "\n",
    "def reverse_complement_sequence(seq):\n",
    "    complement = {\"A\": \"T\", \"T\": \"A\", \"C\": \"G\", \"G\": \"C\"}\n",
    "    reverse_seq = seq[::-1]\n",
    "    return \"\".join(complement[base] for base in reverse_seq)\n",
    "\n",
    "def find_sequence_location(query_sequence, position=0, fasta_file=reference_genome):\n",
    "    closest_start = float('inf')\n",
    "    closest_end = float('inf')\n",
    "    closest_record = None\n",
    "\n",
    "    for record in SeqIO.parse(fasta_file, \"fasta\"):\n",
    "        sequence = str(record.seq)\n",
    "        index = sequence.find(query_sequence)\n",
    "        \n",
    "        while index != -1:\n",
    "            start_index = index\n",
    "            end_index = index + len(query_sequence)\n",
    "            \n",
    "            if abs(position - start_index) < abs(position - closest_start):\n",
    "                closest_start = start_index\n",
    "                closest_end = end_index\n",
    "                closest_record = record.id\n",
    "\n",
    "            index = sequence.find(query_sequence, index + 1)\n",
    "\n",
    "    if closest_record is not None:\n",
    "        return closest_start, closest_end\n",
    "    else:\n",
    "        print(\"Primer Sequence not found in FASTA file.\")\n",
    "        return 0,0\n",
    "    \n",
    "from difflib import SequenceMatcher\n",
    "def check_similarity(seq1, seq2, threshold=0.3):\n",
    "    #Check if two sequences look similar based on their similarity score.\n",
    "    # Parameters:\n",
    "    # - seq1: First sequence (string)\n",
    "    # - seq2: Second sequence (string)\n",
    "    # - threshold: Similarity threshold (float between 0 and 1)\n",
    "    # Returns:\n",
    "    # - True if the sequences look similar, False otherwise\n",
    "    \n",
    "    similarity_score = SequenceMatcher(None, seq1, seq2).ratio()\n",
    "    if similarity_score >= threshold:\n",
    "        return True\n",
    "    else:\n",
    "        return False\n",
    "    \n",
    "from Bio.SeqUtils import MeltingTemp\n",
    "def calculate_tm_gc(primer_sequence):\n",
    "    # Calculate Tm\n",
    "    tm = MeltingTemp.Tm_GC(primer_sequence)\n",
    "    # Calculate GC content\n",
    "    gc_count = primer_sequence.count('G') + primer_sequence.count('C')\n",
    "    gc_content = (gc_count / len(primer_sequence)) * 100\n",
    "\n",
    "    return tm, gc_content\n",
    "# Example usage\n",
    "primer = 'ATCGATCGATCG'\n",
    "tm, gc_content = calculate_tm_gc(primer)\n",
    "print('Tm:', tm)\n",
    "print('GC content:', gc_content)"
   ]
  },
  {
   "attachments": {},
   "cell_type": "markdown",
   "metadata": {},
   "source": [
    "# loading in the data of known primers"
   ]
  },
  {
   "cell_type": "code",
   "execution_count": 6,
   "metadata": {},
   "outputs": [],
   "source": [
    "known_primers = pd.read_excel('/mnt/storage10/lwang/Projects/Amplicone_design_tool/amplicon_TB_2023_V2.xlsx', sheet_name='primers', header=1)"
   ]
  },
  {
   "cell_type": "code",
   "execution_count": 33,
   "metadata": {},
   "outputs": [],
   "source": [
    "known_primers = known_primers[['Drug','primer name', 'forward', 'reverse', 'Amplicon size', 'Start', 'End']]\n",
    "known_primers = known_primers.iloc[:39,:]"
   ]
  },
  {
   "cell_type": "code",
   "execution_count": 61,
   "metadata": {},
   "outputs": [
    {
     "data": {
      "text/html": [
       "<div>\n",
       "<style scoped>\n",
       "    .dataframe tbody tr th:only-of-type {\n",
       "        vertical-align: middle;\n",
       "    }\n",
       "\n",
       "    .dataframe tbody tr th {\n",
       "        vertical-align: top;\n",
       "    }\n",
       "\n",
       "    .dataframe thead th {\n",
       "        text-align: right;\n",
       "    }\n",
       "</style>\n",
       "<table border=\"1\" class=\"dataframe\">\n",
       "  <thead>\n",
       "    <tr style=\"text-align: right;\">\n",
       "      <th></th>\n",
       "      <th>Drug</th>\n",
       "      <th>primer name</th>\n",
       "      <th>forward</th>\n",
       "      <th>reverse</th>\n",
       "      <th>Amplicon size</th>\n",
       "      <th>Start</th>\n",
       "      <th>End</th>\n",
       "    </tr>\n",
       "  </thead>\n",
       "  <tbody>\n",
       "    <tr>\n",
       "      <th>0</th>\n",
       "      <td>Fluoroquinolones</td>\n",
       "      <td>gyrB</td>\n",
       "      <td>AGAGTTGGTGCGGCGTAA</td>\n",
       "      <td>GCCACTTGAGTTTGTACAGC</td>\n",
       "      <td>449.0</td>\n",
       "      <td>6511.0</td>\n",
       "      <td>6959.0</td>\n",
       "    </tr>\n",
       "    <tr>\n",
       "      <th>1</th>\n",
       "      <td>Fluoroquinolones</td>\n",
       "      <td>gyrA</td>\n",
       "      <td>GTTGACATCGAGCAGGAGAT</td>\n",
       "      <td>AAATCGACTGTCTCCTCGTC</td>\n",
       "      <td>404.0</td>\n",
       "      <td>7353.0</td>\n",
       "      <td>7756.0</td>\n",
       "    </tr>\n",
       "    <tr>\n",
       "      <th>2</th>\n",
       "      <td>Rifampicin</td>\n",
       "      <td>rpoB_1</td>\n",
       "      <td>GGTGGCCTGGAAGAGGT</td>\n",
       "      <td>AGAACCCGAACCGCTCG</td>\n",
       "      <td>514.0</td>\n",
       "      <td>760038.0</td>\n",
       "      <td>760551.0</td>\n",
       "    </tr>\n",
       "    <tr>\n",
       "      <th>3</th>\n",
       "      <td>Rifampicin</td>\n",
       "      <td>rpoB_2</td>\n",
       "      <td>CCCCGACCAAAGAGTCA</td>\n",
       "      <td>CTCACGTGACAGACCGC</td>\n",
       "      <td>542.0</td>\n",
       "      <td>760645.0</td>\n",
       "      <td>761186.0</td>\n",
       "    </tr>\n",
       "    <tr>\n",
       "      <th>4</th>\n",
       "      <td>Rifampicin</td>\n",
       "      <td>rifampicin</td>\n",
       "      <td>TGCTCACCTCGATCCACATC</td>\n",
       "      <td>ATCTTGCGTTTCTGAGCCAC</td>\n",
       "      <td>400.0</td>\n",
       "      <td>762025.0</td>\n",
       "      <td>762424.0</td>\n",
       "    </tr>\n",
       "  </tbody>\n",
       "</table>\n",
       "</div>"
      ],
      "text/plain": [
       "               Drug primer name               forward               reverse  \\\n",
       "0  Fluoroquinolones        gyrB    AGAGTTGGTGCGGCGTAA  GCCACTTGAGTTTGTACAGC   \n",
       "1  Fluoroquinolones        gyrA  GTTGACATCGAGCAGGAGAT  AAATCGACTGTCTCCTCGTC   \n",
       "2        Rifampicin      rpoB_1     GGTGGCCTGGAAGAGGT     AGAACCCGAACCGCTCG   \n",
       "3        Rifampicin      rpoB_2     CCCCGACCAAAGAGTCA     CTCACGTGACAGACCGC   \n",
       "4        Rifampicin  rifampicin  TGCTCACCTCGATCCACATC  ATCTTGCGTTTCTGAGCCAC   \n",
       "\n",
       "   Amplicon size     Start       End  \n",
       "0          449.0    6511.0    6959.0  \n",
       "1          404.0    7353.0    7756.0  \n",
       "2          514.0  760038.0  760551.0  \n",
       "3          542.0  760645.0  761186.0  \n",
       "4          400.0  762025.0  762424.0  "
      ]
     },
     "execution_count": 61,
     "metadata": {},
     "output_type": "execute_result"
    }
   ],
   "source": [
    "known_primers.head()"
   ]
  },
  {
   "attachments": {},
   "cell_type": "markdown",
   "metadata": {},
   "source": [
    "# getting the tm, gc and primer size range of hte known primers"
   ]
  },
  {
   "cell_type": "code",
   "execution_count": 35,
   "metadata": {},
   "outputs": [
    {
     "name": "stdout",
     "output_type": "stream",
     "text": [
      "highest_tm: 58.81956873864458\n",
      "lowest_tm: 47.06956873864456\n",
      "highest_gc: 68.42105263157895\n",
      "lowest_gc: 45.0\n",
      "longest_primer: 24\n",
      "shortest_primer: 17\n"
     ]
    }
   ],
   "source": [
    "highest_tm = 0\n",
    "lowest_tm = 100\n",
    "highest_gc = 0\n",
    "lowest_gc = 100\n",
    "longest_primer = 0\n",
    "shortest_primer = 100\n",
    "\n",
    "for i, row in known_primers.iterrows():\n",
    "    try:\n",
    "        tm, gc_content = calculate_tm_gc(row['forward'])\n",
    "    except:\n",
    "        print(row['forward'])\n",
    "    if tm > highest_tm:\n",
    "        highest_tm = tm\n",
    "    if tm < lowest_tm:\n",
    "        lowest_tm = tm\n",
    "    if gc_content > highest_gc:\n",
    "        highest_gc = gc_content\n",
    "    if gc_content < lowest_gc:\n",
    "        lowest_gc = gc_content\n",
    "        \n",
    "    tm, gc_content = calculate_tm_gc(row['reverse'])\n",
    "    if tm > highest_tm:\n",
    "        highest_tm = tm\n",
    "    if tm < lowest_tm:\n",
    "        lowest_tm = tm\n",
    "    if gc_content > highest_gc:\n",
    "        highest_gc = gc_content\n",
    "    if gc_content < lowest_gc:\n",
    "        lowest_gc = gc_content\n",
    "        \n",
    "    if len(row['forward']) > longest_primer:\n",
    "        longest_primer = len(row['forward'])\n",
    "    if len(row['forward']) < shortest_primer:\n",
    "        shortest_primer = len(row['forward'])\n",
    "    if len(row['reverse']) > longest_primer:\n",
    "        longest_primer = len(row['reverse'])\n",
    "    if len(row['reverse']) < shortest_primer:\n",
    "        shortest_primer = len(row['reverse'])\n",
    "\n",
    "print('highest_tm:', highest_tm)\n",
    "print('lowest_tm:', lowest_tm)\n",
    "print('highest_gc:', highest_gc)\n",
    "print('lowest_gc:', lowest_gc)\n",
    "print('longest_primer:', longest_primer)\n",
    "print('shortest_primer:', shortest_primer)"
   ]
  },
  {
   "attachments": {},
   "cell_type": "markdown",
   "metadata": {},
   "source": [
    "# getting primer3 output"
   ]
  },
  {
   "cell_type": "code",
   "execution_count": 100,
   "metadata": {},
   "outputs": [
    {
     "name": "stdout",
     "output_type": "stream",
     "text": [
      "78\n"
     ]
    }
   ],
   "source": [
    "print(len(sequence))"
   ]
  },
  {
   "cell_type": "code",
   "execution_count": 115,
   "metadata": {},
   "outputs": [
    {
     "name": "stdout",
     "output_type": "stream",
     "text": [
      "considered 643, unacceptable product size 38, ok 605\n"
     ]
    }
   ],
   "source": [
    "sequence = extract_sequence_from_fasta(6511-5, 6959, padding = 0, fasta_file= '/mnt/storage10/lwang/Projects/Amplicone_design_tool/MTB-h37rv_asm19595v2-eg18.fa', sequence_id='Chromosome')\n",
    "\n",
    "middle = extract_sequence_from_fasta(30000, 30500, padding = 0, fasta_file= '/mnt/storage10/lwang/Projects/Amplicone_design_tool/GCF_000002765.5_GCA_000002765_genomic.fna', sequence_id='NC_004325.2')\n",
    "\n",
    "# sequence[:250]+'N'*100+sequence[-250:]\n",
    "# print(sequence)\n",
    "results = bindings.design_primers(\n",
    "            seq_args={\n",
    "                'SEQUENCE_ID': 'primer',\n",
    "\n",
    "                'SEQUENCE_TEMPLATE': sequence,\n",
    "                'SEQUENCE_INCLUDED_REGION': [0,len(sequence)],\n",
    "                # 'SEQUENCE_INCLUDED_REGION': [(250,len(sequence)-250)],\n",
    "                # 'SEQUENCE_EXCLUDED_REGION': [(200,300)],\n",
    "                \n",
    "                # 'SEQUENCE_TEMPLATE': sequence[:250]+middle+sequence[-250:],\n",
    "                # 'SEQUENCE_INCLUDED_REGION': [250,750],\n",
    "                # 'SEQUENCE_EXCLUDED_REGION': [250,750],\n",
    "\n",
    "                # 'SEQUENCE_INCLUDED_REGION': sequence[:251],\n",
    "            },\n",
    "            global_args={\n",
    "                'PRIMER_NUM_RETURN': 600,\n",
    "                # 'PRIMER_OPT_SIZE': 20,\n",
    "                # 'PRIMER_PICK_INTERNAL_OLIGO': 0,\n",
    "                # 'PRIMER_INTERNAL_MAX_SELF_END': 8,\n",
    "                # 'PRIMER_MIN_THREE_PRIME_DISTANCE':10,\n",
    "                # 'PRIMER_MIN_FIVE_PRIME_DISTANCE':10,\n",
    "                'PRIMER_MIN_SIZE': 15,\n",
    "                'PRIMER_MAX_SIZE': 36,\n",
    "                'PRIMER_OPT_TM': 50.0,\n",
    "                'PRIMER_MIN_TM': 0, #47.0,\n",
    "                'PRIMER_MAX_TM': 100,#59.0,\n",
    "                'PRIMER_MIN_GC': 0,#45.0,\n",
    "                'PRIMER_MAX_GC': 100,#79.0,\n",
    "                # 'PRIMER_MAX_POLY_X': 5,\n",
    "                # 'PRIMER_INTERNAL_MAX_POLY_X': 5,\n",
    "                'PRIMER_SALT_MONOVALENT': 50.0,\n",
    "                'PRIMER_DNA_CONC': 500.0,\n",
    "                # 'PRIMER_MAX_NS_ACCEPTED': 2,\n",
    "                # 'PRIMER_MAX_SELF_ANY': 5,\n",
    "                # 'PRIMER_MAX_SELF_END': 2,\n",
    "                # 'PRIMER_PAIR_MAX_COMPL_ANY': 5,\n",
    "                # 'PRIMER_PAIR_MAX_COMPL_END': 2,\n",
    "                'PRIMER_PRODUCT_SIZE_RANGE': '440-470',\n",
    "                # 'PRIMER_PRODUCT_SIZE_RANGE': '550-650',\n",
    "                # 'PRIMER_PRODUCT_SIZE_RANGE': [\n",
    "                #     # [950,1050]\n",
    "                #     [len(sequence)-350,len(sequence)-250]\n",
    "                # ],\n",
    "            })\n",
    "\n",
    "print(results['PRIMER_PAIR_EXPLAIN'])"
   ]
  },
  {
   "cell_type": "code",
   "execution_count": 68,
   "metadata": {},
   "outputs": [
    {
     "data": {
      "text/plain": [
       "'considered 1302, unacceptable product size 1149, ok 153'"
      ]
     },
     "execution_count": 68,
     "metadata": {},
     "output_type": "execute_result"
    }
   ],
   "source": []
  },
  {
   "cell_type": "code",
   "execution_count": 81,
   "metadata": {},
   "outputs": [
    {
     "data": {
      "text/html": [
       "<div>\n",
       "<style scoped>\n",
       "    .dataframe tbody tr th:only-of-type {\n",
       "        vertical-align: middle;\n",
       "    }\n",
       "\n",
       "    .dataframe tbody tr th {\n",
       "        vertical-align: top;\n",
       "    }\n",
       "\n",
       "    .dataframe thead th {\n",
       "        text-align: right;\n",
       "    }\n",
       "</style>\n",
       "<table border=\"1\" class=\"dataframe\">\n",
       "  <thead>\n",
       "    <tr style=\"text-align: right;\">\n",
       "      <th></th>\n",
       "      <th>Drug</th>\n",
       "      <th>primer name</th>\n",
       "      <th>forward</th>\n",
       "      <th>reverse</th>\n",
       "      <th>Amplicon size</th>\n",
       "      <th>Start</th>\n",
       "      <th>End</th>\n",
       "    </tr>\n",
       "  </thead>\n",
       "  <tbody>\n",
       "    <tr>\n",
       "      <th>0</th>\n",
       "      <td>Fluoroquinolones</td>\n",
       "      <td>gyrB</td>\n",
       "      <td>AGAGTTGGTGCGGCGTAA</td>\n",
       "      <td>GCCACTTGAGTTTGTACAGC</td>\n",
       "      <td>449.0</td>\n",
       "      <td>6511.0</td>\n",
       "      <td>6959.0</td>\n",
       "    </tr>\n",
       "  </tbody>\n",
       "</table>\n",
       "</div>"
      ],
      "text/plain": [
       "               Drug primer name             forward               reverse  \\\n",
       "0  Fluoroquinolones        gyrB  AGAGTTGGTGCGGCGTAA  GCCACTTGAGTTTGTACAGC   \n",
       "\n",
       "   Amplicon size   Start     End  \n",
       "0          449.0  6511.0  6959.0  "
      ]
     },
     "execution_count": 81,
     "metadata": {},
     "output_type": "execute_result"
    }
   ],
   "source": [
    "known_primers.head(1)"
   ]
  },
  {
   "attachments": {},
   "cell_type": "markdown",
   "metadata": {},
   "source": [
    "# checking primer similarity"
   ]
  },
  {
   "cell_type": "code",
   "execution_count": 94,
   "metadata": {},
   "outputs": [
    {
     "data": {
      "text/plain": [
       "(6510, 6528)"
      ]
     },
     "execution_count": 94,
     "metadata": {},
     "output_type": "execute_result"
    }
   ],
   "source": [
    "find_sequence_location('AGAGTTGGTGCGGCGTAA')"
   ]
  },
  {
   "cell_type": "code",
   "execution_count": 118,
   "metadata": {},
   "outputs": [
    {
     "name": "stdout",
     "output_type": "stream",
     "text": [
      "AGAGTTGGTGCGGCGTAA 62.88089938584807 55.55555555555556\n",
      "(6510, 6528)\n",
      "AGAGTTGGTGCGGCGTAA 62.88089938584807 55.55555555555556\n",
      "(6510, 6528)\n",
      "AGAGTTGGTGCGGCGTAA 62.88089938584807 55.55555555555556\n",
      "(6510, 6528)\n",
      "AGAGTTGGTGCGGCGTAA 62.88089938584807 55.55555555555556\n",
      "(6510, 6528)\n",
      "AGAGTTGGTGCGGCGTAA 62.88089938584807 55.55555555555556\n",
      "(6510, 6528)\n",
      "AGAGTTGGTGCGGCGTAA 62.88089938584807 55.55555555555556\n",
      "(6510, 6528)\n",
      "AGAGTTGGTGCGGCGTAA 62.88089938584807 55.55555555555556\n",
      "(6510, 6528)\n",
      "AGAGTTGGTGCGGCGTAA 62.88089938584807 55.55555555555556\n",
      "(6510, 6528)\n",
      "AGAGTTGGTGCGGCGTAA 62.88089938584807 55.55555555555556\n",
      "(6510, 6528)\n",
      "AGAGTTGGTGCGGCGTAA 62.88089938584807 55.55555555555556\n",
      "(6510, 6528)\n",
      "AGAGTTGGTGCGGCGTAA 62.88089938584807 55.55555555555556\n",
      "(6510, 6528)\n"
     ]
    }
   ],
   "source": [
    "# checking primer similarity\n",
    "query_seq = 'AGAGTTGGTGCGGCGTAA'\n",
    "threshold = 0.99\n",
    "primer_loc = [6510, 6928]\n",
    "for x in results['PRIMER_LEFT']:\n",
    "    # print(x['SEQUENCE'], x['TM'], x['GC_PERCENT'])\n",
    "    seq_loc = find_sequence_location(x['SEQUENCE'])\n",
    "    # if check_similarity(x['SEQUENCE'], query_seq, threshold=threshold) & seq_loc[0]>primer_loc[0]-10 & seq_loc[1]<primer_loc[1]+10:\n",
    "    if check_similarity(x['SEQUENCE'], query_seq, threshold=threshold):\n",
    "        # checking to see if the primer is within 10 bp of the known primer and have a similarity of that passses the threshold\n",
    "        # print(check_similarity(x['SEQUENCE'], query_seq, threshold=threshold))\n",
    "        print(x['SEQUENCE'], x['TM'], x['GC_PERCENT'])\n",
    "        print(seq_loc)"
   ]
  },
  {
   "cell_type": "code",
   "execution_count": 58,
   "metadata": {},
   "outputs": [
    {
     "data": {
      "text/plain": [
       "True"
      ]
     },
     "execution_count": 58,
     "metadata": {},
     "output_type": "execute_result"
    }
   ],
   "source": [
    "check_similarity('ATCGATCGATCG', 'ATCGATCGATCG')"
   ]
  },
  {
   "cell_type": "code",
   "execution_count": 22,
   "metadata": {},
   "outputs": [
    {
     "data": {
      "text/plain": [
       "{'internal_oligo_complementarity': ThermoResult(structure_found=True, tm=35.91, dg=-10909.11, dh=-86800.00, ds=-244.69),\n",
       " 'consecutive_identical_bases': ThermoResult(structure_found=True, tm=50.69, dg=-1174.97, dh=-27800.00, ds=-85.85)}"
      ]
     },
     "execution_count": 22,
     "metadata": {},
     "output_type": "execute_result"
    }
   ],
   "source": [
    "# from Bio.Emboss.primer3 import Primer3\n",
    "def calculate_primer_properties(primer_sequence):\n",
    "    primer_properties = {}\n",
    "    # Calculate 3' self-complementarity of an internal oligo\n",
    "    primer_properties['internal_oligo_complementarity'] = primer3.calcHomodimer(primer_sequence)\n",
    "    # Calculate the size of consecutive identical base repeats in a primer\n",
    "    primer_properties['consecutive_identical_bases'] = primer3.calcHairpin(primer_sequence)\n",
    "    # Calculate the self-complementarity score for any part of a primer\n",
    "    # primer_properties['any_part_complementarity'] = primer3.calcHeterodimer(primer_sequence)\n",
    "    # Calculate the self-complementarity score for the 3' end of a primer\n",
    "    # primer_properties['three_prime_complementarity'] = primer3.calcEndStability(primer_sequence)\n",
    "    return primer_properties\n",
    "\n",
    "calculate_primer_properties('ATCGATCGATCG')"
   ]
  },
  {
   "cell_type": "code",
   "execution_count": null,
   "metadata": {},
   "outputs": [],
   "source": []
  }
 ],
 "metadata": {
  "kernelspec": {
   "display_name": "ml-s10",
   "language": "python",
   "name": "python3"
  },
  "language_info": {
   "codemirror_mode": {
    "name": "ipython",
    "version": 3
   },
   "file_extension": ".py",
   "mimetype": "text/x-python",
   "name": "python",
   "nbconvert_exporter": "python",
   "pygments_lexer": "ipython3",
   "version": "3.11.2"
  },
  "orig_nbformat": 4
 },
 "nbformat": 4,
 "nbformat_minor": 2
}

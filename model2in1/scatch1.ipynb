{
 "cells": [
  {
   "cell_type": "code",
   "execution_count": 1,
   "metadata": {},
   "outputs": [
    {
     "name": "stderr",
     "output_type": "stream",
     "text": [
      "/tmp/ipykernel_3390909/2147551372.py:18: DeprecationWarning: the imp module is deprecated in favour of importlib and slated for removal in Python 3.12; see the module's documentation for alternative uses\n",
      "  from imp import reload\n"
     ]
    },
    {
     "data": {
      "text/plain": [
       "<module 'Thermo' from '/mnt/storage10/lwang/Projects/Amplicone_design_tool/model2in1/Thermo.py'>"
      ]
     },
     "execution_count": 1,
     "metadata": {},
     "output_type": "execute_result"
    }
   ],
   "source": [
    "import numpy as np\n",
    "import pandas as pd\n",
    "import matplotlib.pyplot as plt\n",
    "%matplotlib inline\n",
    "from functools import partial\n",
    "from random import choices, randint, randrange, random, sample\n",
    "from typing import List, Optional, Callable, Tuple\n",
    "import numpy as np\n",
    "# from geneticalgorithm import geneticalgorithm as ga\n",
    "import pandas as pd\n",
    "from collections import Counter\n",
    "from tqdm import tqdm\n",
    "import time\n",
    "from Bio.SeqUtils import MeltingTemp\n",
    "from Bio import SeqIO\n",
    "from plotly import graph_objects as go\n",
    "import json\n",
    "from imp import reload\n",
    "import primer_selection\n",
    "reload(primer_selection)\n",
    "# import testing\n",
    "# reload(testing)\n",
    "import math\n",
    "import Thermo\n",
    "reload(Thermo)"
   ]
  },
  {
   "cell_type": "code",
   "execution_count": 2,
   "metadata": {},
   "outputs": [],
   "source": [
    "def value_counts_list(lst):\n",
    "    \"\"\"\n",
    "    Computes the frequency count of unique elements in a list and returns a dictionary, sorted by frequency count in\n",
    "    descending order.\n",
    "\n",
    "    Args:\n",
    "    - lst (list): List of elements\n",
    "\n",
    "    Returns:\n",
    "    - dict: Dictionary with unique elements as keys and their frequency count as values, sorted by frequency count\n",
    "    in descending order\n",
    "    \"\"\"\n",
    "    value_counts = {}\n",
    "    for item in lst:\n",
    "        if item in value_counts:\n",
    "            value_counts[item] += 1\n",
    "        else:\n",
    "            value_counts[item] = 1\n",
    "    sorted_value_counts = dict(sorted(value_counts.items(), key=lambda x: x[1], reverse=True))\n",
    "    return sorted_value_counts\n",
    "\n",
    "def print_full(x):\n",
    "    pd.set_option('display.max_rows', None)\n",
    "    pd.set_option('display.max_columns', None)\n",
    "    pd.set_option('display.width', 2000)\n",
    "    pd.set_option('display.float_format', '{:20,.2f}'.format)\n",
    "    pd.set_option('display.max_colwidth', None)\n",
    "    print(x)\n",
    "    pd.reset_option('display.max_rows')\n",
    "    pd.reset_option('display.max_columns')\n",
    "    pd.reset_option('display.width')\n",
    "    pd.reset_option('display.float_format')\n",
    "    pd.reset_option('display.max_colwidth')"
   ]
  },
  {
   "cell_type": "code",
   "execution_count": 4,
   "metadata": {},
   "outputs": [
    {
     "name": "stderr",
     "output_type": "stream",
     "text": [
      "/tmp/ipykernel_692305/3483146208.py:3: DtypeWarning: Columns (12,15,16,17,19,20,47,48,49,51,53,54,56,57,58,59,62,63) have mixed types. Specify dtype option on import or set low_memory=False.\n",
      "  df = pd.read_csv(csv_)\n"
     ]
    }
   ],
   "source": [
    "vcf_parse = pd.read_csv('/mnt/storage10/lwang/Projects/Amplicone_design_tool/50k_vcf_parsed/output.csv')\n",
    "csv_ = \"/mnt/storage10//jody/tb_data_2022_08_19.csv\"\n",
    "df = pd.read_csv(csv_)"
   ]
  },
  {
   "cell_type": "code",
   "execution_count": 35,
   "metadata": {},
   "outputs": [],
   "source": [
    "snps = pd.read_csv('/mnt/storage10/lwang/Projects/Amplicone_design_tool/50k_vcf_parsed/output.csv', sep = '\\t', header = None)\n",
    "snps.drop_duplicates(inplace=True)"
   ]
  },
  {
   "cell_type": "code",
   "execution_count": 56,
   "metadata": {},
   "outputs": [
    {
     "data": {
      "text/plain": [
       "'snpdddd'"
      ]
     },
     "execution_count": 56,
     "metadata": {},
     "output_type": "execute_result"
    }
   ],
   "source": [
    "'snp'+'dddd'"
   ]
  },
  {
   "cell_type": "code",
   "execution_count": 48,
   "metadata": {},
   "outputs": [
    {
     "data": {
      "text/plain": [
       "0          0.000498\n",
       "1          0.000020\n",
       "2          0.000020\n",
       "3          0.000020\n",
       "4          0.000040\n",
       "             ...   \n",
       "1027667    0.000020\n",
       "1027668    0.000239\n",
       "1027669    0.000060\n",
       "1027670    0.368421\n",
       "1027671    0.666667\n",
       "Name: 3, Length: 1027664, dtype: float64"
      ]
     },
     "execution_count": 48,
     "metadata": {},
     "output_type": "execute_result"
    }
   ],
   "source": [
    "snps[3]"
   ]
  },
  {
   "cell_type": "code",
   "execution_count": 47,
   "metadata": {},
   "outputs": [
    {
     "data": {
      "text/plain": [
       "(array([1.021848e+06, 2.325000e+03, 8.700000e+02, 2.250000e+02,\n",
       "        1.650000e+02, 9.700000e+01, 1.600000e+01, 9.900000e+01,\n",
       "        5.700000e+01, 3.860000e+02, 3.300000e+01, 4.560000e+02,\n",
       "        2.300000e+01, 7.000000e+01, 9.600000e+01, 2.000000e+00,\n",
       "        4.000000e+00, 0.000000e+00, 0.000000e+00, 2.000000e+00,\n",
       "        2.000000e+00, 1.000000e+00, 7.800000e+01, 1.000000e+00,\n",
       "        1.000000e+00, 7.100000e+01, 1.000000e+01, 1.790000e+02,\n",
       "        1.000000e+01, 7.000000e+00, 1.000000e+00, 0.000000e+00,\n",
       "        0.000000e+00, 1.000000e+00, 5.000000e+00, 3.000000e+00,\n",
       "        2.000000e+00, 0.000000e+00, 1.000000e+00, 4.100000e+01,\n",
       "        0.000000e+00, 1.000000e+00, 0.000000e+00, 0.000000e+00,\n",
       "        1.000000e+00, 0.000000e+00, 0.000000e+00, 0.000000e+00,\n",
       "        0.000000e+00, 1.000000e+00, 6.000000e+00, 1.180000e+02,\n",
       "        1.000000e+00, 1.000000e+00, 0.000000e+00, 2.000000e+00,\n",
       "        0.000000e+00, 0.000000e+00, 2.000000e+00, 1.000000e+00,\n",
       "        1.000000e+00, 1.000000e+00, 0.000000e+00, 0.000000e+00,\n",
       "        1.000000e+00, 2.000000e+00, 2.000000e+00, 2.400000e+01,\n",
       "        6.000000e+00, 0.000000e+00, 1.000000e+00, 0.000000e+00,\n",
       "        1.000000e+00, 2.000000e+00, 0.000000e+00, 0.000000e+00,\n",
       "        0.000000e+00, 0.000000e+00, 0.000000e+00, 1.000000e+00,\n",
       "        0.000000e+00, 0.000000e+00, 0.000000e+00, 0.000000e+00,\n",
       "        0.000000e+00, 0.000000e+00, 1.000000e+01, 0.000000e+00,\n",
       "        9.000000e+00, 0.000000e+00, 6.500000e+01, 1.400000e+01,\n",
       "        0.000000e+00, 0.000000e+00, 0.000000e+00, 0.000000e+00,\n",
       "        1.000000e+00, 1.000000e+00, 2.000000e+00, 1.980000e+02]),\n",
       " array([1.99342000e-05, 1.00195349e-02, 2.00191355e-02, 3.00187362e-02,\n",
       "        4.00183368e-02, 5.00179375e-02, 6.00175381e-02, 7.00171388e-02,\n",
       "        8.00167395e-02, 9.00163401e-02, 1.00015941e-01, 1.10015541e-01,\n",
       "        1.20015142e-01, 1.30014743e-01, 1.40014343e-01, 1.50013944e-01,\n",
       "        1.60013545e-01, 1.70013145e-01, 1.80012746e-01, 1.90012347e-01,\n",
       "        2.00011947e-01, 2.10011548e-01, 2.20011149e-01, 2.30010749e-01,\n",
       "        2.40010350e-01, 2.50009951e-01, 2.60009551e-01, 2.70009152e-01,\n",
       "        2.80008753e-01, 2.90008353e-01, 3.00007954e-01, 3.10007555e-01,\n",
       "        3.20007155e-01, 3.30006756e-01, 3.40006357e-01, 3.50005957e-01,\n",
       "        3.60005558e-01, 3.70005159e-01, 3.80004759e-01, 3.90004360e-01,\n",
       "        4.00003961e-01, 4.10003561e-01, 4.20003162e-01, 4.30002762e-01,\n",
       "        4.40002363e-01, 4.50001964e-01, 4.60001564e-01, 4.70001165e-01,\n",
       "        4.80000766e-01, 4.90000366e-01, 4.99999967e-01, 5.09999568e-01,\n",
       "        5.19999168e-01, 5.29998769e-01, 5.39998370e-01, 5.49997970e-01,\n",
       "        5.59997571e-01, 5.69997172e-01, 5.79996772e-01, 5.89996373e-01,\n",
       "        5.99995974e-01, 6.09995574e-01, 6.19995175e-01, 6.29994776e-01,\n",
       "        6.39994376e-01, 6.49993977e-01, 6.59993578e-01, 6.69993178e-01,\n",
       "        6.79992779e-01, 6.89992380e-01, 6.99991980e-01, 7.09991581e-01,\n",
       "        7.19991182e-01, 7.29990782e-01, 7.39990383e-01, 7.49989984e-01,\n",
       "        7.59989584e-01, 7.69989185e-01, 7.79988786e-01, 7.89988386e-01,\n",
       "        7.99987987e-01, 8.09987587e-01, 8.19987188e-01, 8.29986789e-01,\n",
       "        8.39986389e-01, 8.49985990e-01, 8.59985591e-01, 8.69985191e-01,\n",
       "        8.79984792e-01, 8.89984393e-01, 8.99983993e-01, 9.09983594e-01,\n",
       "        9.19983195e-01, 9.29982795e-01, 9.39982396e-01, 9.49981997e-01,\n",
       "        9.59981597e-01, 9.69981198e-01, 9.79980799e-01, 9.89980399e-01,\n",
       "        9.99980000e-01]),\n",
       " <BarContainer object of 100 artists>)"
      ]
     },
     "execution_count": 47,
     "metadata": {},
     "output_type": "execute_result"
    },
    {
     "data": {
      "image/png": "[encoded data removed]",
      "text/plain": [
       "<Figure size 640x480 with 1 Axes>"
      ]
     },
     "metadata": {},
     "output_type": "display_data"
    }
   ],
   "source": [
    "plt.hist(snps[3], bins = 100)"
   ]
  },
  {
   "cell_type": "code",
   "execution_count": 50,
   "metadata": {},
   "outputs": [
    {
     "ename": "IndexError",
     "evalue": "index 0 is out of bounds for axis 0 with size 0",
     "output_type": "error",
     "traceback": [
      "\u001b[0;31m---------------------------------------------------------------------------\u001b[0m",
      "\u001b[0;31mIndexError\u001b[0m                                Traceback (most recent call last)",
      "\u001b[1;32m/mnt/storage10/lwang/Projects/Amplicone_design_tool/model2in1/scatch1.ipynb Cell 8\u001b[0m line \u001b[0;36m1\n\u001b[0;32m----> <a href='vscode-notebook-cell://ssh-remote%2Bs10/mnt/storage10/lwang/Projects/Amplicone_design_tool/model2in1/scatch1.ipynb#W4sdnNjb2RlLXJlbW90ZQ%3D%3D?line=0'>1</a>\u001b[0m \u001b[39m'\u001b[39m\u001b[39m'\u001b[39m\u001b[39m.\u001b[39mjoin(snps[snps[\u001b[39m0\u001b[39;49m] \u001b[39m==\u001b[39;49m \u001b[39m1\u001b[39;49m][[\u001b[39m1\u001b[39;49m,\u001b[39m2\u001b[39;49m]]\u001b[39m.\u001b[39;49mvalues[\u001b[39m0\u001b[39;49m])\n",
      "\u001b[0;31mIndexError\u001b[0m: index 0 is out of bounds for axis 0 with size 0"
     ]
    }
   ],
   "source": [
    "''.join(snps[snps[0] == 1][[1,2]].values[0])"
   ]
  },
  {
   "cell_type": "code",
   "execution_count": 52,
   "metadata": {},
   "outputs": [
    {
     "data": {
      "text/plain": [
       "0"
      ]
     },
     "execution_count": 52,
     "metadata": {},
     "output_type": "execute_result"
    }
   ],
   "source": [
    "snps[snps[0] == 1][[1,2]].shape[0]"
   ]
  },
  {
   "cell_type": "code",
   "execution_count": 54,
   "metadata": {},
   "outputs": [
    {
     "data": {
      "text/html": [
       "<div>\n",
       "<style scoped>\n",
       "    .dataframe tbody tr th:only-of-type {\n",
       "        vertical-align: middle;\n",
       "    }\n",
       "\n",
       "    .dataframe tbody tr th {\n",
       "        vertical-align: top;\n",
       "    }\n",
       "\n",
       "    .dataframe thead th {\n",
       "        text-align: right;\n",
       "    }\n",
       "</style>\n",
       "<table border=\"1\" class=\"dataframe\">\n",
       "  <thead>\n",
       "    <tr style=\"text-align: right;\">\n",
       "      <th></th>\n",
       "      <th>0</th>\n",
       "      <th>1</th>\n",
       "      <th>2</th>\n",
       "      <th>3</th>\n",
       "    </tr>\n",
       "  </thead>\n",
       "  <tbody>\n",
       "  </tbody>\n",
       "</table>\n",
       "</div>"
      ],
      "text/plain": [
       "Empty DataFrame\n",
       "Columns: [0, 1, 2, 3]\n",
       "Index: []"
      ]
     },
     "execution_count": 54,
     "metadata": {},
     "output_type": "execute_result"
    }
   ],
   "source": [
    "snps[snps[0] == 1]"
   ]
  },
  {
   "cell_type": "code",
   "execution_count": 53,
   "metadata": {},
   "outputs": [
    {
     "data": {
      "text/html": [
       "<div>\n",
       "<style scoped>\n",
       "    .dataframe tbody tr th:only-of-type {\n",
       "        vertical-align: middle;\n",
       "    }\n",
       "\n",
       "    .dataframe tbody tr th {\n",
       "        vertical-align: top;\n",
       "    }\n",
       "\n",
       "    .dataframe thead th {\n",
       "        text-align: right;\n",
       "    }\n",
       "</style>\n",
       "<table border=\"1\" class=\"dataframe\">\n",
       "  <thead>\n",
       "    <tr style=\"text-align: right;\">\n",
       "      <th></th>\n",
       "      <th>3</th>\n",
       "    </tr>\n",
       "  </thead>\n",
       "  <tbody>\n",
       "    <tr>\n",
       "      <th>821549</th>\n",
       "      <td>0.000072</td>\n",
       "    </tr>\n",
       "  </tbody>\n",
       "</table>\n",
       "</div>"
      ],
      "text/plain": [
       "               3\n",
       "821549  0.000072"
      ]
     },
     "execution_count": 53,
     "metadata": {},
     "output_type": "execute_result"
    }
   ],
   "source": [
    "snps[snps[0] == 3529199][[3]]"
   ]
  },
  {
   "cell_type": "code",
   "execution_count": 33,
   "metadata": {},
   "outputs": [
    {
     "data": {
      "text/html": [
       "<div>\n",
       "<style scoped>\n",
       "    .dataframe tbody tr th:only-of-type {\n",
       "        vertical-align: middle;\n",
       "    }\n",
       "\n",
       "    .dataframe tbody tr th {\n",
       "        vertical-align: top;\n",
       "    }\n",
       "\n",
       "    .dataframe thead th {\n",
       "        text-align: right;\n",
       "    }\n",
       "</style>\n",
       "<table border=\"1\" class=\"dataframe\">\n",
       "  <thead>\n",
       "    <tr style=\"text-align: right;\">\n",
       "      <th></th>\n",
       "      <th>0</th>\n",
       "      <th>1</th>\n",
       "      <th>2</th>\n",
       "      <th>3</th>\n",
       "    </tr>\n",
       "  </thead>\n",
       "  <tbody>\n",
       "    <tr>\n",
       "      <th>821549</th>\n",
       "      <td>3529199</td>\n",
       "      <td>A</td>\n",
       "      <td>G</td>\n",
       "      <td>0.000072</td>\n",
       "    </tr>\n",
       "    <tr>\n",
       "      <th>821550</th>\n",
       "      <td>3529199</td>\n",
       "      <td>A</td>\n",
       "      <td>G</td>\n",
       "      <td>0.000072</td>\n",
       "    </tr>\n",
       "  </tbody>\n",
       "</table>\n",
       "</div>"
      ],
      "text/plain": [
       "              0  1  2         3\n",
       "821549  3529199  A  G  0.000072\n",
       "821550  3529199  A  G  0.000072"
      ]
     },
     "execution_count": 33,
     "metadata": {},
     "output_type": "execute_result"
    }
   ],
   "source": [
    "snps[snps[0] == 3529199]"
   ]
  },
  {
   "cell_type": "code",
   "execution_count": 42,
   "metadata": {},
   "outputs": [
    {
     "data": {
      "text/plain": [
       "array([1])"
      ]
     },
     "execution_count": 42,
     "metadata": {},
     "output_type": "execute_result"
    }
   ],
   "source": [
    "np.unique(snps[0].value_counts().values)"
   ]
  },
  {
   "cell_type": "code",
   "execution_count": 13,
   "metadata": {},
   "outputs": [
    {
     "data": {
      "text/plain": [
       "0\n",
       "3529216    2\n",
       "3529183    2\n",
       "2646903    2\n",
       "3529198    2\n",
       "3529199    2\n",
       "          ..\n",
       "1416154    1\n",
       "1416158    1\n",
       "1416160    1\n",
       "1416164    1\n",
       "4411528    1\n",
       "Name: count, Length: 1027664, dtype: int64"
      ]
     },
     "execution_count": 13,
     "metadata": {},
     "output_type": "execute_result"
    }
   ],
   "source": [
    "snps[0].value_counts()"
   ]
  },
  {
   "cell_type": "code",
   "execution_count": 14,
   "metadata": {},
   "outputs": [
    {
     "data": {
      "text/plain": [
       "Index(['wgs_id', 'mapped_reads', 'percent_mapped', 'median_depth',\n",
       "       'missingness', 'main_lineage', 'sublineage', 'drug_resistance_type',\n",
       "       'run_accession', 'sample_accession', 'accession', 'study_accession',\n",
       "       'project_name', 'study_name', 'country_code', 'collection_date',\n",
       "       'date_of_collection', 'patient_id', 'geographic_source', 'location',\n",
       "       'country', 'rifampicin', 'isoniazid', 'ethambutol', 'pyrazinamide',\n",
       "       'streptomycin', 'ofloxacin', 'moxifloxacin', 'levofloxacin', 'amikacin',\n",
       "       'kanamycin', 'capreomycin', 'ciprofloxacin', 'prothionamide',\n",
       "       'ethionamide', 'clarithromycin', 'clofazimine', 'bedaquiline',\n",
       "       'cycloserine', 'linezolid', 'para-aminosalicylic_acid', 'rifabutin',\n",
       "       'delamanid', 'host_body_site', 'environment_material', 'sample_alias',\n",
       "       'sample_title', 'host_status', 'hiv_status', 'HIV_status',\n",
       "       'first_public', 'host', 'id', 'host_sex', 'broker_name', 'tissue_type',\n",
       "       'culture_collection', 'isolation_source', 'strain',\n",
       "       'submitted_host_sex', 'center_name', 'host_tax_id', 'collected_by',\n",
       "       'isolate', 'description'],\n",
       "      dtype='object')"
      ]
     },
     "execution_count": 14,
     "metadata": {},
     "output_type": "execute_result"
    }
   ],
   "source": [
    "df.columns"
   ]
  },
  {
   "cell_type": "code",
   "execution_count": 20,
   "metadata": {},
   "outputs": [],
   "source": [
    "country_names = [\n",
    "    \"United_Kingdom\", \"South_Africa\", \"India\", \"Vietnam\", \"Peru\", \"China\", \n",
    "    \"Netherlands\", \"Canada\", \"Malawi\", \"Germany\", \"Thailand\", \"Russia\", \n",
    "    \"Italy\", \"Pakistan\", \"Denmark\", \"Brazil\", \"Portugal\", \n",
    "    \"Democratic Republic of the Congo\", \"Eswatini\", \"Ghana\", \n",
    "    \"Uzbekistan\", \"Spain\", \"Moldova\", \"Nepal\", \"Belarus\", \"Argentina\", \n",
    "    \"Mexico\", \"Belgium\", \"United_States\", \"Uganda\", \"Switzerland\", \n",
    "    \"Philippines\", \"Finland\", \"Australia\", \"Ethiopia\", \"Congo\", \n",
    "    \"Sweden\", \"Djibouti\", \"Greenland\", \"Turkmenistan\", \"Serbia\", \n",
    "    \"Norway\", \"South_Korea\", \"Romania\"\n",
    "]\n",
    "country_codes = [\n",
    "    \"gb\", \"za\", \"in\", \"vn\", \"pe\", \"cn\", \"nl\", \"ca\", \"mw\", \"de\", \"th\", \"ru\", \n",
    "    \"it\", \"pk\", \"dk\", \"br\", \"pt\", \"cd\", \"sz\", \"gh\", \"uz\", \"es\", \"md\", \"np\", \n",
    "    \"by\", \"ar\", \"mx\", \"be\", \"us\", \"ug\", \"ch\", \"ph\", \"fi\", \"au\", \"et\", \"cg\", \n",
    "    \"se\", \"dj\", \"gl\", \"tm\", \"rs\", \"no\", \"kr\", \"ro\"\n",
    "]\n"
   ]
  },
  {
   "cell_type": "code",
   "execution_count": 27,
   "metadata": {},
   "outputs": [
    {
     "data": {
      "text/plain": [
       "country\n",
       "South Africa: Kwazulu-Natal        2263\n",
       "Malawi                             1737\n",
       "Viet Nam: Ho Chi Minh City         1606\n",
       "Canada: British Columbia           1342\n",
       "Russia                             1021\n",
       "                                   ... \n",
       "Sweden                                1\n",
       "South Africa: Amakhabela Clinic       1\n",
       "Sierra Leone                          1\n",
       "Mexico:Baja California,Ensenada       1\n",
       "Mexico:Baja California,Rosarito       1\n",
       "Name: count, Length: 108, dtype: int64"
      ]
     },
     "execution_count": 27,
     "metadata": {},
     "output_type": "execute_result"
    }
   ],
   "source": [
    "df['country'].value_counts()"
   ]
  },
  {
   "cell_type": "code",
   "execution_count": 29,
   "metadata": {},
   "outputs": [],
   "source": [
    "for x, y in zip(country_names, country_codes):\n",
    "    with open(f'/mnt/storage10/lwang/Projects/Amplicone_design_tool/50k_vcf_parsed/vcf_country/{x}.txt', 'w') as f:\n",
    "        for z in df[df['country_code']==y]['wgs_id'].unique():\n",
    "            f.write(z+'\\n')"
   ]
  },
  {
   "cell_type": "code",
   "execution_count": null,
   "metadata": {},
   "outputs": [],
   "source": [
    "df['country'].value_counts()"
   ]
  },
  {
   "cell_type": "code",
   "execution_count": 10,
   "metadata": {},
   "outputs": [
    {
     "data": {
      "text/plain": [
       "geographic_source\n",
       "India                4391\n",
       "United Kingdom       3677\n",
       "UK,United Kingdom    3243\n",
       "South Africa         2808\n",
       "Peru                 2598\n",
       "                     ... \n",
       "Sudan                   1\n",
       "Germany,Iran            1\n",
       "Tunisia:Kasserine       1\n",
       "UK,unknown              1\n",
       "Guinea-Bissau           1\n",
       "Name: count, Length: 320, dtype: int64"
      ]
     },
     "execution_count": 10,
     "metadata": {},
     "output_type": "execute_result"
    }
   ],
   "source": [
    "df['geographic_source'].value_counts()"
   ]
  },
  {
   "cell_type": "code",
   "execution_count": 5,
   "metadata": {},
   "outputs": [
    {
     "data": {
      "text/html": [
       "<div>\n",
       "<style scoped>\n",
       "    .dataframe tbody tr th:only-of-type {\n",
       "        vertical-align: middle;\n",
       "    }\n",
       "\n",
       "    .dataframe tbody tr th {\n",
       "        vertical-align: top;\n",
       "    }\n",
       "\n",
       "    .dataframe thead th {\n",
       "        text-align: right;\n",
       "    }\n",
       "</style>\n",
       "<table border=\"1\" class=\"dataframe\">\n",
       "  <thead>\n",
       "    <tr style=\"text-align: right;\">\n",
       "      <th></th>\n",
       "      <th>SampleID</th>\n",
       "      <th>GenomePosition</th>\n",
       "      <th>Gene</th>\n",
       "      <th>Change</th>\n",
       "      <th>Frequency</th>\n",
       "    </tr>\n",
       "  </thead>\n",
       "  <tbody>\n",
       "    <tr>\n",
       "      <th>0</th>\n",
       "      <td>SAMPLE_ID</td>\n",
       "      <td>Chromosome:11</td>\n",
       "      <td>GENE</td>\n",
       "      <td>A-&gt;C</td>\n",
       "      <td>FREQUENCY</td>\n",
       "    </tr>\n",
       "    <tr>\n",
       "      <th>1</th>\n",
       "      <td>SAMPLE_ID</td>\n",
       "      <td>Chromosome:15</td>\n",
       "      <td>GENE</td>\n",
       "      <td>C-&gt;T</td>\n",
       "      <td>FREQUENCY</td>\n",
       "    </tr>\n",
       "    <tr>\n",
       "      <th>2</th>\n",
       "      <td>SAMPLE_ID</td>\n",
       "      <td>Chromosome:16</td>\n",
       "      <td>GENE</td>\n",
       "      <td>G-&gt;A,C</td>\n",
       "      <td>FREQUENCY</td>\n",
       "    </tr>\n",
       "    <tr>\n",
       "      <th>3</th>\n",
       "      <td>SAMPLE_ID</td>\n",
       "      <td>Chromosome:22</td>\n",
       "      <td>GENE</td>\n",
       "      <td>G-&gt;C</td>\n",
       "      <td>FREQUENCY</td>\n",
       "    </tr>\n",
       "    <tr>\n",
       "      <th>4</th>\n",
       "      <td>SAMPLE_ID</td>\n",
       "      <td>Chromosome:23</td>\n",
       "      <td>GENE</td>\n",
       "      <td>G-&gt;A</td>\n",
       "      <td>FREQUENCY</td>\n",
       "    </tr>\n",
       "  </tbody>\n",
       "</table>\n",
       "</div>"
      ],
      "text/plain": [
       "    SampleID GenomePosition  Gene  Change  Frequency\n",
       "0  SAMPLE_ID  Chromosome:11  GENE    A->C  FREQUENCY\n",
       "1  SAMPLE_ID  Chromosome:15  GENE    C->T  FREQUENCY\n",
       "2  SAMPLE_ID  Chromosome:16  GENE  G->A,C  FREQUENCY\n",
       "3  SAMPLE_ID  Chromosome:22  GENE    G->C  FREQUENCY\n",
       "4  SAMPLE_ID  Chromosome:23  GENE    G->A  FREQUENCY"
      ]
     },
     "execution_count": 5,
     "metadata": {},
     "output_type": "execute_result"
    }
   ],
   "source": [
    "vcf_parse.head()"
   ]
  },
  {
   "cell_type": "code",
   "execution_count": 9,
   "metadata": {},
   "outputs": [
    {
     "name": "stderr",
     "output_type": "stream",
     "text": [
      "/tmp/ipykernel_1094827/1519027972.py:9: DtypeWarning: Columns (12,15,16,17,19,20,47,48,49,51,53,54,56,57,58,59,62,63) have mixed types. Specify dtype option on import or set low_memory=False.\n",
      "  df = pd.read_csv(csv_)\n"
     ]
    }
   ],
   "source": [
    "full_data = pd.read_csv('/mnt/storage10/jody/projects/variant_dump/variants.csv')\n",
    "# full_data = full_data[~full_data['drugs'].isna()]\n",
    "# full_gene = full_data[~full_data['type'].isin(['synonymous_variant','non_coding_transcript_exon_variant'])]\n",
    "# full_data = full_data.sort_values(by=['genome_pos'])\n",
    "# full_data = full_data.reset_index(drop=True)\n",
    "# full_data['weight'] = full_data['freq']\n",
    "# ref_genome = 'MTB-h37rv_asm19595v2-eg18.fa'\n",
    "csv_ = \"/mnt/storage10//jody/tb_data_2022_08_19.csv\"\n",
    "df = pd.read_csv(csv_)"
   ]
  },
  {
   "cell_type": "code",
   "execution_count": 19,
   "metadata": {},
   "outputs": [],
   "source": [
    "with open('50k_sample_file.csv','w') as f:\n",
    "    for x in full_data['wgs_id'].unique():\n",
    "        f.write(x+'\\n')"
   ]
  },
  {
   "cell_type": "code",
   "execution_count": 12,
   "metadata": {},
   "outputs": [],
   "source": [
    "# full_data_gr = full_data.groupby(['genome_pos', 'gene', 'change']).agg({'freq': 'sum'}).reset_index()\n",
    "# full_data_gr = full_data.groupby(['genome_pos']).agg({'freq': 'sum'}).reset_index()\n",
    "full_data_gr = full_data.groupby('genome_pos').size().reset_index(name='count')\n",
    "# full_data_gr['freq_percent'] = full_data_gr['freq'] / full_data_gr['freq'].sum()*100\n",
    "full_data_gr['freq_percent'] = full_data_gr['count'] / full_data_gr['count'].sum()*100"
   ]
  },
  {
   "cell_type": "code",
   "execution_count": 13,
   "metadata": {},
   "outputs": [
    {
     "data": {
      "text/html": [
       "<div>\n",
       "<style scoped>\n",
       "    .dataframe tbody tr th:only-of-type {\n",
       "        vertical-align: middle;\n",
       "    }\n",
       "\n",
       "    .dataframe tbody tr th {\n",
       "        vertical-align: top;\n",
       "    }\n",
       "\n",
       "    .dataframe thead th {\n",
       "        text-align: right;\n",
       "    }\n",
       "</style>\n",
       "<table border=\"1\" class=\"dataframe\">\n",
       "  <thead>\n",
       "    <tr style=\"text-align: right;\">\n",
       "      <th></th>\n",
       "      <th>genome_pos</th>\n",
       "      <th>count</th>\n",
       "      <th>freq_percent</th>\n",
       "    </tr>\n",
       "  </thead>\n",
       "  <tbody>\n",
       "    <tr>\n",
       "      <th>0</th>\n",
       "      <td>5041</td>\n",
       "      <td>3</td>\n",
       "      <td>0.000040</td>\n",
       "    </tr>\n",
       "    <tr>\n",
       "      <th>1</th>\n",
       "      <td>5042</td>\n",
       "      <td>2</td>\n",
       "      <td>0.000027</td>\n",
       "    </tr>\n",
       "    <tr>\n",
       "      <th>2</th>\n",
       "      <td>5043</td>\n",
       "      <td>10</td>\n",
       "      <td>0.000135</td>\n",
       "    </tr>\n",
       "    <tr>\n",
       "      <th>3</th>\n",
       "      <td>5044</td>\n",
       "      <td>12</td>\n",
       "      <td>0.000162</td>\n",
       "    </tr>\n",
       "    <tr>\n",
       "      <th>4</th>\n",
       "      <td>5045</td>\n",
       "      <td>6</td>\n",
       "      <td>0.000081</td>\n",
       "    </tr>\n",
       "    <tr>\n",
       "      <th>...</th>\n",
       "      <td>...</td>\n",
       "      <td>...</td>\n",
       "      <td>...</td>\n",
       "    </tr>\n",
       "    <tr>\n",
       "      <th>90943</th>\n",
       "      <td>4408472</td>\n",
       "      <td>4</td>\n",
       "      <td>0.000054</td>\n",
       "    </tr>\n",
       "    <tr>\n",
       "      <th>90944</th>\n",
       "      <td>4408473</td>\n",
       "      <td>23</td>\n",
       "      <td>0.000310</td>\n",
       "    </tr>\n",
       "    <tr>\n",
       "      <th>90945</th>\n",
       "      <td>4408474</td>\n",
       "      <td>4</td>\n",
       "      <td>0.000054</td>\n",
       "    </tr>\n",
       "    <tr>\n",
       "      <th>90946</th>\n",
       "      <td>4408475</td>\n",
       "      <td>1</td>\n",
       "      <td>0.000013</td>\n",
       "    </tr>\n",
       "    <tr>\n",
       "      <th>90947</th>\n",
       "      <td>4408476</td>\n",
       "      <td>3</td>\n",
       "      <td>0.000040</td>\n",
       "    </tr>\n",
       "  </tbody>\n",
       "</table>\n",
       "<p>90948 rows × 3 columns</p>\n",
       "</div>"
      ],
      "text/plain": [
       "       genome_pos  count  freq_percent\n",
       "0            5041      3      0.000040\n",
       "1            5042      2      0.000027\n",
       "2            5043     10      0.000135\n",
       "3            5044     12      0.000162\n",
       "4            5045      6      0.000081\n",
       "...           ...    ...           ...\n",
       "90943     4408472      4      0.000054\n",
       "90944     4408473     23      0.000310\n",
       "90945     4408474      4      0.000054\n",
       "90946     4408475      1      0.000013\n",
       "90947     4408476      3      0.000040\n",
       "\n",
       "[90948 rows x 3 columns]"
      ]
     },
     "execution_count": 13,
     "metadata": {},
     "output_type": "execute_result"
    }
   ],
   "source": [
    "full_data_gr"
   ]
  },
  {
   "cell_type": "code",
   "execution_count": 14,
   "metadata": {},
   "outputs": [
    {
     "data": {
      "image/png": "[encoded data removed]",
      "text/plain": [
       "<Figure size 640x480 with 1 Axes>"
      ]
     },
     "metadata": {},
     "output_type": "display_data"
    }
   ],
   "source": [
    "plt.bar(full_data_gr['genome_pos'], full_data_gr['freq_percent'])\n",
    "plt.yscale('log')\n",
    "plt.xscale('log')\n",
    "# plt.xlim(8000, 10000)\n",
    "plt.show()\n"
   ]
  },
  {
   "cell_type": "code",
   "execution_count": 17,
   "metadata": {},
   "outputs": [
    {
     "data": {
      "image/png": "[encoded data removed]",
      "text/plain": [
       "<Figure size 640x480 with 1 Axes>"
      ]
     },
     "metadata": {},
     "output_type": "display_data"
    }
   ],
   "source": [
    "plt.bar(full_data_gr['genome_pos'], full_data_gr['freq'])\n",
    "plt.yscale('log')\n",
    "plt.xscale('log')\n",
    "plt.xlim(8000, 10000)\n",
    "plt.show()\n"
   ]
  },
  {
   "cell_type": "code",
   "execution_count": 7,
   "metadata": {},
   "outputs": [],
   "source": [
    "merged_df = merged_df.sort_values('genome_pos')"
   ]
  },
  {
   "cell_type": "code",
   "execution_count": 6,
   "metadata": {},
   "outputs": [],
   "source": [
    "def print_full(x):\n",
    "    pd.set_option('display.max_rows', None)\n",
    "    pd.set_option('display.max_columns', None)\n",
    "    pd.set_option('display.width', 2000)\n",
    "    pd.set_option('display.float_format', '{:20,.2f}'.format)\n",
    "    pd.set_option('display.max_colwidth', None)\n",
    "    print(x)\n",
    "    pd.reset_option('display.max_rows')\n",
    "    pd.reset_option('display.max_columns')\n",
    "    pd.reset_option('display.width')\n",
    "    pd.reset_option('display.float_format')\n",
    "    pd.reset_option('display.max_colwidth')"
   ]
  },
  {
   "cell_type": "code",
   "execution_count": null,
   "metadata": {},
   "outputs": [],
   "source": [
    "merged_df['change']"
   ]
  },
  {
   "cell_type": "code",
   "execution_count": 8,
   "metadata": {},
   "outputs": [
    {
     "name": "stdout",
     "output_type": "stream",
     "text": [
      "4781965    c.-199G>T\n",
      "3858560    c.-199G>C\n",
      "4697070    c.-199G>T\n",
      "3324786    c.-198A>C\n",
      "1481464    c.-198A>G\n",
      "Name: change, dtype: object\n"
     ]
    }
   ],
   "source": [
    "print_full(merged_df['change'].head())"
   ]
  },
  {
   "cell_type": "code",
   "execution_count": 5,
   "metadata": {},
   "outputs": [],
   "source": [
    "full_data.rename(columns={'sample_id': 'wgs_id'}, inplace=True)\n",
    "merged_df = pd.merge(full_data, df[['wgs_id', 'country_code']], on='wgs_id', how='left')\n",
    "merged_df.rename(columns={'wgs_id': 'sample_id'}, inplace=True)"
   ]
  },
  {
   "cell_type": "code",
   "execution_count": 53,
   "metadata": {},
   "outputs": [],
   "source": [
    "merged_df.to_csv('/mnt/storage10/lwang/Projects/Amplicone_design_tool/model2in1/variants.csv', index=False)"
   ]
  },
  {
   "cell_type": "code",
   "execution_count": 15,
   "metadata": {},
   "outputs": [
    {
     "data": {
      "text/plain": [
       "103111"
      ]
     },
     "execution_count": 15,
     "metadata": {},
     "output_type": "execute_result"
    }
   ],
   "source": [
    "intersect = np.intersect1d(full_data['sample_id'].unique(), df['wgs_id'].unique())\n",
    "union = list(set(full_data['sample_id'].unique()) | set(df['wgs_id'].unique()))\n",
    "len(union) - len(intersect) "
   ]
  },
  {
   "cell_type": "code",
   "execution_count": 10,
   "metadata": {},
   "outputs": [
    {
     "data": {
      "text/plain": [
       "Index(['wgs_id', 'mapped_reads', 'percent_mapped', 'median_depth',\n",
       "       'missingness', 'main_lineage', 'sublineage', 'drug_resistance_type',\n",
       "       'run_accession', 'sample_accession', 'accession', 'study_accession',\n",
       "       'project_name', 'study_name', 'country_code', 'collection_date',\n",
       "       'date_of_collection', 'patient_id', 'geographic_source', 'location',\n",
       "       'country', 'rifampicin', 'isoniazid', 'ethambutol', 'pyrazinamide',\n",
       "       'streptomycin', 'ofloxacin', 'moxifloxacin', 'levofloxacin', 'amikacin',\n",
       "       'kanamycin', 'capreomycin', 'ciprofloxacin', 'prothionamide',\n",
       "       'ethionamide', 'clarithromycin', 'clofazimine', 'bedaquiline',\n",
       "       'cycloserine', 'linezolid', 'para-aminosalicylic_acid', 'rifabutin',\n",
       "       'delamanid', 'host_body_site', 'environment_material', 'sample_alias',\n",
       "       'sample_title', 'host_status', 'hiv_status', 'HIV_status',\n",
       "       'first_public', 'host', 'id', 'host_sex', 'broker_name', 'tissue_type',\n",
       "       'culture_collection', 'isolation_source', 'strain',\n",
       "       'submitted_host_sex', 'center_name', 'host_tax_id', 'collected_by',\n",
       "       'isolate', 'description'],\n",
       "      dtype='object')"
      ]
     },
     "execution_count": 10,
     "metadata": {},
     "output_type": "execute_result"
    }
   ],
   "source": [
    "df.columns"
   ]
  }
 ],
 "metadata": {
  "kernelspec": {
   "display_name": "primer_selection",
   "language": "python",
   "name": "python3"
  },
  "language_info": {
   "codemirror_mode": {
    "name": "ipython",
    "version": 3
   },
   "file_extension": ".py",
   "mimetype": "text/x-python",
   "name": "python",
   "nbconvert_exporter": "python",
   "pygments_lexer": "ipython3",
   "version": "3.11.6"
  }
 },
 "nbformat": 4,
 "nbformat_minor": 2
}

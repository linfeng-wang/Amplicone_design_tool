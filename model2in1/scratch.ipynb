{
 "cells": [
  {
   "cell_type": "code",
   "execution_count": 37,
   "metadata": {},
   "outputs": [
    {
     "data": {
      "text/plain": [
       "<module 'Thermo' from '/mnt/storage10/lwang/Projects/Amplicone_design_tool/model2in1/Thermo.py'>"
      ]
     },
     "execution_count": 37,
     "metadata": {},
     "output_type": "execute_result"
    }
   ],
   "source": [
    "import numpy as np\n",
    "import pandas as pd\n",
    "import matplotlib.pyplot as plt\n",
    "%matplotlib inline\n",
    "from functools import partial\n",
    "from random import choices, randint, randrange, random, sample\n",
    "from typing import List, Optional, Callable, Tuple\n",
    "import numpy as np\n",
    "# from geneticalgorithm import geneticalgorithm as ga\n",
    "import pandas as pd\n",
    "from collections import Counter\n",
    "from tqdm import tqdm\n",
    "import time\n",
    "from Bio.SeqUtils import MeltingTemp\n",
    "from Bio import SeqIO\n",
    "from plotly import graph_objects as go\n",
    "import json\n",
    "from imp import reload\n",
    "import primer_selection\n",
    "reload(primer_selection)\n",
    "# import testing\n",
    "# reload(testing)\n",
    "import math\n",
    "import Thermo\n",
    "reload(Thermo)"
   ]
  },
  {
   "cell_type": "code",
   "execution_count": 5,
   "metadata": {},
   "outputs": [],
   "source": [
    "susana_design = pd.read_excel('/mnt/storage10/lwang/Projects/Amplicone_design_tool/model2in1/amplicon_TB_2023_V2.xlsx', header = 0)\n",
    "susana_design = susana_design.iloc[:-3]"
   ]
  },
  {
   "cell_type": "code",
   "execution_count": 38,
   "metadata": {},
   "outputs": [
    {
     "name": "stdout",
     "output_type": "stream",
     "text": [
      "{'Gibbs': -24.099999999999998, 'Entropy': -375.6, 'Enthalpy': -140.6, 'Gibbs5P': -5.74, 'Gibbs3P': -7.260000000000001}\n",
      "<class 'dict'>\n"
     ]
    }
   ],
   "source": [
    "seq = 'AGAGTTGGTGCGGCGTAA'\n",
    "(dg, tm) = Thermo.simplified_tm(seq, complement_sequence(seq), TmVar)\n"
   ]
  },
  {
   "cell_type": "code",
   "execution_count": 22,
   "metadata": {},
   "outputs": [
    {
     "data": {
      "text/plain": [
       "{'Gibbs': -24.099999999999998,\n",
       " 'Entropy': -375.6,\n",
       " 'Enthalpy': -140.6,\n",
       " 'Gibbs5P': -5.74,\n",
       " 'Gibbs3P': -7.260000000000001,\n",
       " 'Adjusted Gibbs': -20.677279044488312,\n",
       " 'Adjusted Entropy': -386.648783435336}"
      ]
     },
     "execution_count": 22,
     "metadata": {},
     "output_type": "execute_result"
    }
   ],
   "source": []
  },
  {
   "cell_type": "code",
   "execution_count": 6,
   "metadata": {},
   "outputs": [
    {
     "data": {
      "text/html": [
       "<div>\n",
       "<style scoped>\n",
       "    .dataframe tbody tr th:only-of-type {\n",
       "        vertical-align: middle;\n",
       "    }\n",
       "\n",
       "    .dataframe tbody tr th {\n",
       "        vertical-align: top;\n",
       "    }\n",
       "\n",
       "    .dataframe thead th {\n",
       "        text-align: right;\n",
       "    }\n",
       "</style>\n",
       "<table border=\"1\" class=\"dataframe\">\n",
       "  <thead>\n",
       "    <tr style=\"text-align: right;\">\n",
       "      <th></th>\n",
       "      <th>Drug</th>\n",
       "      <th>primer name</th>\n",
       "      <th>forward</th>\n",
       "      <th>reverse</th>\n",
       "      <th>Amplicon size</th>\n",
       "      <th>Start</th>\n",
       "      <th>End</th>\n",
       "    </tr>\n",
       "  </thead>\n",
       "  <tbody>\n",
       "    <tr>\n",
       "      <th>0</th>\n",
       "      <td>Fluoroquinolones</td>\n",
       "      <td>NaN</td>\n",
       "      <td>AGAGTTGGTGCGGCGTAA</td>\n",
       "      <td>GCCACTTGAGTTTGTACAGC</td>\n",
       "      <td>449</td>\n",
       "      <td>6511</td>\n",
       "      <td>6959</td>\n",
       "    </tr>\n",
       "    <tr>\n",
       "      <th>1</th>\n",
       "      <td>Fluoroquinolones</td>\n",
       "      <td>gyrA</td>\n",
       "      <td>GTTGACATCGAGCAGGAGAT</td>\n",
       "      <td>AAATCGACTGTCTCCTCGTC</td>\n",
       "      <td>404</td>\n",
       "      <td>7353</td>\n",
       "      <td>7756</td>\n",
       "    </tr>\n",
       "    <tr>\n",
       "      <th>2</th>\n",
       "      <td>Rifampicin</td>\n",
       "      <td>rpoB_1</td>\n",
       "      <td>GGTGGCCTGGAAGAGGT</td>\n",
       "      <td>AGAACCCGAACCGCTCG</td>\n",
       "      <td>514</td>\n",
       "      <td>760038</td>\n",
       "      <td>760551</td>\n",
       "    </tr>\n",
       "    <tr>\n",
       "      <th>3</th>\n",
       "      <td>Rifampicin</td>\n",
       "      <td>rpoB_2</td>\n",
       "      <td>CCCCGACCAAAGAGTCA</td>\n",
       "      <td>CTCACGTGACAGACCGC</td>\n",
       "      <td>542</td>\n",
       "      <td>760645</td>\n",
       "      <td>761186</td>\n",
       "    </tr>\n",
       "    <tr>\n",
       "      <th>4</th>\n",
       "      <td>Rifampicin</td>\n",
       "      <td>rpoB_3</td>\n",
       "      <td>TGCTCACCTCGATCCACATC</td>\n",
       "      <td>ATCTTGCGTTTCTGAGCCAC</td>\n",
       "      <td>400</td>\n",
       "      <td>762025</td>\n",
       "      <td>762424</td>\n",
       "    </tr>\n",
       "    <tr>\n",
       "      <th>5</th>\n",
       "      <td>Rifampicin</td>\n",
       "      <td>rpoC</td>\n",
       "      <td>TGCGCCCGATGGTGCAGCT</td>\n",
       "      <td>CGGCGATGACCTCTTCG</td>\n",
       "      <td>507</td>\n",
       "      <td>764340</td>\n",
       "      <td>764846</td>\n",
       "    </tr>\n",
       "    <tr>\n",
       "      <th>6</th>\n",
       "      <td>Bedaquiline/Clofazimine</td>\n",
       "      <td>mmpR5</td>\n",
       "      <td>TTCGAGTCCAGGAGTTTGAC</td>\n",
       "      <td>GCTCATCAGTCGTCCTCTC</td>\n",
       "      <td>425</td>\n",
       "      <td>779068</td>\n",
       "      <td>779492</td>\n",
       "    </tr>\n",
       "    <tr>\n",
       "      <th>7</th>\n",
       "      <td>Streptomycin</td>\n",
       "      <td>rpsL</td>\n",
       "      <td>GTGAAAGCGCCCAAGATAGA</td>\n",
       "      <td>CATCAGCCCTTCTCCTTCTT</td>\n",
       "      <td>407</td>\n",
       "      <td>781530</td>\n",
       "      <td>781936</td>\n",
       "    </tr>\n",
       "    <tr>\n",
       "      <th>8</th>\n",
       "      <td>Streptomycin**</td>\n",
       "      <td>rrs_1</td>\n",
       "      <td>ATTGCACAATGGGCGCAAGC</td>\n",
       "      <td>CAAGGAAGGAAACCCACACC</td>\n",
       "      <td>475</td>\n",
       "      <td>1472209</td>\n",
       "      <td>1472684</td>\n",
       "    </tr>\n",
       "    <tr>\n",
       "      <th>9</th>\n",
       "      <td>Streptomycin**</td>\n",
       "      <td>rrs_3</td>\n",
       "      <td>CACAGGACGCGTCTAGAGAT</td>\n",
       "      <td>AGGTGATCCAGCCGCACCTT</td>\n",
       "      <td>539</td>\n",
       "      <td>1472837</td>\n",
       "      <td>1473375</td>\n",
       "    </tr>\n",
       "    <tr>\n",
       "      <th>10</th>\n",
       "      <td>Isoniazid* (Rv1482c-fabG1)</td>\n",
       "      <td>fabG1</td>\n",
       "      <td>CCAGAAAGGGATCCGTCATG</td>\n",
       "      <td>GACCCTGGTGCTCTTCTAC</td>\n",
       "      <td>400</td>\n",
       "      <td>1673281</td>\n",
       "      <td>1673680</td>\n",
       "    </tr>\n",
       "    <tr>\n",
       "      <th>11</th>\n",
       "      <td>Isoniazid*</td>\n",
       "      <td>inhA_1</td>\n",
       "      <td>CAAACGGATTCTGGTTAGCG</td>\n",
       "      <td>GACCGTCATCCAGTTGTAGG</td>\n",
       "      <td>469</td>\n",
       "      <td>1674222</td>\n",
       "      <td>1674690</td>\n",
       "    </tr>\n",
       "    <tr>\n",
       "      <th>12</th>\n",
       "      <td>Isoniazid*</td>\n",
       "      <td>inhA_2</td>\n",
       "      <td>CTGCTGCCGATCATGAACC</td>\n",
       "      <td>GCGTTCTAGAGCAATTGGGT</td>\n",
       "      <td>416</td>\n",
       "      <td>1674601</td>\n",
       "      <td>1675016</td>\n",
       "    </tr>\n",
       "    <tr>\n",
       "      <th>13</th>\n",
       "      <td>PAS</td>\n",
       "      <td>tlyA</td>\n",
       "      <td>TTGTTGGCCGCCCTGGA</td>\n",
       "      <td>CCAACGAGATGAACGACAGGTCGG</td>\n",
       "      <td>524</td>\n",
       "      <td>1917897</td>\n",
       "      <td>1918420</td>\n",
       "    </tr>\n",
       "    <tr>\n",
       "      <th>14</th>\n",
       "      <td>Isoniazid</td>\n",
       "      <td>katG_1</td>\n",
       "      <td>GCCGATCAACCCGAATCA</td>\n",
       "      <td>AGTACATGCTGCTCGACAAG</td>\n",
       "      <td>419</td>\n",
       "      <td>2153874</td>\n",
       "      <td>2154292</td>\n",
       "    </tr>\n",
       "    <tr>\n",
       "      <th>15</th>\n",
       "      <td>Isoniazid</td>\n",
       "      <td>katG_2</td>\n",
       "      <td>ATTGCCAAGCGCCAGCA</td>\n",
       "      <td>TCAAGACGTTCGGGTTCGG</td>\n",
       "      <td>525</td>\n",
       "      <td>2155055</td>\n",
       "      <td>2155579</td>\n",
       "    </tr>\n",
       "    <tr>\n",
       "      <th>16</th>\n",
       "      <td>Pyrazinamide</td>\n",
       "      <td>pncA_1</td>\n",
       "      <td>CCAACAGTTCATCCCGGTT</td>\n",
       "      <td>GACTATTCCTCGTCGTGGC</td>\n",
       "      <td>405</td>\n",
       "      <td>2288651</td>\n",
       "      <td>2289055</td>\n",
       "    </tr>\n",
       "    <tr>\n",
       "      <th>17</th>\n",
       "      <td>Pyrazinamide</td>\n",
       "      <td>pncA_2</td>\n",
       "      <td>AGGCACCCTTGTAGAACAC</td>\n",
       "      <td>TTGTCGCTCACTACATCACC</td>\n",
       "      <td>457</td>\n",
       "      <td>2288947</td>\n",
       "      <td>2289403</td>\n",
       "    </tr>\n",
       "    <tr>\n",
       "      <th>18</th>\n",
       "      <td>Isoniazid (oxyR'-ahpC)</td>\n",
       "      <td>ahpC</td>\n",
       "      <td>GCCGGCTAGCACCTCTT</td>\n",
       "      <td>GCGCTTGATGTCGGAGA</td>\n",
       "      <td>479</td>\n",
       "      <td>2726062</td>\n",
       "      <td>2726540</td>\n",
       "    </tr>\n",
       "    <tr>\n",
       "      <th>19</th>\n",
       "      <td>PAS</td>\n",
       "      <td>folC</td>\n",
       "      <td>GACCACTGCCACGTCGA</td>\n",
       "      <td>TTCGACGAATTCCGGCC</td>\n",
       "      <td>514</td>\n",
       "      <td>2747080</td>\n",
       "      <td>2747593</td>\n",
       "    </tr>\n",
       "    <tr>\n",
       "      <th>20</th>\n",
       "      <td>PAS</td>\n",
       "      <td>thyX</td>\n",
       "      <td>GGTCTTGGGATTGGGCTTGG</td>\n",
       "      <td>GCCGCTGGACACTTGCCTAT</td>\n",
       "      <td>460</td>\n",
       "      <td>3067784</td>\n",
       "      <td>3068244</td>\n",
       "    </tr>\n",
       "    <tr>\n",
       "      <th>21</th>\n",
       "      <td>PAS</td>\n",
       "      <td>thyA</td>\n",
       "      <td>CATACCGCGACTGGAGCTTT</td>\n",
       "      <td>ATCATCGTGTCGGCCTGGAA</td>\n",
       "      <td>409</td>\n",
       "      <td>3073681</td>\n",
       "      <td>3074090</td>\n",
       "    </tr>\n",
       "    <tr>\n",
       "      <th>22</th>\n",
       "      <td>Ethambutol</td>\n",
       "      <td>embA</td>\n",
       "      <td>AGCTACCTCAAAGACGACTG</td>\n",
       "      <td>AGCAGGGGATCGAGATGT</td>\n",
       "      <td>461</td>\n",
       "      <td>4243001</td>\n",
       "      <td>4243461</td>\n",
       "    </tr>\n",
       "    <tr>\n",
       "      <th>23</th>\n",
       "      <td>Ethambutol</td>\n",
       "      <td>embB</td>\n",
       "      <td>GCACCTTCACCCTGACCG</td>\n",
       "      <td>GGCTGCACACCCAGTGTG</td>\n",
       "      <td>517</td>\n",
       "      <td>4247334</td>\n",
       "      <td>4247850</td>\n",
       "    </tr>\n",
       "    <tr>\n",
       "      <th>24</th>\n",
       "      <td>Ethambutol</td>\n",
       "      <td>embB_2</td>\n",
       "      <td>GATGCTGCGGATCTTGGTG</td>\n",
       "      <td>GATACCAACACCGTCGTCAG</td>\n",
       "      <td>461</td>\n",
       "      <td>4247896</td>\n",
       "      <td>4248356</td>\n",
       "    </tr>\n",
       "    <tr>\n",
       "      <th>25</th>\n",
       "      <td>Ethionamide</td>\n",
       "      <td>ethA_1</td>\n",
       "      <td>TCGCTAAAGCTAAACCCC</td>\n",
       "      <td>TGAACGGTTCACCGCGA</td>\n",
       "      <td>529</td>\n",
       "      <td>4325995</td>\n",
       "      <td>4326523</td>\n",
       "    </tr>\n",
       "    <tr>\n",
       "      <th>26</th>\n",
       "      <td>Ethionamide</td>\n",
       "      <td>ethA_2</td>\n",
       "      <td>CCGGATGAGCCGGATGT</td>\n",
       "      <td>CCATTCGTCACGGGAAGG</td>\n",
       "      <td>497</td>\n",
       "      <td>4326067</td>\n",
       "      <td>4326563</td>\n",
       "    </tr>\n",
       "    <tr>\n",
       "      <th>27</th>\n",
       "      <td>Streptomycin</td>\n",
       "      <td>gid</td>\n",
       "      <td>CCTTTGATGGCGAGCATTC</td>\n",
       "      <td>AGTGCGTAATGTCTCCGATC</td>\n",
       "      <td>499</td>\n",
       "      <td>4407712</td>\n",
       "      <td>4408210</td>\n",
       "    </tr>\n",
       "    <tr>\n",
       "      <th>28</th>\n",
       "      <td>Aminoglycosides (eis-Rv2417c)</td>\n",
       "      <td>eis</td>\n",
       "      <td>AGGGTCACAGTCACAGAATC</td>\n",
       "      <td>AAACTTGTTCTGGTCCAACG</td>\n",
       "      <td>429</td>\n",
       "      <td>2715319</td>\n",
       "      <td>2715747</td>\n",
       "    </tr>\n",
       "    <tr>\n",
       "      <th>29</th>\n",
       "      <td>D-Cycloserine</td>\n",
       "      <td>ald</td>\n",
       "      <td>TCGCGGAACTAACCCGT</td>\n",
       "      <td>ATGCGGGCTGCGTTGTA</td>\n",
       "      <td>490</td>\n",
       "      <td>3086887</td>\n",
       "      <td>3087376</td>\n",
       "    </tr>\n",
       "    <tr>\n",
       "      <th>30</th>\n",
       "      <td>D-Cycloserine</td>\n",
       "      <td>alr</td>\n",
       "      <td>ATGGCTTGGCGTAACGC</td>\n",
       "      <td>CGTTGGCCATGACACCG</td>\n",
       "      <td>484</td>\n",
       "      <td>3840873</td>\n",
       "      <td>3841356</td>\n",
       "    </tr>\n",
       "    <tr>\n",
       "      <th>31</th>\n",
       "      <td>Ethambutol</td>\n",
       "      <td>embC</td>\n",
       "      <td>AGATCGTCGGGGTGTTCA</td>\n",
       "      <td>GTCGTAGTACCAGCCGAAAG</td>\n",
       "      <td>401</td>\n",
       "      <td>4240449</td>\n",
       "      <td>4240849</td>\n",
       "    </tr>\n",
       "    <tr>\n",
       "      <th>32</th>\n",
       "      <td>Ethionamide</td>\n",
       "      <td>ethA_3</td>\n",
       "      <td>CGGAGTCGGAGCGAATT</td>\n",
       "      <td>GTCGGCTTGATTGACCACC</td>\n",
       "      <td>499</td>\n",
       "      <td>4327302</td>\n",
       "      <td>4327800</td>\n",
       "    </tr>\n",
       "    <tr>\n",
       "      <th>33</th>\n",
       "      <td>Ethionamide</td>\n",
       "      <td>ethR</td>\n",
       "      <td>GGCCGACGTTCTACTTCTAT</td>\n",
       "      <td>GTTCTCGCCGTAAATGCTG</td>\n",
       "      <td>473</td>\n",
       "      <td>4327721</td>\n",
       "      <td>4328193</td>\n",
       "    </tr>\n",
       "    <tr>\n",
       "      <th>34</th>\n",
       "      <td>Ethambutol</td>\n",
       "      <td>embB_3</td>\n",
       "      <td>CAGACTGTGGTGCTCGAATAC</td>\n",
       "      <td>AGCAACAGGTCGGTGATCC</td>\n",
       "      <td>446</td>\n",
       "      <td>4249199</td>\n",
       "      <td>4249644</td>\n",
       "    </tr>\n",
       "    <tr>\n",
       "      <th>35</th>\n",
       "      <td>Rifampicin</td>\n",
       "      <td>rpoB (1_2)</td>\n",
       "      <td>CTGTCTCCGATCGAGGACTTCT</td>\n",
       "      <td>AGACGAGGGCACGTACTCCA</td>\n",
       "      <td>1446</td>\n",
       "      <td>760065</td>\n",
       "      <td>761510</td>\n",
       "    </tr>\n",
       "  </tbody>\n",
       "</table>\n",
       "</div>"
      ],
      "text/plain": [
       "                             Drug primer name                 forward  \\\n",
       "0                Fluoroquinolones         NaN      AGAGTTGGTGCGGCGTAA   \n",
       "1                Fluoroquinolones        gyrA    GTTGACATCGAGCAGGAGAT   \n",
       "2                      Rifampicin      rpoB_1       GGTGGCCTGGAAGAGGT   \n",
       "3                      Rifampicin      rpoB_2       CCCCGACCAAAGAGTCA   \n",
       "4                      Rifampicin      rpoB_3    TGCTCACCTCGATCCACATC   \n",
       "5                      Rifampicin        rpoC     TGCGCCCGATGGTGCAGCT   \n",
       "6         Bedaquiline/Clofazimine       mmpR5    TTCGAGTCCAGGAGTTTGAC   \n",
       "7                    Streptomycin        rpsL    GTGAAAGCGCCCAAGATAGA   \n",
       "8                  Streptomycin**       rrs_1    ATTGCACAATGGGCGCAAGC   \n",
       "9                  Streptomycin**       rrs_3    CACAGGACGCGTCTAGAGAT   \n",
       "10     Isoniazid* (Rv1482c-fabG1)       fabG1    CCAGAAAGGGATCCGTCATG   \n",
       "11                     Isoniazid*      inhA_1    CAAACGGATTCTGGTTAGCG   \n",
       "12                     Isoniazid*      inhA_2     CTGCTGCCGATCATGAACC   \n",
       "13                            PAS        tlyA       TTGTTGGCCGCCCTGGA   \n",
       "14                      Isoniazid      katG_1      GCCGATCAACCCGAATCA   \n",
       "15                      Isoniazid      katG_2       ATTGCCAAGCGCCAGCA   \n",
       "16                   Pyrazinamide      pncA_1     CCAACAGTTCATCCCGGTT   \n",
       "17                   Pyrazinamide      pncA_2     AGGCACCCTTGTAGAACAC   \n",
       "18         Isoniazid (oxyR'-ahpC)        ahpC       GCCGGCTAGCACCTCTT   \n",
       "19                            PAS        folC       GACCACTGCCACGTCGA   \n",
       "20                            PAS        thyX    GGTCTTGGGATTGGGCTTGG   \n",
       "21                            PAS        thyA    CATACCGCGACTGGAGCTTT   \n",
       "22                     Ethambutol        embA    AGCTACCTCAAAGACGACTG   \n",
       "23                     Ethambutol        embB      GCACCTTCACCCTGACCG   \n",
       "24                     Ethambutol      embB_2     GATGCTGCGGATCTTGGTG   \n",
       "25                    Ethionamide      ethA_1      TCGCTAAAGCTAAACCCC   \n",
       "26                    Ethionamide      ethA_2       CCGGATGAGCCGGATGT   \n",
       "27                   Streptomycin         gid     CCTTTGATGGCGAGCATTC   \n",
       "28  Aminoglycosides (eis-Rv2417c)         eis    AGGGTCACAGTCACAGAATC   \n",
       "29                  D-Cycloserine         ald       TCGCGGAACTAACCCGT   \n",
       "30                  D-Cycloserine         alr       ATGGCTTGGCGTAACGC   \n",
       "31                     Ethambutol        embC      AGATCGTCGGGGTGTTCA   \n",
       "32                    Ethionamide      ethA_3       CGGAGTCGGAGCGAATT   \n",
       "33                    Ethionamide        ethR    GGCCGACGTTCTACTTCTAT   \n",
       "34                     Ethambutol      embB_3   CAGACTGTGGTGCTCGAATAC   \n",
       "35                     Rifampicin  rpoB (1_2)  CTGTCTCCGATCGAGGACTTCT   \n",
       "\n",
       "                     reverse  Amplicon size    Start      End  \n",
       "0       GCCACTTGAGTTTGTACAGC            449     6511     6959  \n",
       "1       AAATCGACTGTCTCCTCGTC            404     7353     7756  \n",
       "2          AGAACCCGAACCGCTCG            514   760038   760551  \n",
       "3          CTCACGTGACAGACCGC            542   760645   761186  \n",
       "4       ATCTTGCGTTTCTGAGCCAC            400   762025   762424  \n",
       "5          CGGCGATGACCTCTTCG            507   764340   764846  \n",
       "6        GCTCATCAGTCGTCCTCTC            425   779068   779492  \n",
       "7       CATCAGCCCTTCTCCTTCTT            407   781530   781936  \n",
       "8       CAAGGAAGGAAACCCACACC            475  1472209  1472684  \n",
       "9       AGGTGATCCAGCCGCACCTT            539  1472837  1473375  \n",
       "10       GACCCTGGTGCTCTTCTAC            400  1673281  1673680  \n",
       "11      GACCGTCATCCAGTTGTAGG            469  1674222  1674690  \n",
       "12      GCGTTCTAGAGCAATTGGGT            416  1674601  1675016  \n",
       "13  CCAACGAGATGAACGACAGGTCGG            524  1917897  1918420  \n",
       "14      AGTACATGCTGCTCGACAAG            419  2153874  2154292  \n",
       "15       TCAAGACGTTCGGGTTCGG            525  2155055  2155579  \n",
       "16       GACTATTCCTCGTCGTGGC            405  2288651  2289055  \n",
       "17      TTGTCGCTCACTACATCACC            457  2288947  2289403  \n",
       "18         GCGCTTGATGTCGGAGA            479  2726062  2726540  \n",
       "19         TTCGACGAATTCCGGCC            514  2747080  2747593  \n",
       "20      GCCGCTGGACACTTGCCTAT            460  3067784  3068244  \n",
       "21      ATCATCGTGTCGGCCTGGAA            409  3073681  3074090  \n",
       "22        AGCAGGGGATCGAGATGT            461  4243001  4243461  \n",
       "23        GGCTGCACACCCAGTGTG            517  4247334  4247850  \n",
       "24      GATACCAACACCGTCGTCAG            461  4247896  4248356  \n",
       "25         TGAACGGTTCACCGCGA            529  4325995  4326523  \n",
       "26        CCATTCGTCACGGGAAGG            497  4326067  4326563  \n",
       "27      AGTGCGTAATGTCTCCGATC            499  4407712  4408210  \n",
       "28      AAACTTGTTCTGGTCCAACG            429  2715319  2715747  \n",
       "29         ATGCGGGCTGCGTTGTA            490  3086887  3087376  \n",
       "30         CGTTGGCCATGACACCG            484  3840873  3841356  \n",
       "31      GTCGTAGTACCAGCCGAAAG            401  4240449  4240849  \n",
       "32       GTCGGCTTGATTGACCACC            499  4327302  4327800  \n",
       "33       GTTCTCGCCGTAAATGCTG            473  4327721  4328193  \n",
       "34       AGCAACAGGTCGGTGATCC            446  4249199  4249644  \n",
       "35      AGACGAGGGCACGTACTCCA           1446   760065   761510  "
      ]
     },
     "execution_count": 6,
     "metadata": {},
     "output_type": "execute_result"
    }
   ],
   "source": [
    "susana_design"
   ]
  },
  {
   "cell_type": "code",
   "execution_count": 26,
   "metadata": {},
   "outputs": [],
   "source": [
    "TmVar = {\n",
    "    'DivalentSaltConc': 2,\n",
    "    'MonovalentSaltConc': 10,\n",
    "    'dNTPConc': 0.2,\n",
    "    'OligoConc': 0.5\n",
    "}\n"
   ]
  },
  {
   "cell_type": "code",
   "execution_count": 28,
   "metadata": {},
   "outputs": [],
   "source": [
    "class TmVar:\n",
    "\tDivalentSaltConc = 2\n",
    "\tMonovalentSaltConc = 10\n",
    "\tdNTPConc = 0.2\n",
    "\tOligoConc = 0.5\n",
    " "
   ]
  },
  {
   "cell_type": "code",
   "execution_count": 32,
   "metadata": {},
   "outputs": [
    {
     "ename": "TypeError",
     "evalue": "'type' object does not support item assignment",
     "output_type": "error",
     "traceback": [
      "\u001b[0;31m---------------------------------------------------------------------------\u001b[0m",
      "\u001b[0;31mTypeError\u001b[0m                                 Traceback (most recent call last)",
      "\u001b[1;32m/mnt/storage10/lwang/Projects/Amplicone_design_tool/model2in1/scratch.ipynb Cell 8\u001b[0m line \u001b[0;36m1\n\u001b[0;32m----> <a href='vscode-notebook-cell://ssh-remote%2Bs10/mnt/storage10/lwang/Projects/Amplicone_design_tool/model2in1/scratch.ipynb#Y155sdnNjb2RlLXJlbW90ZQ%3D%3D?line=0'>1</a>\u001b[0m TmVar[\u001b[39m'\u001b[39;49m\u001b[39m111\u001b[39;49m\u001b[39m'\u001b[39;49m] \u001b[39m=\u001b[39m \u001b[39m111\u001b[39m\n",
      "\u001b[0;31mTypeError\u001b[0m: 'type' object does not support item assignment"
     ]
    }
   ],
   "source": [
    "TmVar['111'] = 111"
   ]
  },
  {
   "cell_type": "markdown",
   "metadata": {},
   "source": [
    "# Susana design test"
   ]
  },
  {
   "cell_type": "code",
   "execution_count": 1,
   "metadata": {},
   "outputs": [],
   "source": [
    "def calculate_gc_content(sequence):\n",
    "    \"\"\"\n",
    "    Calculate the GC content of a DNA sequence.\n",
    "\n",
    "    Parameters:\n",
    "    - sequence: The DNA sequence (string)\n",
    "\n",
    "    Returns:\n",
    "    - float: The GC content as a percentage\n",
    "    \"\"\"\n",
    "    \n",
    "    # Check if the sequence is empty\n",
    "    if len(sequence) == 0:\n",
    "        return 0.0\n",
    "    \n",
    "    # Count the number of G's and C's in the sequence\n",
    "    gc_count = sequence.count('G') + sequence.count('C')\n",
    "    \n",
    "    # Calculate the GC content\n",
    "    gc_content = (gc_count / len(sequence)) * 100\n",
    "    \n",
    "    return gc_content\n",
    "\n",
    "\n",
    "\n",
    "def calculate_tm_nearest_neighbor(sequence, na_concentration):\n",
    "    if len(sequence) == 0:\n",
    "        raise ValueError(\"Sequence length must be greater than 0\")\n",
    "    gc_count = sequence.count('G') + sequence.count('C')\n",
    "    total_length = len(sequence)\n",
    "    percent_gc = (gc_count / total_length) * 100\n",
    "    tm = 81.5 + 16.6 * math.log10(na_concentration) + 0.41 * percent_gc - 675 / total_length\n",
    "    return tm\n",
    "\n",
    "def simplified_tm(seq):\n",
    "    # Simplified melting temperature calculation based on base pair count\n",
    "    return (seq.count('A') + seq.count('T')) * 2 + (seq.count('C') + seq.count('G')) * 4\n"
   ]
  },
  {
   "cell_type": "code",
   "execution_count": 25,
   "metadata": {},
   "outputs": [
    {
     "name": "stdout",
     "output_type": "stream",
     "text": [
      "max_gc 0\n",
      "min_gc 100\n",
      "max_tm 63.024451980920674\n",
      "min_tm 63.024451980920674\n",
      "max_dg -24.099999999999998\n",
      "min_dg -24.099999999999998\n",
      "max_tm_simple 0\n",
      "min_tm_simple 100\n"
     ]
    }
   ],
   "source": [
    "max_gc = 0\n",
    "min_gc = 100\n",
    "max_dg = -100\n",
    "min_dg = 100\n",
    "max_tm = 0\n",
    "min_tm = 100\n",
    "max_tm_simple = 0\n",
    "min_tm_simple = 100\n",
    "for x in susana_design['forward'].tolist() + susana_design['reverse'].tolist(): \n",
    "    (dg, tm) = Thermo.simplified_tm(seq, complement_sequence(seq))\n",
    "    if tm > max_tm:\n",
    "        max_tm = tm\n",
    "    elif tm < min_tm:\n",
    "        min_tm = tm\n",
    "    if dg['Gibbs'] > max_dg:\n",
    "        max_dg = dg['Gibbs']\n",
    "    elif dg['Gibbs'] < min_dg:\n",
    "        min_dg = dg['Gibbs']\n",
    "    # if calculate_tm_nearest_neighbor(x, 50) > max_tm:\n",
    "    #     max_tm = calculate_tm_nearest_neighbor(x, 50)\n",
    "    # elif calculate_tm_nearest_neighbor(x, 50) < min_tm:\n",
    "    #     min_tm = calculate_tm_nearest_neighbor(x, 50)\n",
    "    # if simplified_tm(x) > max_tm_simple:\n",
    "    #     max_tm_simple = simplified_tm(x)\n",
    "    # elif simplified_tm(x) < min_tm_simple:\n",
    "    #     min_tm_simple = simplified_tm(x)\n",
    "        \n",
    "print('max_gc', max_gc)\n",
    "print('min_gc', min_gc)\n",
    "print('max_tm', max_tm)\n",
    "print('min_tm', min_tm)\n",
    "print('max_dg', max_dg)\n",
    "print('min_dg', min_dg)\n",
    "print('max_tm_simple', max_tm_simple)\n",
    "print('min_tm_simple', min_tm_simple)"
   ]
  },
  {
   "cell_type": "code",
   "execution_count": null,
   "metadata": {},
   "outputs": [],
   "source": [
    "from itertools import product\n",
    "\n",
    "def calc_self_any(primer):\n",
    "    max_score = 0\n",
    "    for i in range(len(primer)):\n",
    "        for j in range(i+1, len(primer)):\n",
    "            score = 0\n",
    "            for k, l in zip(primer[i:], primer[j:]):\n",
    "                if k == l:\n",
    "                    score += 1\n",
    "            max_score = max(max_score, score)\n",
    "    return max_score\n",
    "\n",
    "def calc_self_end(primer):\n",
    "    max_score = 0\n",
    "    for i in range(len(primer)):\n",
    "        score = 0\n",
    "        for k, l in zip(primer[i:], reversed(primer[:len(primer) - i])):\n",
    "            if k == l:\n",
    "                score += 1\n",
    "        max_score = max(max_score, score)\n",
    "    return max_score\n",
    "\n",
    "def calc_pair_compl_any(primer1, primer2):\n",
    "    max_score = 0\n",
    "    for i in range(len(primer1)):\n",
    "        for j in range(len(primer2)):\n",
    "            score = 0\n",
    "            for k, l in zip(primer1[i:], primer2[j:]):\n",
    "                if k == l:\n",
    "                    score += 1\n",
    "            max_score = max(max_score, score)\n",
    "    return max_score\n",
    "\n",
    "def calc_pair_compl_end(primer1, primer2):\n",
    "    max_score = 0\n",
    "    for i in range(len(primer1)):\n",
    "        score = 0\n",
    "        for k, l in zip(primer1[i:], reversed(primer2[:len(primer1) - i])):\n",
    "            if k == l:\n",
    "                score += 1\n",
    "        max_score = max(max_score, score)\n",
    "    return max_score\n",
    "\n",
    "# Test the functions\n",
    "primer1 = \"ATCGATCG\"\n",
    "primer2 = \"GCTAGCTA\"\n",
    "\n",
    "for x,y in zip(susana_design['forward'].tolist(), susana_design['reverse'].tolist()): \n",
    "    print(\"PRIMER_MAX_SELF_ANY for primer1:\", calc_self_any(x))   \n",
    "    print(\"PRIMER_MAX_SELF_END for x:\", calc_self_end(x))   \n",
    "    print(\"PRIMER_PAIR_MAX_COMPL_ANY:\", calc_pair_compl_any(x, y))  \n",
    "    print(\"PRIMER_PAIR_MAX_COMPL_END:\", calc_pair_compl_end(x, y))  \n"
   ]
  },
  {
   "cell_type": "code",
   "execution_count": 13,
   "metadata": {},
   "outputs": [],
   "source": [
    "ref_genome = 'MTB-h37rv_asm19595v2-eg18.fa'\n",
    "def find_sequence_location(query_seq, fasta_file=ref_genome):\n",
    "    ref_genome = SeqIO.read(fasta_file, \"fasta\")\n",
    "    position = ref_genome.seq.find(query_seq)\n",
    "    if position != -1:\n",
    "        return [position, position+len(query_seq)]\n",
    "    else:\n",
    "        print('!!!Primer not found in the reference genome')\n",
    "        return 0\n",
    "\n",
    "# pLeft_coord = []\n",
    "# pLeft_coord.append(find_sequence_location('CATCGCACGTCGTCTTTCCG', ref_genome)[0])\n",
    "\n",
    "# find_sequence_location('CATCGCACGTCGTCTTTCCG')[0]\n",
    "# find_sequence_location(complement_sequence('CATCGCACGTCGTCTTTCCG'))\n",
    "#%%\n",
    "def simplified_tm(seq):\n",
    "    # Simplified melting temperature calculation based on base pair count\n",
    "    return (seq.count('A') + seq.count('T')) * 2 + (seq.count('C') + seq.count('G')) * 4\n",
    "\n",
    "def simplified_dg(seq):\n",
    "    # Simplified Gibbs free energy calculation based on the nearest-neighbor model (not accurate)\n",
    "    nn_params = {\n",
    "        'AA': -1.0, 'TT': -1.0,\n",
    "        'AT': -0.9, 'TA': -0.9,\n",
    "        'CA': -1.7, 'TG': -1.7,\n",
    "        'GT': -1.5, 'AC': -1.5,\n",
    "        'CT': -1.6, 'AG': -1.6,\n",
    "        'GA': -1.5, 'TC': -1.5,\n",
    "        'CG': -2.8, 'GC': -2.3,\n",
    "        'GG': -1.9, 'CC': -1.9\n",
    "    }\n",
    "    dg = 0\n",
    "    for i in range(len(seq) - 1):\n",
    "        dinucleotide = seq[i:i+2]\n",
    "        dg += nn_params.get(dinucleotide, 0)\n",
    "    return dg\n",
    "\n",
    "def calculate_similarity(seq1, seq2):\n",
    "    matches = sum(1 for a, b in zip(seq1, seq2) if a == b)\n",
    "    return matches / len(seq1) * 100\n",
    "\n",
    "def check_last_n_base_pairs(seq1, seq2, n):\n",
    "    \"\"\"\n",
    "    Check if the last n base pairs of two sequences are the same.\n",
    "\n",
    "    Parameters:\n",
    "    - seq1: The first sequence (string)\n",
    "    - seq2: The second sequence (string)\n",
    "    - n: The number of base pairs to compare from the end (integer)\n",
    "\n",
    "    Returns:\n",
    "    - bool: True if the last n base pairs are the same, otherwise False\n",
    "    \"\"\"\n",
    "    \n",
    "    # Check if either sequence is shorter than n\n",
    "    if len(seq1) < n or len(seq2) < n:\n",
    "        return False\n",
    "    \n",
    "    # Get the last n base pairs from each sequence\n",
    "    last_n_seq1 = seq1[-n:]\n",
    "    last_n_seq2 = seq2[-n:]\n",
    "    \n",
    "    # Compare the last n base pairs\n",
    "    return last_n_seq1 == last_n_seq2\n",
    "\n",
    "# Example usage\n",
    "# result = check_last_n_base_pairs(\"ATCGGA\", \"TTTGGA\", 2)\n",
    "# print(\"Are the last 2 base pairs the same?\", result)  # Output should be True\n",
    "\n",
    "# result = check_last_n_base_pairs(\"ATCGGA\", \"TTTGTA\", 2)\n",
    "# print(\"Are the last 2 base pairs the same?\", result)  # Output should be False\n",
    "\n",
    "#%%\n",
    "def has_multiple_binding_sites(sequence, genome, similarity_threshold=90, min_tm=50, max_dg=-10):\n",
    "    seq_len = len(sequence)\n",
    "    genome_len = len(genome)\n",
    "    count = 0\n",
    "    n = 4\n",
    "    for i in range(genome_len - seq_len + 1):\n",
    "        within_tm_threshold, within_dg_threshold = False, False\n",
    "        subseq = genome[i:i + seq_len]\n",
    "        reverse_comp_subseq = reverse_complement_sequence(subseq)\n",
    "        if calculate_similarity(subseq, sequence)>similarity_threshold:\n",
    "            if check_last_n_base_pairs(subseq, sequence, n):\n",
    "                # print('>>>Calculated_similarity')\n",
    "                within_tm_threshold, within_dg_threshold = False, False\n",
    "                tm = simplified_tm(subseq)\n",
    "                dg = simplified_dg(subseq)\n",
    "                \n",
    "                within_tm_threshold = tm >= min_tm\n",
    "                within_dg_threshold = dg <= max_dg\n",
    "        elif calculate_similarity(reverse_comp_subseq, sequence)>similarity_threshold:\n",
    "            if check_last_n_base_pairs(reverse_comp_subseq, sequence, n):\n",
    "                # print('>>>Calculated_similarity')\n",
    "                within_tm_threshold, within_dg_threshold = False, False\n",
    "                tm = simplified_tm(reverse_comp_subseq)\n",
    "                dg = simplified_dg(reverse_comp_subseq)\n",
    "                \n",
    "                within_tm_threshold = tm >= min_tm\n",
    "                within_dg_threshold = dg <= max_dg\n",
    "            \n",
    "        if within_tm_threshold & within_dg_threshold:\n",
    "            # print(genome[i:i + seq_len])\n",
    "            # print('>>>within_tm_threshold & within_dg_threshold')\n",
    "            count += 1\n",
    "            if count > 1:\n",
    "                print(max(calculate_similarity(subseq, sequence), calculate_similarity(reverse_comp_subseq, sequence)))\n",
    "                return True  # Early exit if more than one binding site is found\n",
    "    print(max(calculate_similarity(subseq, sequence), calculate_similarity(reverse_comp_subseq, sequence)))\n",
    "    return False  # Return False if only one or no binding sites are found\n"
   ]
  },
  {
   "cell_type": "code",
   "execution_count": 11,
   "metadata": {},
   "outputs": [],
   "source": [
    "def complement_sequence(dna_sequence):\n",
    "    trans = str.maketrans('ATCG', 'TAGC')\n",
    "    return dna_sequence.upper().translate(trans)\n",
    "\n",
    "# print(complement_sequence(\"ATGCGTA\"))\n",
    "# Example usage:\n",
    "# dna_sequence = \"ATGCGTA\"\n",
    "# complement_sequence = complement_sequence(dna_sequence)\n",
    "# print(complement_sequence)  # Output: TACGCAT\n",
    "#%%\n",
    "def reverse_complement_sequence(seq):\n",
    "    complement = {\"A\": \"T\", \"T\": \"A\", \"C\": \"G\", \"G\": \"C\"}\n",
    "    reverse_seq = seq[::-1]\n",
    "    return \"\".join(complement[base] for base in reverse_seq)\n",
    "\n",
    "def genome_size(fasta_file):\n",
    "    total_length = 0\n",
    "    with open(fasta_file, 'r') as file:\n",
    "        for line in file:\n",
    "            if not line.startswith('>'):\n",
    "                total_length += len(line.strip())\n",
    "    return total_length\n",
    "\n",
    "def extract_sequence_from_fasta(start_pos, end_pos, padding = 150, fasta_file= 'MTB-h37rv_asm19595v2-eg18.fa', sequence_id='Chromosome'):\n",
    "    \"\"\"\n",
    "    Extracts a subsequence from a FASTA file based on the given sequence ID, start position, and end position.\n",
    "    \"\"\"\n",
    "    # Iterate over the sequences in the FASTA file\n",
    "    for record in SeqIO.parse(fasta_file, \"fasta\"):\n",
    "        # Check if the current sequence ID matches the desired sequence ID\n",
    "        \n",
    "        if record.id == sequence_id:\n",
    "            # Extract the subsequence based on the start and end positions\n",
    "            subsequence = record.seq[start_pos-padding:end_pos+padding]\n",
    "            return str(subsequence)  # Return the subsequence as a string\n",
    "    # If the sequence ID is not found, return None\n",
    "    return None\n",
    "genome = extract_sequence_from_fasta(0, genome_size(ref_genome),0)\n",
    "\n"
   ]
  },
  {
   "cell_type": "code",
   "execution_count": 14,
   "metadata": {},
   "outputs": [
    {
     "name": "stdout",
     "output_type": "stream",
     "text": [
      "83.33333333333334\n",
      "True\n",
      "85.0\n",
      "True\n",
      "100.0\n",
      "True\n",
      "82.35294117647058\n",
      "True\n",
      "10.0\n",
      "False\n",
      "100.0\n",
      "True\n",
      "10.0\n",
      "False\n",
      "20.0\n",
      "False\n",
      "20.0\n",
      "False\n",
      "35.0\n",
      "False\n",
      "35.0\n",
      "False\n",
      "25.0\n",
      "False\n",
      "31.57894736842105\n",
      "False\n",
      "82.35294117647058\n",
      "True\n",
      "83.33333333333334\n",
      "True\n",
      "82.35294117647058\n",
      "True\n",
      "84.21052631578947\n",
      "True\n",
      "100.0\n",
      "True\n",
      "82.35294117647058\n",
      "True\n",
      "82.35294117647058\n",
      "True\n",
      "30.0\n",
      "False\n",
      "30.0\n",
      "False\n",
      "25.0\n",
      "False\n",
      "83.33333333333334\n",
      "True\n",
      "84.21052631578947\n",
      "True\n",
      "100.0\n",
      "True\n",
      "94.11764705882352\n",
      "True\n",
      "36.84210526315789\n",
      "False\n",
      "35.0\n",
      "False\n",
      "100.0\n",
      "True\n",
      "82.35294117647058\n",
      "True\n",
      "83.33333333333334\n",
      "True\n",
      "82.35294117647058\n",
      "True\n",
      "35.0\n",
      "False\n",
      "85.71428571428571\n",
      "True\n",
      "81.81818181818183\n",
      "True\n",
      "20.0\n",
      "False\n",
      "85.0\n",
      "True\n",
      "88.23529411764706\n",
      "True\n",
      "82.35294117647058\n",
      "True\n",
      "15.0\n",
      "False\n",
      "88.23529411764706\n",
      "True\n",
      "31.57894736842105\n",
      "False\n",
      "35.0\n",
      "False\n",
      "30.0\n",
      "False\n",
      "30.0\n",
      "False\n",
      "84.21052631578947\n",
      "True\n",
      "85.0\n",
      "True\n",
      "20.0\n",
      "False\n",
      "20.833333333333336\n",
      "False\n",
      "100.0\n",
      "True\n",
      "84.21052631578947\n",
      "True\n",
      "31.57894736842105\n",
      "False\n",
      "20.0\n",
      "False\n",
      "82.35294117647058\n",
      "True\n",
      "82.35294117647058\n",
      "True\n",
      "30.0\n",
      "False\n",
      "30.0\n",
      "False\n",
      "83.33333333333334\n",
      "True\n",
      "100.0\n",
      "True\n",
      "35.0\n",
      "False\n",
      "82.35294117647058\n",
      "True\n",
      "100.0\n",
      "True\n",
      "30.0\n",
      "False\n",
      "35.0\n",
      "False\n",
      "82.35294117647058\n",
      "True\n",
      "82.35294117647058\n",
      "True\n",
      "15.0\n",
      "False\n",
      "84.21052631578947\n",
      "True\n"
     ]
    },
    {
     "ename": "KeyboardInterrupt",
     "evalue": "",
     "output_type": "error",
     "traceback": [
      "\u001b[0;31m---------------------------------------------------------------------------\u001b[0m",
      "\u001b[0;31mKeyboardInterrupt\u001b[0m                         Traceback (most recent call last)",
      "\u001b[1;32m/mnt/storage10/lwang/Projects/Amplicone_design_tool/model2in1/scratch.ipynb Cell 10\u001b[0m line \u001b[0;36m2\n\u001b[1;32m      <a href='vscode-notebook-cell://ssh-remote%2Bs10/mnt/storage10/lwang/Projects/Amplicone_design_tool/model2in1/scratch.ipynb#X10sdnNjb2RlLXJlbW90ZQ%3D%3D?line=0'>1</a>\u001b[0m \u001b[39mfor\u001b[39;00m x \u001b[39min\u001b[39;00m susana_design[\u001b[39m'\u001b[39m\u001b[39mforward\u001b[39m\u001b[39m'\u001b[39m]\u001b[39m.\u001b[39mtolist() \u001b[39m+\u001b[39m susana_design[\u001b[39m'\u001b[39m\u001b[39mreverse\u001b[39m\u001b[39m'\u001b[39m]\u001b[39m.\u001b[39mtolist(): \n\u001b[0;32m----> <a href='vscode-notebook-cell://ssh-remote%2Bs10/mnt/storage10/lwang/Projects/Amplicone_design_tool/model2in1/scratch.ipynb#X10sdnNjb2RlLXJlbW90ZQ%3D%3D?line=1'>2</a>\u001b[0m     \u001b[39mprint\u001b[39m(has_multiple_binding_sites(x, genome, similarity_threshold\u001b[39m=\u001b[39;49m\u001b[39m80\u001b[39;49m, min_tm\u001b[39m=\u001b[39;49m\u001b[39m50\u001b[39;49m, max_dg\u001b[39m=\u001b[39;49m\u001b[39m-\u001b[39;49m\u001b[39m10\u001b[39;49m))\n",
      "\u001b[1;32m/mnt/storage10/lwang/Projects/Amplicone_design_tool/model2in1/scratch.ipynb Cell 10\u001b[0m line \u001b[0;36m8\n\u001b[1;32m     <a href='vscode-notebook-cell://ssh-remote%2Bs10/mnt/storage10/lwang/Projects/Amplicone_design_tool/model2in1/scratch.ipynb#X10sdnNjb2RlLXJlbW90ZQ%3D%3D?line=81'>82</a>\u001b[0m subseq \u001b[39m=\u001b[39m genome[i:i \u001b[39m+\u001b[39m seq_len]\n\u001b[1;32m     <a href='vscode-notebook-cell://ssh-remote%2Bs10/mnt/storage10/lwang/Projects/Amplicone_design_tool/model2in1/scratch.ipynb#X10sdnNjb2RlLXJlbW90ZQ%3D%3D?line=82'>83</a>\u001b[0m reverse_comp_subseq \u001b[39m=\u001b[39m reverse_complement_sequence(subseq)\n\u001b[0;32m---> <a href='vscode-notebook-cell://ssh-remote%2Bs10/mnt/storage10/lwang/Projects/Amplicone_design_tool/model2in1/scratch.ipynb#X10sdnNjb2RlLXJlbW90ZQ%3D%3D?line=83'>84</a>\u001b[0m \u001b[39mif\u001b[39;00m calculate_similarity(subseq, sequence)\u001b[39m>\u001b[39msimilarity_threshold:\n\u001b[1;32m     <a href='vscode-notebook-cell://ssh-remote%2Bs10/mnt/storage10/lwang/Projects/Amplicone_design_tool/model2in1/scratch.ipynb#X10sdnNjb2RlLXJlbW90ZQ%3D%3D?line=84'>85</a>\u001b[0m     \u001b[39mif\u001b[39;00m check_last_n_base_pairs(subseq, sequence, n):\n\u001b[1;32m     <a href='vscode-notebook-cell://ssh-remote%2Bs10/mnt/storage10/lwang/Projects/Amplicone_design_tool/model2in1/scratch.ipynb#X10sdnNjb2RlLXJlbW90ZQ%3D%3D?line=85'>86</a>\u001b[0m         \u001b[39m# print('>>>Calculated_similarity')\u001b[39;00m\n\u001b[1;32m     <a href='vscode-notebook-cell://ssh-remote%2Bs10/mnt/storage10/lwang/Projects/Amplicone_design_tool/model2in1/scratch.ipynb#X10sdnNjb2RlLXJlbW90ZQ%3D%3D?line=86'>87</a>\u001b[0m         within_tm_threshold, within_dg_threshold \u001b[39m=\u001b[39m \u001b[39mFalse\u001b[39;00m, \u001b[39mFalse\u001b[39;00m\n",
      "\u001b[1;32m/mnt/storage10/lwang/Projects/Amplicone_design_tool/model2in1/scratch.ipynb Cell 10\u001b[0m line \u001b[0;36m4\n\u001b[1;32m     <a href='vscode-notebook-cell://ssh-remote%2Bs10/mnt/storage10/lwang/Projects/Amplicone_design_tool/model2in1/scratch.ipynb#X10sdnNjb2RlLXJlbW90ZQ%3D%3D?line=38'>39</a>\u001b[0m \u001b[39mdef\u001b[39;00m \u001b[39mcalculate_similarity\u001b[39m(seq1, seq2):\n\u001b[0;32m---> <a href='vscode-notebook-cell://ssh-remote%2Bs10/mnt/storage10/lwang/Projects/Amplicone_design_tool/model2in1/scratch.ipynb#X10sdnNjb2RlLXJlbW90ZQ%3D%3D?line=39'>40</a>\u001b[0m     matches \u001b[39m=\u001b[39m \u001b[39msum\u001b[39m(\u001b[39m1\u001b[39m \u001b[39mfor\u001b[39;00m a, b \u001b[39min\u001b[39;00m \u001b[39mzip\u001b[39m(seq1, seq2) \u001b[39mif\u001b[39;00m a \u001b[39m==\u001b[39m b)\n\u001b[1;32m     <a href='vscode-notebook-cell://ssh-remote%2Bs10/mnt/storage10/lwang/Projects/Amplicone_design_tool/model2in1/scratch.ipynb#X10sdnNjb2RlLXJlbW90ZQ%3D%3D?line=40'>41</a>\u001b[0m     \u001b[39mreturn\u001b[39;00m matches \u001b[39m/\u001b[39m \u001b[39mlen\u001b[39m(seq1) \u001b[39m*\u001b[39m \u001b[39m100\u001b[39m\n",
      "\u001b[1;32m/mnt/storage10/lwang/Projects/Amplicone_design_tool/model2in1/scratch.ipynb Cell 10\u001b[0m line \u001b[0;36m4\n\u001b[1;32m     <a href='vscode-notebook-cell://ssh-remote%2Bs10/mnt/storage10/lwang/Projects/Amplicone_design_tool/model2in1/scratch.ipynb#X10sdnNjb2RlLXJlbW90ZQ%3D%3D?line=38'>39</a>\u001b[0m \u001b[39mdef\u001b[39;00m \u001b[39mcalculate_similarity\u001b[39m(seq1, seq2):\n\u001b[0;32m---> <a href='vscode-notebook-cell://ssh-remote%2Bs10/mnt/storage10/lwang/Projects/Amplicone_design_tool/model2in1/scratch.ipynb#X10sdnNjb2RlLXJlbW90ZQ%3D%3D?line=39'>40</a>\u001b[0m     matches \u001b[39m=\u001b[39m \u001b[39msum\u001b[39m(\u001b[39m1\u001b[39m \u001b[39mfor\u001b[39;00m a, b \u001b[39min\u001b[39;00m \u001b[39mzip\u001b[39m(seq1, seq2) \u001b[39mif\u001b[39;00m a \u001b[39m==\u001b[39m b)\n\u001b[1;32m     <a href='vscode-notebook-cell://ssh-remote%2Bs10/mnt/storage10/lwang/Projects/Amplicone_design_tool/model2in1/scratch.ipynb#X10sdnNjb2RlLXJlbW90ZQ%3D%3D?line=40'>41</a>\u001b[0m     \u001b[39mreturn\u001b[39;00m matches \u001b[39m/\u001b[39m \u001b[39mlen\u001b[39m(seq1) \u001b[39m*\u001b[39m \u001b[39m100\u001b[39m\n",
      "\u001b[0;31mKeyboardInterrupt\u001b[0m: "
     ]
    }
   ],
   "source": [
    "for x in susana_design['forward'].tolist() + susana_design['reverse'].tolist(): \n",
    "    print(has_multiple_binding_sites(x, genome, similarity_threshold=80, min_tm=50, max_dg=-10))\n"
   ]
  },
  {
   "cell_type": "code",
   "execution_count": null,
   "metadata": {},
   "outputs": [],
   "source": [
    "# Example usage\n",
    "gc_content = calculate_gc_content(\"ATCGGCAT\")\n"
   ]
  },
  {
   "cell_type": "code",
   "execution_count": 2,
   "metadata": {},
   "outputs": [],
   "source": [
    "from Bio.Blast.Applications import NcbiblastnCommandline\n",
    "from Bio import SeqIO\n",
    "from Bio.Blast import NCBIXML\n",
    "import subprocess"
   ]
  },
  {
   "cell_type": "code",
   "execution_count": 2,
   "metadata": {},
   "outputs": [
    {
     "name": "stdout",
     "output_type": "stream",
     "text": [
      "TACGCAT\n"
     ]
    }
   ],
   "source": [
    "def complement_sequence(dna_sequence):\n",
    "    trans = str.maketrans('ATCG', 'TAGC')\n",
    "    return dna_sequence.upper().translate(trans)\n",
    "\n",
    "# print(complement_sequence(\"ATGCGTA\"))\n",
    "# # Example usage:\n",
    "# # dna_sequence = \"ATGCGTA\"\n",
    "# # complement_sequence = complement_sequence(dna_sequence)\n",
    "# # print(complement_sequence)  # Output: TACGCAT\n",
    "# #%%\n",
    "def reverse_complement_sequence(seq):\n",
    "    complement = {\"A\": \"T\", \"T\": \"A\", \"C\": \"G\", \"G\": \"C\"}\n",
    "    reverse_seq = seq[::-1]\n",
    "    return \"\".join(complement[base] for base in reverse_seq)\n"
   ]
  },
  {
   "cell_type": "code",
   "execution_count": null,
   "metadata": {},
   "outputs": [],
   "source": [
    "def calculate_mismatches(seq1, seq2):\n",
    "    return sum(1 for a, b in zip(seq1, seq2) if a != b)\n",
    "\n",
    "def find_alignments(sequence, genome, target_site):\n",
    "    alignments = []\n",
    "    seq_len = len(sequence)\n",
    "    genome_len = len(genome)\n",
    "    \n",
    "    for i in range(genome_len - seq_len + 1):\n",
    "        subseq = genome[i:i+seq_len]\n",
    "        mismatches = calculate_mismatches(sequence, subseq)\n",
    "        binding_location = (i, i+seq_len)\n",
    "        distance_from_target = min(abs(i - target_site), abs(i + seq_len - target_site))\n",
    "        \n",
    "        alignment_info = {\n",
    "            'binding_location': binding_location,\n",
    "            'mismatches': mismatches,\n",
    "            'distance_from_target': distance_from_target\n",
    "        }\n",
    "        alignments.append(alignment_info)\n",
    "    \n",
    "    return alignments\n",
    "\n",
    "# Usage\n",
    "sequence = 'ATG'\n",
    "genome = 'ATGCGTATGACGTAG'\n",
    "target_site = 7  # Assume the target site is at position 7\n",
    "alignments = find_alignments(sequence, genome, target_site)\n",
    "\n",
    "for alignment in alignments:\n",
    "    binding_location = alignment['binding_location']\n",
    "    mismatches = alignment['mismatches']\n",
    "    distance_from_target = alignment['distance_from_target']\n",
    "    print(f'Binding location: {binding_location}, Mismatches: {mismatches}, Distance from target: {distance_from_target}')\n",
    "\n"
   ]
  },
  {
   "cell_type": "code",
   "execution_count": null,
   "metadata": {},
   "outputs": [],
   "source": [
    "def calculate_mismatches(seq1, seq2):\n",
    "    return sum(1 for a, b in zip(seq1, seq2) if a != b)\n",
    "\n",
    "def find_alignments(sequence, genome, target_site):\n",
    "    alignments = []\n",
    "    seq_len = len(sequence)\n",
    "    genome_len = len(genome)\n",
    "    \n",
    "    for i in range(genome_len - seq_len + 1):\n",
    "        subseq = genome[i:i+seq_len]\n",
    "        mismatches = calculate_mismatches(sequence, subseq)\n",
    "        binding_location = (i, i+seq_len)\n",
    "        distance_from_target = min(abs(i - target_site), abs(i + seq_len - target_site))\n",
    "        \n",
    "        alignment_info = {\n",
    "            'binding_location': binding_location,\n",
    "            'mismatches': mismatches,\n",
    "            'distance_from_target': distance_from_target\n",
    "        }\n",
    "        alignments.append(alignment_info)\n",
    "    \n",
    "    return alignments\n",
    "\n",
    "# Usage\n",
    "sequence = 'ATG'\n",
    "genome = 'ATGCGTATGACGTAG'\n",
    "target_site = 7  # Assume the target site is at position 7\n",
    "alignments = find_alignments(sequence, genome, target_site)\n",
    "\n",
    "for alignment in alignments:\n",
    "    binding_location = alignment['binding_location']\n",
    "    mismatches = alignment['mismatches']\n",
    "    distance_from_target = alignment['distance_from_target']\n",
    "    print(f'Binding location: {binding_location}, Mismatches: {mismatches}, Distance from target: {distance_from_target}')"
   ]
  },
  {
   "cell_type": "code",
   "execution_count": 76,
   "metadata": {},
   "outputs": [
    {
     "data": {
      "text/plain": [
       "'CGAGCCGTTGCCGGTAGGTTGCGGCTGGTTATCGACGGTACTGTCCACATTTGTGGATAGCCATGTGGACAGTTCACCTGCCCACAACAACGGTTGTAGCTCGACCCGGAACCAAGACCCGGAACTAACGAGAACCAGGGAGATACGTCG'"
      ]
     },
     "execution_count": 76,
     "metadata": {},
     "output_type": "execute_result"
    }
   ],
   "source": [
    "ref_genome = '/mnt/storage10/lwang/Projects/Amplicone_design_tool/model/MTB-h37rv_asm19595v2-eg18.fa'\n",
    "\n",
    "def genome_size(fasta_file):\n",
    "    total_length = 0\n",
    "    with open(fasta_file, 'r') as file:\n",
    "        for line in file:\n",
    "            if not line.startswith('>'):\n",
    "                total_length += len(line.strip())\n",
    "    return total_length\n",
    "\n",
    "def extract_sequence_from_fasta(start_pos, end_pos, padding = 150, fasta_file= 'MTB-h37rv_asm19595v2-eg18.fa', sequence_id='Chromosome'):\n",
    "    \"\"\"\n",
    "    Extracts a subsequence from a FASTA file based on the given sequence ID, start position, and end position.\n",
    "    \"\"\"\n",
    "    # Iterate over the sequences in the FASTA file\n",
    "    for record in SeqIO.parse(fasta_file, \"fasta\"):\n",
    "        # Check if the current sequence ID matches the desired sequence ID\n",
    "        \n",
    "        if record.id == sequence_id:\n",
    "            # Extract the subsequence based on the start and end positions\n",
    "            subsequence = record.seq[start_pos-padding:end_pos+padding]\n",
    "            return str(subsequence)  # Return the subsequence as a string\n",
    "    # If the sequence ID is not found, return None\n",
    "    return None\n",
    "\n",
    "extract_sequence_from_fasta(0, genome_size(ref_genome))"
   ]
  },
  {
   "cell_type": "code",
   "execution_count": 74,
   "metadata": {},
   "outputs": [
    {
     "data": {
      "text/plain": [
       "4411532"
      ]
     },
     "execution_count": 74,
     "metadata": {},
     "output_type": "execute_result"
    }
   ],
   "source": [
    "genome_size(ref_genome)"
   ]
  },
  {
   "cell_type": "code",
   "execution_count": 78,
   "metadata": {},
   "outputs": [
    {
     "data": {
      "text/plain": [
       "4411532"
      ]
     },
     "execution_count": 78,
     "metadata": {},
     "output_type": "execute_result"
    }
   ],
   "source": [
    "genome_size(ref_genome)"
   ]
  },
  {
   "cell_type": "code",
   "execution_count": 80,
   "metadata": {},
   "outputs": [
    {
     "name": "stdout",
     "output_type": "stream",
     "text": [
      "TACGCAT\n"
     ]
    }
   ],
   "source": [
    "import primer_selection"
   ]
  },
  {
   "cell_type": "code",
   "execution_count": null,
   "metadata": {},
   "outputs": [],
   "source": [
    "primer_selection.extract_sequence_from_fasta(0, genome_size(ref_genome),0)"
   ]
  },
  {
   "cell_type": "code",
   "execution_count": 83,
   "metadata": {},
   "outputs": [
    {
     "name": "stdout",
     "output_type": "stream",
     "text": [
      "True\n"
     ]
    }
   ],
   "source": [
    "def simplified_tm(seq):\n",
    "    # Simplified melting temperature calculation based on base pair count\n",
    "    return (seq.count('A') + seq.count('T')) * 2 + (seq.count('C') + seq.count('G')) * 4\n",
    "\n",
    "def simplified_dg(seq):\n",
    "    nn_params = {\n",
    "        'AA': -1.0, 'TT': -1.0,\n",
    "        'AT': -0.9, 'TA': -0.9,\n",
    "        'CA': -1.7, 'TG': -1.7,\n",
    "        'GT': -1.5, 'AC': -1.5,\n",
    "        'CT': -1.6, 'AG': -1.6,\n",
    "        'GA': -1.5, 'TC': -1.5,\n",
    "        'CG': -2.8, 'GC': -2.3,\n",
    "        'GG': -1.9, 'CC': -1.9\n",
    "    }\n",
    "    dg = 0\n",
    "    for i in range(len(seq) - 1):\n",
    "        dinucleotide = seq[i:i+2]\n",
    "        dg += nn_params.get(dinucleotide, 0)  # Adds 0 if dinucleotide not found\n",
    "    return dg\n",
    "\n",
    "\n",
    "def is_good_primer_candidate(primer, genome, target_site, max_mismatches, binding_location_range, max_distance_from_target, min_tm, max_dg):\n",
    "    primer_len = len(primer)\n",
    "    genome_len = len(genome)\n",
    "    \n",
    "    for i in range(genome_len - primer_len + 1):\n",
    "        subseq = genome[i:i+primer_len]\n",
    "        mismatches = calculate_mismatches(primer, subseq)\n",
    "        distance_from_target = min(abs(i - target_site), abs(i + primer_len - target_site))\n",
    "        \n",
    "        # Check if the alignment meets the thresholds\n",
    "        within_mismatch_threshold = mismatches <= max_mismatches\n",
    "        within_binding_location_range = binding_location_range[0] <= i <= binding_location_range[1]\n",
    "        within_distance_threshold = distance_from_target <= max_distance_from_target\n",
    "        \n",
    "        # Evaluate binding strength\n",
    "        tm = simplified_tm(subseq)\n",
    "        dg = simplified_dg(subseq)\n",
    "        strong_binding = tm >= min_tm and dg <= max_dg\n",
    "        \n",
    "        # If a strong alternative binding site is found, return False\n",
    "        summary = within_mismatch_threshold + within_binding_location_range + within_distance_threshold + strong_binding\n",
    "        # if within_mismatch_threshold and within_binding_location_range and within_distance_threshold and strong_binding:\n",
    "        if summary > 3:\n",
    "            return False\n",
    "    return True  # No strong alternative binding sites found\n",
    "\n",
    "# Usage\n",
    "primer = 'CGAACTCGAGGCTGCCTACT'\n",
    "genome = primer_selection.extract_sequence_from_fasta(0, genome_size(ref_genome),0)\n",
    "target_site = 7\n",
    "max_mismatches = 2\n",
    "binding_location_range = (0, 15)\n",
    "max_distance_from_target = 50\n",
    "min_tm = 50  # Example threshold for minimum melting temperature\n",
    "max_dg = -10  # Example threshold for maximum Gibbs free energy\n",
    "\n",
    "is_good_candidate = is_good_primer_candidate(primer, genome, target_site, max_mismatches, binding_location_range, max_distance_from_target, min_tm, max_dg)\n",
    "print(is_good_candidate)\n"
   ]
  },
  {
   "cell_type": "code",
   "execution_count": null,
   "metadata": {},
   "outputs": [],
   "source": [
    "    for i in range(genome_len - seq_len + 1):\n",
    "        subseq = genome[i:i + seq_len]\n",
    "        tm = simplified_tm(sequence)\n",
    "        dg = simplified_dg(sequence)\n",
    "\n",
    "        within_similarity_threshold = calculate_similarity(sequence, subseq, similarity_threshold)\n",
    "        within_tm_threshold = tm >= min_tm\n",
    "        within_dg_threshold = dg <= max_dg\n",
    "\n",
    "        if within_similarity_threshold and within_tm_threshold and within_dg_threshold:\n",
    "            count += 1\n",
    "            if count > 1:\n",
    "                return True  # Early exit if more than one binding site is found\n",
    "\n",
    "    return False  # Return False if only one or no binding sites are found"
   ]
  },
  {
   "cell_type": "markdown",
   "metadata": {},
   "source": [
    "## Below is the code used from testing alternative binding"
   ]
  },
  {
   "cell_type": "code",
   "execution_count": 140,
   "metadata": {},
   "outputs": [
    {
     "name": "stdout",
     "output_type": "stream",
     "text": [
      "CGAACTCGAGGCTGCCTACT\n",
      "CGGACTCGAGGGTGCCTTCT\n",
      "True\n"
     ]
    }
   ],
   "source": [
    "def simplified_tm(seq):\n",
    "    # Simplified melting temperature calculation based on base pair count\n",
    "    return (seq.count('A') + seq.count('T')) * 2 + (seq.count('C') + seq.count('G')) * 4\n",
    "\n",
    "def simplified_dg(seq):\n",
    "    # Simplified Gibbs free energy calculation based on the nearest-neighbor model (not accurate)\n",
    "    nn_params = {\n",
    "        'AA': -1.0, 'TT': -1.0,\n",
    "        'AT': -0.9, 'TA': -0.9,\n",
    "        'CA': -1.7, 'TG': -1.7,\n",
    "        'GT': -1.5, 'AC': -1.5,\n",
    "        'CT': -1.6, 'AG': -1.6,\n",
    "        'GA': -1.5, 'TC': -1.5,\n",
    "        'CG': -2.8, 'GC': -2.3,\n",
    "        'GG': -1.9, 'CC': -1.9\n",
    "    }\n",
    "    dg = 0\n",
    "    for i in range(len(seq) - 1):\n",
    "        dinucleotide = seq[i:i+2]\n",
    "        dg += nn_params.get(dinucleotide, 0)\n",
    "    return dg\n",
    "\n",
    "def calculate_similarity(seq1, seq2):\n",
    "    matches = sum(1 for a, b in zip(seq1, seq2) if a == b)\n",
    "    return matches / len(seq1) * 100\n",
    "\n",
    "def has_multiple_binding_sites(sequence, genome, similarity_threshold, min_tm=60, max_dg=-10):\n",
    "    seq_len = len(sequence)\n",
    "    genome_len = len(genome)\n",
    "    count = 0\n",
    "\n",
    "    for i in range(genome_len - seq_len + 1):\n",
    "        subseq = genome[i:i + seq_len]\n",
    "        if calculate_similarity(subseq, sequence)>similarity_threshold:\n",
    "            tm = simplified_tm(subseq)\n",
    "            dg = simplified_dg(subseq)\n",
    "            \n",
    "            within_tm_threshold = tm >= min_tm\n",
    "            within_dg_threshold = dg <= max_dg\n",
    "\n",
    "            if within_tm_threshold and within_dg_threshold:\n",
    "                print(genome[i:i + seq_len])\n",
    "                count += 1\n",
    "                if count > 1:\n",
    "                    return True  # Early exit if more than one binding site is found\n",
    "\n",
    "    return False  # Return False if only one or no binding sites are found\n",
    "\n",
    "# Usage:\n",
    "primer = 'CGAACTCGAGGCTGCCTACT'\n",
    "# primer = 'GCTCGTCCATGTCCCACCAT'\n",
    "genome = primer_selection.extract_sequence_from_fasta(0, genome_size(ref_genome),0)\n",
    "result = has_multiple_binding_sites(primer, genome, 81)\n",
    "print(result)  # Output: True or False\n"
   ]
  },
  {
   "cell_type": "code",
   "execution_count": 132,
   "metadata": {},
   "outputs": [
    {
     "name": "stdout",
     "output_type": "stream",
     "text": [
      "CGAACTCGAGGCTGCCTACT\n",
      "CGAACTCGAGGCTGCCTACT\n",
      "True\n"
     ]
    }
   ],
   "source": [
    "def has_multiple_binding_sites(sequence, genome):\n",
    "    seq_len = len(sequence)\n",
    "    genome_len = len(genome)\n",
    "    count = 0\n",
    "\n",
    "    for i in range(genome_len - seq_len + 1):\n",
    "        subseq = genome[i:i + seq_len]\n",
    "        if subseq == sequence:\n",
    "            print(genome[i:i + seq_len])\n",
    "            count += 1\n",
    "            if count > 1:\n",
    "                return True  # Early exit if more than one binding site is found\n",
    "\n",
    "    return False  # Return False if only one or no binding sites are found\n",
    "\n",
    "# Usage:\n",
    "primer = 'CGAACTCGAGGCTGCCTACT'\n",
    "# primer = 'GCTCGTCCATGTCCCACCAT'\n",
    "genome = primer_selection.extract_sequence_from_fasta(0, genome_size(ref_genome),0)\n",
    "result = has_multiple_binding_sites(primer, genome)\n",
    "print(result)  # Output: True or False\n"
   ]
  },
  {
   "cell_type": "code",
   "execution_count": 103,
   "metadata": {},
   "outputs": [
    {
     "name": "stdout",
     "output_type": "stream",
     "text": [
      "False\n"
     ]
    }
   ],
   "source": [
    "def calculate_similarity(seq1, seq2):\n",
    "    matches = sum(1 for a, b in zip(seq1, seq2) if a == b)\n",
    "    return matches / len(seq1) * 100\n",
    "\n",
    "def has_multiple_binding_sites(sequence, genome, similarity_threshold):\n",
    "    seq_len = len(sequence)\n",
    "    genome_len = len(genome)\n",
    "    count = 0\n",
    "\n",
    "    for i in range(genome_len - seq_len + 1):\n",
    "        subseq = genome[i:i + seq_len]\n",
    "        similarity = calculate_similarity(sequence, subseq)\n",
    "        if similarity >= similarity_threshold:\n",
    "            count += 1\n",
    "            if count > 1:\n",
    "                return True  # Early exit if more than one binding site is found\n",
    "\n",
    "    return False  # Return False if only one or no binding sites are found\n",
    "\n",
    "# Usage:\n",
    "# primer = 'CGAACTCGAGGCTGCCTACT'\n",
    "primer = 'GCTCGTCCATGTCCCACCAT'\n",
    "genome = primer_selection.extract_sequence_from_fasta(0, genome_size(ref_genome),0)\n",
    "similarity_threshold = 91  # For example, 90% similarity\n",
    "result = has_multiple_binding_sites(primer, genome, similarity_threshold)\n",
    "print(result)  # Output: True or False\n"
   ]
  },
  {
   "cell_type": "code",
   "execution_count": 104,
   "metadata": {},
   "outputs": [
    {
     "name": "stdout",
     "output_type": "stream",
     "text": [
      "False\n"
     ]
    }
   ],
   "source": [
    "def simplified_tm(seq):\n",
    "    # Simplified melting temperature calculation based on base pair count\n",
    "    return (seq.count('A') + seq.count('T')) * 2 + (seq.count('C') + seq.count('G')) * 4\n",
    "\n",
    "def simplified_dg(seq):\n",
    "    # Simplified Gibbs free energy calculation based on the nearest-neighbor model (not accurate)\n",
    "    nn_params = {\n",
    "        'AA': -1.0, 'TT': -1.0,\n",
    "        'AT': -0.9, 'TA': -0.9,\n",
    "        'CA': -1.7, 'TG': -1.7,\n",
    "        'GT': -1.5, 'AC': -1.5,\n",
    "        'CT': -1.6, 'AG': -1.6,\n",
    "        'GA': -1.5, 'TC': -1.5,\n",
    "        'CG': -2.8, 'GC': -2.3,\n",
    "        'GG': -1.9, 'CC': -1.9\n",
    "    }\n",
    "    dg = 0\n",
    "    for i in range(len(seq) - 1):\n",
    "        dinucleotide = seq[i:i+2]\n",
    "        dg += nn_params.get(dinucleotide, 0)\n",
    "    return dg\n",
    "\n",
    "def has_multiple_binding_sites(sequence, genome, similarity_threshold, min_tm, max_dg):\n",
    "    seq_len = len(sequence)\n",
    "    genome_len = len(genome)\n",
    "    count = 0\n",
    "\n",
    "    for i in range(genome_len - seq_len + 1):\n",
    "        subseq = genome[i:i + seq_len]\n",
    "        similarity = calculate_similarity(sequence, subseq)\n",
    "        tm = simplified_tm(subseq)\n",
    "        dg = simplified_dg(subseq)\n",
    "\n",
    "        # Check if the alignment meets the thresholds\n",
    "        within_similarity_threshold = similarity >= similarity_threshold\n",
    "        within_tm_threshold = tm >= min_tm\n",
    "        within_dg_threshold = dg <= max_dg\n",
    "\n",
    "        if within_similarity_threshold and within_tm_threshold and within_dg_threshold:\n",
    "            count += 1\n",
    "            if count > 1:\n",
    "                return True  # Early exit if more than one binding site is found\n",
    "\n",
    "    return False  # Return False if only one or no binding sites are found\n",
    "\n",
    "# Usage:\n",
    "primer = 'GCTCGTCCATGTCCCACCAT'\n",
    "genome = primer_selection.extract_sequence_from_fasta(0, genome_size(ref_genome),0)\n",
    "similarity_threshold = 70  # For example, 90% similarity\n",
    "min_tm = 40  # Example threshold for minimum melting temperature\n",
    "max_dg = -10  # Example threshold for maximum Gibbs free energy\n",
    "\n",
    "result = has_multiple_binding_sites(sequence, genome, similarity_threshold, min_tm, max_dg)\n",
    "print(result)  # Output: True or False\n"
   ]
  },
  {
   "cell_type": "code",
   "execution_count": 130,
   "metadata": {},
   "outputs": [
    {
     "name": "stdout",
     "output_type": "stream",
     "text": [
      "True\n"
     ]
    }
   ],
   "source": [
    "def calculate_similarity(seq1, seq2, similarity_threshold):\n",
    "    required_matches = len(seq1) * similarity_threshold / 100\n",
    "    matches = 0\n",
    "    for a, b in zip(seq1, seq2):\n",
    "        if a == b:\n",
    "            matches += 1\n",
    "        if matches >= required_matches:\n",
    "            return True\n",
    "    return False    \n",
    "\n",
    "def simplified_tm(seq):\n",
    "    return (seq.count('A') + seq.count('T')) * 2 + (seq.count('C') + seq.count('G')) * 4\n",
    "\n",
    "def simplified_dg(seq):\n",
    "    nn_params = {\n",
    "        'AA': -1.0, 'TT': -1.0,\n",
    "        'AT': -0.9, 'TA': -0.9,\n",
    "        'CA': -1.7, 'TG': -1.7,\n",
    "        'GT': -1.5, 'AC': -1.5,\n",
    "        'CT': -1.6, 'AG': -1.6,\n",
    "        'GA': -1.5, 'TC': -1.5,\n",
    "        'CG': -2.8, 'GC': -2.3,\n",
    "        'GG': -1.9, 'CC': -1.9\n",
    "    }\n",
    "    dg = 0\n",
    "    for i in range(len(seq) - 1):\n",
    "        dinucleotide = seq[i:i+2]\n",
    "        dg += nn_params.get(dinucleotide, 0)\n",
    "    return dg\n",
    "\n",
    "def precompute_dinucleotide_params(genome):\n",
    "    unique_dinucleotides = set(genome[i:i+2] for i in range(len(genome) - 1))\n",
    "    tm_params = {dinuc: simplified_tm(dinuc) for dinuc in unique_dinucleotides}\n",
    "    dg_params = {dinuc: simplified_dg(dinuc) for dinuc in unique_dinucleotides}\n",
    "    return tm_params, dg_params\n",
    "\n",
    "tm_params, dg_params = precompute_dinucleotide_params(genome)\n",
    "\n",
    "def has_multiple_binding_sites(sequence, genome, similarity_threshold, min_tm, max_dg):\n",
    "    seq_len = len(sequence)\n",
    "    genome_len = len(genome)\n",
    "    count = 0\n",
    "    for i in range(genome_len - seq_len + 1):\n",
    "        subseq = genome[i:i + seq_len]\n",
    "        tm = simplified_tm(sequence)\n",
    "        dg = simplified_dg(sequence)\n",
    "\n",
    "        within_similarity_threshold = calculate_similarity(sequence, subseq, similarity_threshold)\n",
    "        within_tm_threshold = tm >= min_tm\n",
    "        within_dg_threshold = dg <= max_dg\n",
    "\n",
    "        if within_similarity_threshold and within_tm_threshold and within_dg_threshold:\n",
    "            count += 1\n",
    "            if count > 1:\n",
    "                return True  # Early exit if more than one binding site is found\n",
    "\n",
    "    return False  # Return False if only one or no binding sites are found\n",
    "\n",
    "# Usage:\n",
    "primer = 'GCTCGTCCATGTCCCACCAT'\n",
    "genome = primer_selection.extract_sequence_from_fasta(0, genome_size(ref_genome),0)\n",
    "similarity_threshold = 70  # For example, 90% similarity\n",
    "min_tm = 40  # Example threshold for minimum melting temperature\n",
    "max_dg = -10  # Example threshold for maximum Gibbs free energy\n",
    "\n",
    "result = not has_multiple_binding_sites(sequence, genome, similarity_threshold, min_tm, max_dg)\n",
    "print(result)  # Output: True or False"
   ]
  },
  {
   "cell_type": "code",
   "execution_count": 108,
   "metadata": {},
   "outputs": [],
   "source": [
    "tm_params, dg_params = precompute_dinucleotide_params(genome)\n"
   ]
  },
  {
   "cell_type": "code",
   "execution_count": 118,
   "metadata": {},
   "outputs": [],
   "source": [
    "tm = sum(tm_params[genome[i:i+2]] for i in range(len(primer) - 1))\n"
   ]
  },
  {
   "cell_type": "code",
   "execution_count": 119,
   "metadata": {},
   "outputs": [
    {
     "data": {
      "text/plain": [
       "122"
      ]
     },
     "execution_count": 119,
     "metadata": {},
     "output_type": "execute_result"
    }
   ],
   "source": [
    "tm"
   ]
  },
  {
   "cell_type": "code",
   "execution_count": 116,
   "metadata": {},
   "outputs": [
    {
     "data": {
      "text/plain": [
       "{'CA': 6,\n",
       " 'AC': 6,\n",
       " 'TG': 6,\n",
       " 'GG': 8,\n",
       " 'TT': 4,\n",
       " 'CT': 6,\n",
       " 'CC': 8,\n",
       " 'GA': 6,\n",
       " 'AT': 4,\n",
       " 'AA': 4,\n",
       " 'GC': 8,\n",
       " 'GT': 6,\n",
       " 'AG': 6,\n",
       " 'CG': 8,\n",
       " 'TC': 6,\n",
       " 'TA': 4}"
      ]
     },
     "execution_count": 116,
     "metadata": {},
     "output_type": "execute_result"
    }
   ],
   "source": [
    "tm_params"
   ]
  },
  {
   "cell_type": "code",
   "execution_count": 4,
   "metadata": {},
   "outputs": [
    {
     "name": "stdout",
     "output_type": "stream",
     "text": [
      "GC Content: 60.00%\n"
     ]
    }
   ],
   "source": [
    "def gc_content(sequence):\n",
    "    if len(sequence) == 0:\n",
    "        raise ValueError(\"Sequence length must be greater than 0\")\n",
    "    gc_count = sequence.count('G') + sequence.count('C')\n",
    "    total_length = len(sequence)\n",
    "    gc_content_percentage = (gc_count / total_length) * 100\n",
    "    return gc_content_percentage\n",
    "\n",
    "# Example usage:\n",
    "sequence = 'GCTCGTCCATGTCCCACCAT'\n",
    "gc_percentage = gc_content(sequence)\n",
    "print(f'GC Content: {gc_percentage:.2f}%')\n"
   ]
  },
  {
   "cell_type": "code",
   "execution_count": 3,
   "metadata": {},
   "outputs": [
    {
     "name": "stdout",
     "output_type": "stream",
     "text": [
      "Melting Temperature (Tm): 50.75°C\n"
     ]
    }
   ],
   "source": [
    "import math\n",
    "\n",
    "def calculate_tm_nearest_neighbor(sequence, na_concentration):\n",
    "    if len(sequence) == 0:\n",
    "        raise ValueError(\"Sequence length must be greater than 0\")\n",
    "    gc_count = sequence.count('G') + sequence.count('C')\n",
    "    total_length = len(sequence)\n",
    "    percent_gc = (gc_count / total_length) * 100\n",
    "    tm = 81.5 + 16.6 * math.log10(na_concentration) + 0.41 * percent_gc - 675 / total_length\n",
    "    return tm\n",
    "\n",
    "# Example usage:\n",
    "sequence = 'GCTCGTCCATGTCCCACCAT'\n",
    "na_concentration = 0.05  # Example sodium ion concentration in mol/L\n",
    "tm = calculate_tm_nearest_neighbor(sequence, na_concentration)\n",
    "print(f'Melting Temperature (Tm): {tm:.2f}°C')\n"
   ]
  },
  {
   "cell_type": "code",
   "execution_count": 5,
   "metadata": {},
   "outputs": [
    {
     "name": "stdout",
     "output_type": "stream",
     "text": [
      "Melting Temperature (Tm): 64°C\n"
     ]
    }
   ],
   "source": [
    "def calculate_tm(sequence):\n",
    "    if len(sequence) == 0:\n",
    "        raise ValueError(\"Sequence length must be greater than 0\")\n",
    "    gc_count = sequence.count('G') + sequence.count('C')\n",
    "    at_count = sequence.count('A') + sequence.count('T')\n",
    "    tm = (gc_count * 4) + (at_count * 2)\n",
    "    return tm\n",
    "\n",
    "# Example usage:\n",
    "sequence = 'GCTCGTCCATGTCCCACCAT'\n",
    "tm = calculate_tm(sequence)\n",
    "print(f'Melting Temperature (Tm): {tm}°C')\n"
   ]
  },
  {
   "cell_type": "code",
   "execution_count": 2,
   "metadata": {},
   "outputs": [],
   "source": [
    "spol = pd.read_csv('/mnt/storage10/lwang/Projects/Amplicone_design_tool/model/raw.githubusercontent.com_GaryNapier_spolpred_master_data_spoligotypes.csv')"
   ]
  },
  {
   "cell_type": "code",
   "execution_count": 4,
   "metadata": {},
   "outputs": [
    {
     "data": {
      "text/plain": [
       "Index(['id', 'pct_reads_mapped', 'num_reads_mapped', 'median_coverage',\n",
       "       'main_lineage', 'sublineage', 'octal_spoligotype', 'binary_spoligotype',\n",
       "       'spacer1', 'spacer2', 'spacer3', 'spacer4', 'spacer5', 'spacer6',\n",
       "       'spacer7', 'spacer8', 'spacer9', 'spacer10', 'spacer11', 'spacer12',\n",
       "       'spacer13', 'spacer14', 'spacer15', 'spacer16', 'spacer17', 'spacer18',\n",
       "       'spacer19', 'spacer20', 'spacer21', 'spacer22', 'spacer23', 'spacer24',\n",
       "       'spacer25', 'spacer26', 'spacer27', 'spacer28', 'spacer29', 'spacer30',\n",
       "       'spacer31', 'spacer32', 'spacer33', 'spacer34', 'spacer35', 'spacer36',\n",
       "       'spacer37', 'spacer38', 'spacer39', 'spacer40', 'spacer41', 'spacer42',\n",
       "       'spacer43'],\n",
       "      dtype='object')"
      ]
     },
     "execution_count": 4,
     "metadata": {},
     "output_type": "execute_result"
    }
   ],
   "source": [
    "spol.columns"
   ]
  },
  {
   "cell_type": "markdown",
   "metadata": {},
   "source": [
    "# database check"
   ]
  },
  {
   "cell_type": "code",
   "execution_count": 3,
   "metadata": {},
   "outputs": [],
   "source": [
    "# qwer = pd.read_csv('/mnt/storage7/jody/philippines/projects/all_philippines/tbprofiler_new/variants.txt')\n",
    "s7_variants = pd.read_csv('/mnt/storage10/lwang/Projects/Amplicone_design_tool/model/variants.txt')"
   ]
  },
  {
   "cell_type": "code",
   "execution_count": 4,
   "metadata": {},
   "outputs": [],
   "source": [
    "full_data = pd.read_csv('/mnt/storage10/jody/projects/variant_dump/variants.csv')\n"
   ]
  },
  {
   "cell_type": "code",
   "execution_count": 9,
   "metadata": {},
   "outputs": [],
   "source": [
    "_list = [2726145,\n",
    " 2726141,\n",
    " 2726145,\n",
    " 1673432,\n",
    " 1673432,\n",
    " 2726112,\n",
    " 2726139,\n",
    " 1673432,\n",
    " 2154018,\n",
    " 2154028,\n",
    " 2156049,\n",
    " 1673432,\n",
    " 2726145,\n",
    " 2726145,\n",
    " 2726141,\n",
    " 2156110,\n",
    " 1673432,\n",
    " 2156093,\n",
    " 2156104,\n",
    " 2726139,\n",
    " 2726141,\n",
    " 2726112,\n",
    " 2726112,\n",
    " 2726119,\n",
    " 2726112]"
   ]
  },
  {
   "cell_type": "code",
   "execution_count": 13,
   "metadata": {},
   "outputs": [
    {
     "data": {
      "text/plain": [
       "isoniazid                2383\n",
       "isoniazid,ethionamide     955\n",
       "isoniazid,isoniazid         4\n",
       "Name: drugs, dtype: int64"
      ]
     },
     "execution_count": 13,
     "metadata": {},
     "output_type": "execute_result"
    }
   ],
   "source": [
    "full_data[full_data['genome_pos'].isin(_list)]['drugs'].value_counts()"
   ]
  },
  {
   "cell_type": "code",
   "execution_count": 7,
   "metadata": {},
   "outputs": [
    {
     "data": {
      "text/html": [
       "<div>\n",
       "<style scoped>\n",
       "    .dataframe tbody tr th:only-of-type {\n",
       "        vertical-align: middle;\n",
       "    }\n",
       "\n",
       "    .dataframe tbody tr th {\n",
       "        vertical-align: top;\n",
       "    }\n",
       "\n",
       "    .dataframe thead th {\n",
       "        text-align: right;\n",
       "    }\n",
       "</style>\n",
       "<table border=\"1\" class=\"dataframe\">\n",
       "  <thead>\n",
       "    <tr style=\"text-align: right;\">\n",
       "      <th></th>\n",
       "      <th>sample_id</th>\n",
       "      <th>genome_pos</th>\n",
       "      <th>gene</th>\n",
       "      <th>change</th>\n",
       "      <th>freq</th>\n",
       "      <th>type</th>\n",
       "      <th>sublin</th>\n",
       "      <th>drtype</th>\n",
       "      <th>drugs</th>\n",
       "    </tr>\n",
       "  </thead>\n",
       "  <tbody>\n",
       "  </tbody>\n",
       "</table>\n",
       "</div>"
      ],
      "text/plain": [
       "Empty DataFrame\n",
       "Columns: [sample_id, genome_pos, gene, change, freq, type, sublin, drtype, drugs]\n",
       "Index: []"
      ]
     },
     "execution_count": 7,
     "metadata": {},
     "output_type": "execute_result"
    }
   ],
   "source": [
    "full_data[full_data['change']=='c.2093delT']\t"
   ]
  },
  {
   "cell_type": "code",
   "execution_count": 5,
   "metadata": {},
   "outputs": [
    {
     "data": {
      "text/html": [
       "<div>\n",
       "<style scoped>\n",
       "    .dataframe tbody tr th:only-of-type {\n",
       "        vertical-align: middle;\n",
       "    }\n",
       "\n",
       "    .dataframe tbody tr th {\n",
       "        vertical-align: top;\n",
       "    }\n",
       "\n",
       "    .dataframe thead th {\n",
       "        text-align: right;\n",
       "    }\n",
       "</style>\n",
       "<table border=\"1\" class=\"dataframe\">\n",
       "  <thead>\n",
       "    <tr style=\"text-align: right;\">\n",
       "      <th></th>\n",
       "      <th>sample_id</th>\n",
       "      <th>genome_pos</th>\n",
       "      <th>gene</th>\n",
       "      <th>change</th>\n",
       "      <th>freq</th>\n",
       "      <th>type</th>\n",
       "      <th>sublin</th>\n",
       "      <th>drtype</th>\n",
       "      <th>drugs</th>\n",
       "    </tr>\n",
       "  </thead>\n",
       "  <tbody>\n",
       "    <tr>\n",
       "      <th>0</th>\n",
       "      <td>ERR9787047</td>\n",
       "      <td>6446</td>\n",
       "      <td>gyrB</td>\n",
       "      <td>p.Ala403Ser</td>\n",
       "      <td>1.0</td>\n",
       "      <td>missense_variant</td>\n",
       "      <td>lineage6.1.1</td>\n",
       "      <td>Sensitive</td>\n",
       "      <td>NaN</td>\n",
       "    </tr>\n",
       "    <tr>\n",
       "      <th>1</th>\n",
       "      <td>ERR9787047</td>\n",
       "      <td>7362</td>\n",
       "      <td>gyrA</td>\n",
       "      <td>p.Glu21Gln</td>\n",
       "      <td>1.0</td>\n",
       "      <td>missense_variant</td>\n",
       "      <td>lineage6.1.1</td>\n",
       "      <td>Sensitive</td>\n",
       "      <td>NaN</td>\n",
       "    </tr>\n",
       "    <tr>\n",
       "      <th>2</th>\n",
       "      <td>ERR9787047</td>\n",
       "      <td>7585</td>\n",
       "      <td>gyrA</td>\n",
       "      <td>p.Ser95Thr</td>\n",
       "      <td>1.0</td>\n",
       "      <td>missense_variant</td>\n",
       "      <td>lineage6.1.1</td>\n",
       "      <td>Sensitive</td>\n",
       "      <td>NaN</td>\n",
       "    </tr>\n",
       "    <tr>\n",
       "      <th>3</th>\n",
       "      <td>ERR9787047</td>\n",
       "      <td>8493</td>\n",
       "      <td>gyrA</td>\n",
       "      <td>p.Leu398Phe</td>\n",
       "      <td>1.0</td>\n",
       "      <td>missense_variant</td>\n",
       "      <td>lineage6.1.1</td>\n",
       "      <td>Sensitive</td>\n",
       "      <td>NaN</td>\n",
       "    </tr>\n",
       "    <tr>\n",
       "      <th>4</th>\n",
       "      <td>ERR9787047</td>\n",
       "      <td>9143</td>\n",
       "      <td>gyrA</td>\n",
       "      <td>c.1842T&gt;C</td>\n",
       "      <td>1.0</td>\n",
       "      <td>synonymous_variant</td>\n",
       "      <td>lineage6.1.1</td>\n",
       "      <td>Sensitive</td>\n",
       "      <td>NaN</td>\n",
       "    </tr>\n",
       "  </tbody>\n",
       "</table>\n",
       "</div>"
      ],
      "text/plain": [
       "    sample_id  genome_pos  gene       change  freq                type  \\\n",
       "0  ERR9787047        6446  gyrB  p.Ala403Ser   1.0    missense_variant   \n",
       "1  ERR9787047        7362  gyrA   p.Glu21Gln   1.0    missense_variant   \n",
       "2  ERR9787047        7585  gyrA   p.Ser95Thr   1.0    missense_variant   \n",
       "3  ERR9787047        8493  gyrA  p.Leu398Phe   1.0    missense_variant   \n",
       "4  ERR9787047        9143  gyrA    c.1842T>C   1.0  synonymous_variant   \n",
       "\n",
       "         sublin     drtype drugs  \n",
       "0  lineage6.1.1  Sensitive   NaN  \n",
       "1  lineage6.1.1  Sensitive   NaN  \n",
       "2  lineage6.1.1  Sensitive   NaN  \n",
       "3  lineage6.1.1  Sensitive   NaN  \n",
       "4  lineage6.1.1  Sensitive   NaN  "
      ]
     },
     "execution_count": 5,
     "metadata": {},
     "output_type": "execute_result"
    }
   ],
   "source": [
    "full_data.head()"
   ]
  },
  {
   "cell_type": "code",
   "execution_count": 19,
   "metadata": {},
   "outputs": [
    {
     "data": {
      "text/plain": [
       "array(['gyrB', 'rpoB', 'rrs', 'katG', 'pncA', 'embB', 'gyrA', 'fgd1',\n",
       "       'mshA', 'rpoC', 'mmpL5', 'rpsL', 'fbiC', 'Rv1258c', 'embR', 'atpE',\n",
       "       'rrl', 'inhA', 'rpsA', 'tlyA', 'ndh', 'PPE35', 'Rv1979c', 'kasA',\n",
       "       'ahpC', 'ald', 'fbiD', 'Rv3083', 'fprA', 'whiB7', 'fbiB', 'clpC1',\n",
       "       'embC', 'embA', 'ubiA', 'aftB', 'whiB6', 'gid', 'thyA', 'Rv3236c',\n",
       "       'fabG1', 'ccsA', 'mmpS5', 'eis', 'Rv2752c', 'alr', 'rpoA', 'folC',\n",
       "       'ethA', 'panD', 'rplC', 'fbiA', 'pepQ', 'mmpR5', 'thyX', 'ddn',\n",
       "       'ethR', 'ribD'], dtype=object)"
      ]
     },
     "execution_count": 19,
     "metadata": {},
     "output_type": "execute_result"
    }
   ],
   "source": [
    "s7_variants['gene'].unique()"
   ]
  },
  {
   "cell_type": "code",
   "execution_count": 17,
   "metadata": {},
   "outputs": [
    {
     "data": {
      "text/plain": [
       "pandas.core.series.Series"
      ]
     },
     "execution_count": 17,
     "metadata": {},
     "output_type": "execute_result"
    }
   ],
   "source": [
    "type(full_data.groupby('gene')['genome_pos'].max())"
   ]
  },
  {
   "cell_type": "code",
   "execution_count": 33,
   "metadata": {},
   "outputs": [
    {
     "data": {
      "text/plain": [
       "4249810"
      ]
     },
     "execution_count": 33,
     "metadata": {},
     "output_type": "execute_result"
    }
   ],
   "source": [
    "full_data[full_data['gene']=='embB']['genome_pos'].max()"
   ]
  },
  {
   "cell_type": "code",
   "execution_count": 15,
   "metadata": {},
   "outputs": [],
   "source": [
    "tb_drug_resistance_genes = {\n",
    "    'gyrB': ['Levofloxacin'],\n",
    "    'gyrA': ['Levofloxacin'],\n",
    "    'mshA': ['Isoniazid'],\n",
    "    'rpoB': ['Rifampicin'],\n",
    "    'rpoC': ['Rifampicin'],\n",
    "    'rpsL': ['Streptomycin'],\n",
    "    'embR': ['Ethambutol'],\n",
    "    'rrs': ['Kanamycin', 'Capreomycin', 'Amikacin', 'Streptomycin'],\n",
    "    'fabG1': ['Isoniazid'],\n",
    "    'inhA': ['Isoniazid'],\n",
    "    'rpsA': ['Pyrazinamide'],\n",
    "    'tlyA': ['Capreomycin'],\n",
    "    'ndh': ['Isoniazid'],\n",
    "    'katG': ['Isoniazid'],\n",
    "    'pncA': ['Pyrazinamide'],\n",
    "    'kasA': ['Isoniazid'],\n",
    "    'eis': ['Kanamycin', 'Amikacin'],\n",
    "    'ahpC': ['Isoniazid'],\n",
    "    'rpoA': ['Rifampicin'],\n",
    "    'panD': ['Pyrazinamide'],\n",
    "    'embC': ['Ethambutol'],\n",
    "    'embA': ['Ethambutol'],\n",
    "    'embB': ['Ethambutol'],\n",
    "    'ubiA': ['Ethambutol'],\n",
    "    'gid': ['Streptomycin']\n",
    "}\n",
    "full_data['weight'] = full_data['freq']\n",
    "\n",
    "full_data.loc[full_data['gene'].isin(tb_drug_resistance_genes.keys()), 'weight'] += 0.5\n"
   ]
  },
  {
   "cell_type": "code",
   "execution_count": null,
   "metadata": {},
   "outputs": [],
   "source": [
    "_ = [1,2]"
   ]
  },
  {
   "cell_type": "code",
   "execution_count": null,
   "metadata": {},
   "outputs": [],
   "source": [
    "_ *100"
   ]
  },
  {
   "cell_type": "code",
   "execution_count": 18,
   "metadata": {},
   "outputs": [
    {
     "data": {
      "text/plain": [
       "1.500000    2751\n",
       "0.633333       7\n",
       "1.490000       6\n",
       "1.483871       5\n",
       "1.478723       5\n",
       "            ... \n",
       "1.094937       1\n",
       "1.464912       1\n",
       "0.650943       1\n",
       "1.074074       1\n",
       "1.497340       1\n",
       "Name: weight, Length: 581, dtype: int64"
      ]
     },
     "execution_count": 18,
     "metadata": {},
     "output_type": "execute_result"
    }
   ],
   "source": [
    "full_data[full_data['genome_pos'].isin(_list)]['weight'].value_counts()"
   ]
  },
  {
   "cell_type": "code",
   "execution_count": 34,
   "metadata": {},
   "outputs": [
    {
     "data": {
      "text/plain": [
       "array(['gyrB', 'gyrA', 'fgd1', 'rpoB', 'rpoC', 'mmpL5', 'rpsL', 'fbiC',\n",
       "       'Rv1258c', 'embR', 'atpE', 'rrs', 'inhA', 'tlyA', 'katG', 'PPE35',\n",
       "       'Rv1979c', 'kasA', 'ald', 'Rv3083', 'fprA', 'Rv3236c', 'embC',\n",
       "       'embA', 'embB', 'aftB', 'ubiA', 'ethA', 'whiB6', 'gid', 'mshA',\n",
       "       'ccsA', 'mmpS5', 'rpsA', 'ndh', 'rpoA', 'fabG1', 'ethR', 'ribD',\n",
       "       'clpC1', 'pncA', 'eis', 'rrl', 'thyA', 'fbiD', 'mmpR5', 'ahpC',\n",
       "       'folC', 'whiB7', 'fbiA', 'rplC', 'alr', 'Rv2752c', 'pepQ', 'ddn',\n",
       "       'fbiB', 'thyX', 'panD'], dtype=object)"
      ]
     },
     "execution_count": 34,
     "metadata": {},
     "output_type": "execute_result"
    }
   ],
   "source": [
    "full_data['gene'].unique()"
   ]
  },
  {
   "cell_type": "code",
   "execution_count": 31,
   "metadata": {},
   "outputs": [
    {
     "data": {
      "text/plain": [
       "gene\n",
       "PPE35      2170812\n",
       "Rv1258c    1407540\n",
       "Rv1979c    2223364\n",
       "Rv2752c    3067191\n",
       "Rv3083     3449991\n",
       "Rv3236c    3613316\n",
       "aftB       4269836\n",
       "ahpC       2726779\n",
       "ald        3087935\n",
       "alr        3841620\n",
       "atpE       1461290\n",
       "ccsA        620865\n",
       "clpC1      4040904\n",
       "ddn        3987299\n",
       "eis        2715586\n",
       "embA       4246517\n",
       "embB       4249810\n",
       "embC       4243146\n",
       "embR       1417547\n",
       "ethA       4328473\n",
       "ethR       4328199\n",
       "fabG1      1674183\n",
       "fbiA       3641538\n",
       "fbiB       3642881\n",
       "fbiC       1305501\n",
       "fbiD       3339762\n",
       "fgd1        491793\n",
       "folC       2747798\n",
       "fprA       3475377\n",
       "gid        4408476\n",
       "gyrA          9818\n",
       "gyrB          7265\n",
       "inhA       1675011\n",
       "kasA       2519365\n",
       "katG       2156570\n",
       "mmpL5       779478\n",
       "mmpR5       779487\n",
       "mmpS5       779687\n",
       "mshA        576790\n",
       "ndh        2103242\n",
       "panD       4044480\n",
       "pepQ       2860618\n",
       "pncA       2290241\n",
       "ribD       2987615\n",
       "rplC        801462\n",
       "rpoA       3878707\n",
       "rpoB        763325\n",
       "rpoC        767320\n",
       "rpsA       1834986\n",
       "rpsL        781934\n",
       "rrl        1476795\n",
       "rrs        1473382\n",
       "thyA       3074671\n",
       "thyX       3068160\n",
       "tlyA       1918746\n",
       "ubiA       4270033\n",
       "whiB6      4338720\n",
       "whiB7      3568879\n",
       "Name: genome_pos, dtype: int64"
      ]
     },
     "execution_count": 31,
     "metadata": {},
     "output_type": "execute_result"
    }
   ],
   "source": [
    "full_data.groupby('gene')['genome_pos'].max()"
   ]
  },
  {
   "cell_type": "code",
   "execution_count": 36,
   "metadata": {},
   "outputs": [],
   "source": [
    "gene_names = [\n",
    "    'PPE35', 'Rv1258c', 'Rv1979c', 'Rv2752c', 'Rv3083', 'Rv3236c', 'aftB', 'ahpC', 'ald', 'alr', \n",
    "    'atpE', 'ccsA', 'clpC1', 'ddn', 'eis', 'embA', 'embB', 'embC', 'embR', 'ethA', 'ethR', 'fabG1', \n",
    "    'fbiA', 'fbiB', 'fbiC', 'fbiD', 'fgd1', 'folC', 'fprA', 'gid', 'gyrA', 'gyrB', 'inhA', 'kasA', \n",
    "    'katG', 'mmpL5', 'mmpR5', 'mmpS5', 'mshA', 'ndh', 'panD', 'pepQ', 'pncA', 'ribD', 'rplC', 'rpoA', \n",
    "    'rpoB', 'rpoC', 'rpsA', 'rpsL', 'rrl', 'rrs', 'thyA', 'thyX', 'tlyA', 'ubiA', 'whiB6', 'whiB7'\n",
    "]"
   ]
  },
  {
   "cell_type": "code",
   "execution_count": null,
   "metadata": {},
   "outputs": [],
   "source": [
    "for x, n, g in zip(full_data.groupby('gene')['genome_pos'].max(), full_data.groupby('gene')['genome_pos'].min(), gene_names):\n",
    "    gene_range = full_data[full_data['gene']==g]\n",
    "    covered = gene_range[(gene_range['genome_pos']>=n)&(gene_range['genome_pos']<=x)]\n",
    "    print('==================================')\n",
    "    print(x, n)\n",
    "    print(gene_range['genome_pos'].max(), gene_range['genome_pos'].min())\n",
    "    print(g, len(covered), len(gene_range), len(covered)/len(gene_range))\n",
    "    "
   ]
  },
  {
   "cell_type": "code",
   "execution_count": 38,
   "metadata": {},
   "outputs": [
    {
     "name": "stdout",
     "output_type": "stream",
     "text": [
      "==================================\n",
      "2170812 2154554\n",
      "2170803 2167693\n",
      "PPE35 806 806 1.0\n",
      "==================================\n",
      "1407540 1402819\n",
      "1407520 1406103\n",
      "Rv1258c 555 555 1.0\n",
      "==================================\n",
      "2223364 2207982\n",
      "2223293 2221722\n",
      "Rv1979c 1333 1333 1.0\n",
      "==================================\n",
      "3067191 3001819\n",
      "3067104 3064540\n",
      "Rv2752c 95 95 1.0\n",
      "==================================\n",
      "3449991 3362788\n",
      "3449966 3444435\n",
      "Rv3083 583 583 1.0\n",
      "==================================\n",
      "3613316 3570754\n",
      "3613087 3612009\n",
      "Rv3236c 187 187 1.0\n",
      "==================================\n",
      "4269836 4265240\n",
      "4269747 4266996\n",
      "aftB 621 621 1.0\n",
      "==================================\n",
      "2726779 2715671\n",
      "2726752 2725934\n",
      "ahpC 700 700 1.0\n",
      "==================================\n",
      "3087935 3081332\n",
      "3087895 3086636\n",
      "ald 789 789 1.0\n",
      "==================================\n",
      "3841620 3748965\n",
      "3841612 3840347\n",
      "alr 64 64 1.0\n",
      "==================================\n",
      "1461290 1460846\n",
      "1461215 1460907\n",
      "atpE 552 552 1.0\n",
      "==================================\n",
      "620865 607234\n",
      "620625 619701\n",
      "ccsA 35 35 1.0\n",
      "==================================\n",
      "4040904 3992798\n",
      "4040841 4038162\n",
      "clpC1 771 771 1.0\n",
      "==================================\n",
      "3987299 3921980\n",
      "3987247 3986655\n",
      "ddn 9 9 1.0\n",
      "==================================\n",
      "2715586 2624606\n",
      "2715499 2714400\n",
      "eis 26 26 1.0\n",
      "==================================\n",
      "4246517 4240033\n",
      "4246347 4242397\n",
      "embA 2518 2518 1.0\n",
      "==================================\n",
      "4249810 4245497\n",
      "4249794 4245617\n",
      "embB 2309 2309 1.0\n",
      "==================================\n",
      "4243146 4158759\n",
      "4243089 4239763\n",
      "embC 1214 1214 1.0\n",
      "==================================\n",
      "1417547 1407296\n",
      "1417337 1416186\n",
      "embR 592 592 1.0\n",
      "==================================\n",
      "4328473 4244405\n",
      "4328431 4326023\n",
      "ethA 72 72 1.0\n",
      "==================================\n",
      "4328199 4326192\n",
      "4328191 4326991\n",
      "ethR 11 11 1.0\n",
      "==================================\n",
      "1674183 1672019\n",
      "1674143 1673206\n",
      "fabG1 288 288 1.0\n",
      "==================================\n",
      "3641538 3613485\n",
      "3641335 3640346\n",
      "fbiA 60 60 1.0\n",
      "==================================\n",
      "3642881 3640545\n",
      "3642821 3640557\n",
      "fbiB 576 576 1.0\n",
      "==================================\n",
      "1305501 1250641\n",
      "1305494 1302752\n",
      "fbiC 157 157 1.0\n",
      "==================================\n",
      "3339762 3245715\n",
      "3339753 3339026\n",
      "fbiD 757 757 1.0\n",
      "==================================\n",
      "491793 433970\n",
      "491742 490721\n",
      "fgd1 594 594 1.0\n",
      "==================================\n",
      "2747798 2743820\n",
      "2747777 2746184\n",
      "folC 48 48 1.0\n",
      "==================================\n",
      "3475377 3451636\n",
      "3475346 3473888\n",
      "fprA 1959 1959 1.0\n",
      "==================================\n",
      "4408476 4391097\n",
      "4408389 4407529\n",
      "gid 1596 1596 1.0\n",
      "==================================\n",
      "9818 6304\n",
      "9818 6379\n",
      "gyrA 4137 4137 1.0\n",
      "==================================\n",
      "7265 5041\n",
      "7170 5075\n",
      "gyrB 606 606 1.0\n",
      "==================================\n",
      "1675011 1673338\n",
      "1674917 1673405\n",
      "inhA 659 659 1.0\n",
      "==================================\n",
      "2519365 2500239\n",
      "2519096 2517938\n",
      "kasA 1127 1127 1.0\n",
      "==================================\n",
      "2156570 2097619\n",
      "2156484 2153958\n",
      "katG 1043 1043 1.0\n",
      "==================================\n",
      "779478 767152\n",
      "779184 775609\n",
      "mmpL5 1393 1393 1.0\n",
      "==================================\n",
      "779487 777992\n",
      "779255 779039\n",
      "mmpR5 17 17 1.0\n",
      "==================================\n",
      "779687 776331\n",
      "779684 778706\n",
      "mmpS5 26 26 1.0\n",
      "==================================\n",
      "576790 560941\n",
      "576751 575172\n",
      "mshA 801 801 1.0\n",
      "==================================\n",
      "2103242 2096545\n",
      "2103179 2101653\n",
      "ndh 55 55 1.0\n",
      "==================================\n",
      "4044480 4043862\n",
      "4044471 4043882\n",
      "panD 6 6 1.0\n",
      "==================================\n",
      "2860618 2785969\n",
      "2860594 2859490\n",
      "pepQ 49 49 1.0\n",
      "==================================\n",
      "2290241 2245001\n",
      "2290059 2284987\n",
      "pncA 330 330 1.0\n",
      "==================================\n",
      "2987615 2937359\n",
      "2987605 2987015\n",
      "ribD 22 22 1.0\n",
      "==================================\n",
      "801462 800610\n",
      "801447 800727\n",
      "rplC 7 7 1.0\n",
      "==================================\n",
      "3878707 3853273\n",
      "3878680 3877515\n",
      "rpoA 159 159 1.0\n",
      "==================================\n",
      "763325 759608\n",
      "763235 759648\n",
      "rpoB 796 796 1.0\n",
      "==================================\n",
      "767320 762371\n",
      "767311 762434\n",
      "rpoC 2810 2810 1.0\n",
      "==================================\n",
      "1834986 1779273\n",
      "1834985 1833489\n",
      "rpsA 65 65 1.0\n",
      "==================================\n",
      "781934 781361\n",
      "781924 781395\n",
      "rpsL 837 837 1.0\n",
      "==================================\n",
      "1476795 1473382\n",
      "1476732 1473426\n",
      "rrl 853 853 1.0\n",
      "==================================\n",
      "1473382 1471647\n",
      "1473344 1471659\n",
      "rrs 1187 1187 1.0\n",
      "==================================\n",
      "3074671 3038568\n",
      "3074626 3073750\n",
      "thyA 188 188 1.0\n",
      "==================================\n",
      "3068160 3067193\n",
      "3068151 3067353\n",
      "thyX 20 20 1.0\n",
      "==================================\n",
      "1918746 1878825\n",
      "1918667 1917871\n",
      "tlyA 872 872 1.0\n",
      "==================================\n",
      "4270033 4268925\n",
      "4270011 4268965\n",
      "ubiA 1070 1070 1.0\n",
      "==================================\n",
      "4338720 4331888\n",
      "4338661 4336763\n",
      "whiB6 1908 1908 1.0\n",
      "==================================\n",
      "3568879 3490439\n",
      "3568861 3568418\n",
      "whiB7 564 564 1.0\n"
     ]
    }
   ],
   "source": [
    "for x, n, g in zip(full_data.groupby('gene')['genome_pos'].max(), full_data.groupby('gene')['genome_pos'].min(), gene_names):\n",
    "    gene_range = s7_variants[s7_variants['gene']==g]\n",
    "    covered = gene_range[(gene_range['genome_pos']>=n)&(gene_range['genome_pos']<=x)]\n",
    "    print('==================================')\n",
    "    print(x, n)\n",
    "    print(gene_range['genome_pos'].max(), gene_range['genome_pos'].min())\n",
    "    print(g, len(covered), len(gene_range), len(covered)/len(gene_range))\n",
    "    "
   ]
  },
  {
   "cell_type": "code",
   "execution_count": 21,
   "metadata": {},
   "outputs": [],
   "source": [
    "overlap = set(s7_variants['sample_id'].unique().tolist()).intersection(set(full_data['sample_id'].unique().tolist()))\n"
   ]
  },
  {
   "cell_type": "code",
   "execution_count": null,
   "metadata": {},
   "outputs": [],
   "source": [
    "full_data[full_data['change']=='p.Ala403Ser']"
   ]
  },
  {
   "cell_type": "code",
   "execution_count": 7,
   "metadata": {},
   "outputs": [
    {
     "data": {
      "text/html": [
       "<div>\n",
       "<style scoped>\n",
       "    .dataframe tbody tr th:only-of-type {\n",
       "        vertical-align: middle;\n",
       "    }\n",
       "\n",
       "    .dataframe tbody tr th {\n",
       "        vertical-align: top;\n",
       "    }\n",
       "\n",
       "    .dataframe thead th {\n",
       "        text-align: right;\n",
       "    }\n",
       "</style>\n",
       "<table border=\"1\" class=\"dataframe\">\n",
       "  <thead>\n",
       "    <tr style=\"text-align: right;\">\n",
       "      <th></th>\n",
       "      <th>sample_id</th>\n",
       "      <th>genome_pos</th>\n",
       "      <th>gene</th>\n",
       "      <th>change</th>\n",
       "      <th>freq</th>\n",
       "      <th>type</th>\n",
       "      <th>sublin</th>\n",
       "      <th>drtype</th>\n",
       "      <th>drugs</th>\n",
       "    </tr>\n",
       "  </thead>\n",
       "  <tbody>\n",
       "    <tr>\n",
       "      <th>0</th>\n",
       "      <td>ERR9787047</td>\n",
       "      <td>6446</td>\n",
       "      <td>gyrB</td>\n",
       "      <td>p.Ala403Ser</td>\n",
       "      <td>1.000000</td>\n",
       "      <td>missense_variant</td>\n",
       "      <td>lineage6.1.1</td>\n",
       "      <td>Sensitive</td>\n",
       "      <td>NaN</td>\n",
       "    </tr>\n",
       "    <tr>\n",
       "      <th>141</th>\n",
       "      <td>SRR8902561</td>\n",
       "      <td>6446</td>\n",
       "      <td>gyrB</td>\n",
       "      <td>p.Ala403Ser</td>\n",
       "      <td>1.000000</td>\n",
       "      <td>missense_variant</td>\n",
       "      <td>La1.8.1</td>\n",
       "      <td>Other</td>\n",
       "      <td>NaN</td>\n",
       "    </tr>\n",
       "    <tr>\n",
       "      <th>2273</th>\n",
       "      <td>ERR2815611</td>\n",
       "      <td>6446</td>\n",
       "      <td>gyrB</td>\n",
       "      <td>p.Ala403Ser</td>\n",
       "      <td>0.985075</td>\n",
       "      <td>missense_variant</td>\n",
       "      <td>La1.1</td>\n",
       "      <td>Sensitive</td>\n",
       "      <td>NaN</td>\n",
       "    </tr>\n",
       "    <tr>\n",
       "      <th>2336</th>\n",
       "      <td>ERR3439434</td>\n",
       "      <td>6446</td>\n",
       "      <td>gyrB</td>\n",
       "      <td>p.Ala403Ser</td>\n",
       "      <td>1.000000</td>\n",
       "      <td>missense_variant</td>\n",
       "      <td>La1.8.1</td>\n",
       "      <td>Other</td>\n",
       "      <td>NaN</td>\n",
       "    </tr>\n",
       "    <tr>\n",
       "      <th>3706</th>\n",
       "      <td>SRR14782548</td>\n",
       "      <td>6446</td>\n",
       "      <td>gyrB</td>\n",
       "      <td>p.Ala403Ser</td>\n",
       "      <td>0.976190</td>\n",
       "      <td>missense_variant</td>\n",
       "      <td>La1.2.BCG</td>\n",
       "      <td>Other</td>\n",
       "      <td>NaN</td>\n",
       "    </tr>\n",
       "    <tr>\n",
       "      <th>...</th>\n",
       "      <td>...</td>\n",
       "      <td>...</td>\n",
       "      <td>...</td>\n",
       "      <td>...</td>\n",
       "      <td>...</td>\n",
       "      <td>...</td>\n",
       "      <td>...</td>\n",
       "      <td>...</td>\n",
       "      <td>...</td>\n",
       "    </tr>\n",
       "    <tr>\n",
       "      <th>7414917</th>\n",
       "      <td>ERR2512732</td>\n",
       "      <td>6446</td>\n",
       "      <td>gyrB</td>\n",
       "      <td>p.Ala403Ser</td>\n",
       "      <td>1.000000</td>\n",
       "      <td>missense_variant</td>\n",
       "      <td>La1.8.1</td>\n",
       "      <td>Other</td>\n",
       "      <td>NaN</td>\n",
       "    </tr>\n",
       "    <tr>\n",
       "      <th>7415030</th>\n",
       "      <td>ERR192047</td>\n",
       "      <td>6446</td>\n",
       "      <td>gyrB</td>\n",
       "      <td>p.Ala403Ser</td>\n",
       "      <td>1.000000</td>\n",
       "      <td>missense_variant</td>\n",
       "      <td>La1.8.1</td>\n",
       "      <td>Other</td>\n",
       "      <td>NaN</td>\n",
       "    </tr>\n",
       "    <tr>\n",
       "      <th>7415606</th>\n",
       "      <td>ERR4192560</td>\n",
       "      <td>6446</td>\n",
       "      <td>gyrB</td>\n",
       "      <td>p.Ala403Ser</td>\n",
       "      <td>1.000000</td>\n",
       "      <td>missense_variant</td>\n",
       "      <td>lineage6.1.1</td>\n",
       "      <td>Sensitive</td>\n",
       "      <td>NaN</td>\n",
       "    </tr>\n",
       "    <tr>\n",
       "      <th>7415792</th>\n",
       "      <td>SRR1735567</td>\n",
       "      <td>6446</td>\n",
       "      <td>gyrB</td>\n",
       "      <td>p.Ala403Ser</td>\n",
       "      <td>1.000000</td>\n",
       "      <td>missense_variant</td>\n",
       "      <td>La1.2.BCG</td>\n",
       "      <td>Other</td>\n",
       "      <td>NaN</td>\n",
       "    </tr>\n",
       "    <tr>\n",
       "      <th>7420193</th>\n",
       "      <td>ERR4188235</td>\n",
       "      <td>6446</td>\n",
       "      <td>gyrB</td>\n",
       "      <td>p.Ala403Ser</td>\n",
       "      <td>1.000000</td>\n",
       "      <td>missense_variant</td>\n",
       "      <td>La1.8.1</td>\n",
       "      <td>Other</td>\n",
       "      <td>NaN</td>\n",
       "    </tr>\n",
       "  </tbody>\n",
       "</table>\n",
       "<p>10112 rows × 9 columns</p>\n",
       "</div>"
      ],
      "text/plain": [
       "           sample_id  genome_pos  gene       change      freq  \\\n",
       "0         ERR9787047        6446  gyrB  p.Ala403Ser  1.000000   \n",
       "141       SRR8902561        6446  gyrB  p.Ala403Ser  1.000000   \n",
       "2273      ERR2815611        6446  gyrB  p.Ala403Ser  0.985075   \n",
       "2336      ERR3439434        6446  gyrB  p.Ala403Ser  1.000000   \n",
       "3706     SRR14782548        6446  gyrB  p.Ala403Ser  0.976190   \n",
       "...              ...         ...   ...          ...       ...   \n",
       "7414917   ERR2512732        6446  gyrB  p.Ala403Ser  1.000000   \n",
       "7415030    ERR192047        6446  gyrB  p.Ala403Ser  1.000000   \n",
       "7415606   ERR4192560        6446  gyrB  p.Ala403Ser  1.000000   \n",
       "7415792   SRR1735567        6446  gyrB  p.Ala403Ser  1.000000   \n",
       "7420193   ERR4188235        6446  gyrB  p.Ala403Ser  1.000000   \n",
       "\n",
       "                     type        sublin     drtype drugs  \n",
       "0        missense_variant  lineage6.1.1  Sensitive   NaN  \n",
       "141      missense_variant       La1.8.1      Other   NaN  \n",
       "2273     missense_variant         La1.1  Sensitive   NaN  \n",
       "2336     missense_variant       La1.8.1      Other   NaN  \n",
       "3706     missense_variant     La1.2.BCG      Other   NaN  \n",
       "...                   ...           ...        ...   ...  \n",
       "7414917  missense_variant       La1.8.1      Other   NaN  \n",
       "7415030  missense_variant       La1.8.1      Other   NaN  \n",
       "7415606  missense_variant  lineage6.1.1  Sensitive   NaN  \n",
       "7415792  missense_variant     La1.2.BCG      Other   NaN  \n",
       "7420193  missense_variant       La1.8.1      Other   NaN  \n",
       "\n",
       "[10112 rows x 9 columns]"
      ]
     },
     "execution_count": 7,
     "metadata": {},
     "output_type": "execute_result"
    }
   ],
   "source": [
    "full_data[full_data['change']=='p.Ala403Ser']"
   ]
  },
  {
   "cell_type": "code",
   "execution_count": 5,
   "metadata": {},
   "outputs": [
    {
     "data": {
      "text/plain": [
       "(7420996, 9)"
      ]
     },
     "execution_count": 5,
     "metadata": {},
     "output_type": "execute_result"
    }
   ],
   "source": [
    "full_data.shape"
   ]
  },
  {
   "cell_type": "code",
   "execution_count": null,
   "metadata": {},
   "outputs": [],
   "source": [
    "full_data"
   ]
  },
  {
   "cell_type": "code",
   "execution_count": 19,
   "metadata": {},
   "outputs": [],
   "source": [
    "import random\n",
    "\n",
    "def generate_random_gene_seq(length):\n",
    "    bases = ['A', 'T', 'C', 'G']\n",
    "    return ''.join(random.choice(bases) for _ in range(length))\n",
    "\n",
    "random_gene_seq = generate_random_gene_seq(300)\n",
    "# print(f\"Random Gene Sequence of Length 100: {random_gene_seq}\")\n"
   ]
  },
  {
   "cell_type": "code",
   "execution_count": 23,
   "metadata": {},
   "outputs": [
    {
     "data": {
      "text/plain": [
       "'CGTCTGTACATGCCGCTCTATTACAATTATTCCACAAGGGTCAAGGGGCCGCTGCGCTCGGAACGCTCGTGATAGCGCTATCTCAACGCTATTACGGTAGATTCGACTTAAACACATACCTAAGCGCAAGGTAGCACGGCGGGCGTCTTTTAAACTTGGGCATCGCGACCACCGGCCAATTACGGTTTAGCTATCGTCTTACTTAGGCTATAGAGCGCTTTGCCAGAACAAAGGAAAGCGTAAGGATAACCACGGTTCGATGTTGATGGGCGACGACAGGTAGCTCGATCCTCCACTCCG'"
      ]
     },
     "execution_count": 23,
     "metadata": {},
     "output_type": "execute_result"
    }
   ],
   "source": [
    "random_gene_seq"
   ]
  },
  {
   "cell_type": "code",
   "execution_count": 22,
   "metadata": {},
   "outputs": [
    {
     "name": "stdout",
     "output_type": "stream",
     "text": [
      "PRIMER_LEFT_EXPLAIN: considered 1488, GC content failed 5, low tm 540, high tm 553, high hairpin stability 11, ok 379\n",
      "PRIMER_RIGHT_EXPLAIN: considered 1488, low tm 458, high tm 490, ok 540\n",
      "PRIMER_INTERNAL_EXPLAIN: considered 2635, GC content failed 5, low tm 1501, high tm 384, high hairpin stability 26, ok 719\n",
      "PRIMER_PAIR_EXPLAIN: considered 24, unacceptable product size 18, ok 6\n",
      "PRIMER_LEFT_NUM_RETURNED: 5\n",
      "PRIMER_RIGHT_NUM_RETURNED: 5\n",
      "PRIMER_INTERNAL_NUM_RETURNED: 5\n",
      "PRIMER_PAIR_NUM_RETURNED: 5\n",
      "PRIMER_PAIR: [{'PENALTY': 0.42132891917782445, 'COMPL_ANY_TH': 0.0, 'COMPL_END_TH': 0.0, 'PRODUCT_SIZE': 119, 'PRODUCT_TM': 83.74517309519567}, {'PENALTY': 0.44012224215788365, 'COMPL_ANY_TH': 0.0, 'COMPL_END_TH': 0.0, 'PRODUCT_SIZE': 204, 'PRODUCT_TM': 86.62122351536374}, {'PENALTY': 0.44066222716770653, 'COMPL_ANY_TH': 0.0, 'COMPL_END_TH': 0.0, 'PRODUCT_SIZE': 205, 'PRODUCT_TM': 86.7326295411887}, {'PENALTY': 0.4442396702864926, 'COMPL_ANY_TH': 0.0, 'COMPL_END_TH': 0.0, 'PRODUCT_SIZE': 202, 'PRODUCT_TM': 86.80104296789722}, {'PENALTY': 0.4514970354201182, 'COMPL_ANY_TH': 0.0, 'COMPL_END_TH': 0.0, 'PRODUCT_SIZE': 262, 'PRODUCT_TM': 87.45182522169512}]\n",
      "PRIMER_LEFT: [{'PENALTY': 0.37931569698349676, 'SEQUENCE': 'CCGGCCAATTACGGTTTAGC', 'COORDS': [171, 20], 'TM': 59.6206843030165, 'GC_PERCENT': 55.0, 'SELF_ANY_TH': 2.236646359005192, 'SELF_END_TH': 0.0, 'HAIRPIN_TH': 44.85416666299585, 'END_STABILITY': 3.09}, {'PENALTY': 0.4094838132257905, 'SEQUENCE': 'ATTCCACAAGGGTCAAGGGG', 'COORDS': [28, 20], 'TM': 59.59051618677421, 'GC_PERCENT': 55.0, 'SELF_ANY_TH': 0.0, 'SELF_END_TH': 0.0, 'HAIRPIN_TH': 38.11191835318118, 'END_STABILITY': 4.79}, {'PENALTY': 0.4094838132257905, 'SEQUENCE': 'ATTCCACAAGGGTCAAGGGG', 'COORDS': [28, 20], 'TM': 59.59051618677421, 'GC_PERCENT': 55.0, 'SELF_ANY_TH': 0.0, 'SELF_END_TH': 0.0, 'HAIRPIN_TH': 38.11191835318118, 'END_STABILITY': 4.79}, {'PENALTY': 0.4094838132257905, 'SEQUENCE': 'ATTCCACAAGGGTCAAGGGG', 'COORDS': [28, 20], 'TM': 59.59051618677421, 'GC_PERCENT': 55.0, 'SELF_ANY_TH': 0.0, 'SELF_END_TH': 0.0, 'HAIRPIN_TH': 38.11191835318118, 'END_STABILITY': 4.79}, {'PENALTY': 0.4094838132257905, 'SEQUENCE': 'ATTCCACAAGGGTCAAGGGG', 'COORDS': [28, 20], 'TM': 59.59051618677421, 'GC_PERCENT': 55.0, 'SELF_ANY_TH': 0.0, 'SELF_END_TH': 0.0, 'HAIRPIN_TH': 38.11191835318118, 'END_STABILITY': 4.79}]\n",
      "PRIMER_RIGHT: [{'PENALTY': 0.04201322219432768, 'SEQUENCE': 'GATCGAGCTACCTGTCGTCG', 'COORDS': [289, 20], 'TM': 60.04201322219433, 'GC_PERCENT': 60.0, 'SELF_ANY_TH': 0.0, 'SELF_END_TH': 0.0, 'HAIRPIN_TH': 37.46089260988566, 'END_STABILITY': 5.12}, {'PENALTY': 0.03063842893209312, 'SEQUENCE': 'TTTGTTCTGGCAAAGCGCTC', 'COORDS': [231, 20], 'TM': 59.96936157106791, 'GC_PERCENT': 50.0, 'SELF_ANY_TH': 12.056413739117374, 'SELF_END_TH': 0.0, 'HAIRPIN_TH': 41.911649083362136, 'END_STABILITY': 5.03}, {'PENALTY': 0.031178413941916006, 'SEQUENCE': 'CTTTGTTCTGGCAAAGCGCT', 'COORDS': [232, 20], 'TM': 59.968821586058084, 'GC_PERCENT': 50.0, 'SELF_ANY_TH': 2.6374023557038413, 'SELF_END_TH': 2.6374023557038413, 'HAIRPIN_TH': 45.57475054917268, 'END_STABILITY': 5.92}, {'PENALTY': 0.034755857060702056, 'SEQUENCE': 'TGTTCTGGCAAAGCGCTCTA', 'COORDS': [229, 20], 'TM': 59.9652441429393, 'GC_PERCENT': 50.0, 'SELF_ANY_TH': 12.056413739117374, 'SELF_END_TH': 0.0, 'HAIRPIN_TH': 41.911649083362136, 'END_STABILITY': 2.43}, {'PENALTY': 0.04201322219432768, 'SEQUENCE': 'GATCGAGCTACCTGTCGTCG', 'COORDS': [289, 20], 'TM': 60.04201322219433, 'GC_PERCENT': 60.0, 'SELF_ANY_TH': 0.0, 'SELF_END_TH': 0.0, 'HAIRPIN_TH': 37.46089260988566, 'END_STABILITY': 5.12}]\n",
      "PRIMER_INTERNAL: [{'PENALTY': 4.380910805419035, 'SEQUENCE': 'AGCGCTTTGCCAGAACAAAGGA', 'COORDS': [213, 22], 'TM': 57.619089194580965, 'GC_PERCENT': 50.0, 'SELF_ANY_TH': 0.0, 'SELF_END_TH': 0.0, 'HAIRPIN_TH': 46.21830111992318}, {'PENALTY': 0.04413418366300448, 'SEQUENCE': 'GTAGCACGGCGGGCGTCTTT', 'COORDS': [130, 20], 'TM': 60.044134183663004, 'GC_PERCENT': 65.0, 'SELF_ANY_TH': 25.893126130569158, 'SELF_END_TH': 9.303165116169112, 'HAIRPIN_TH': 33.97899652747088}, {'PENALTY': 0.04413418366300448, 'SEQUENCE': 'GTAGCACGGCGGGCGTCTTT', 'COORDS': [130, 20], 'TM': 60.044134183663004, 'GC_PERCENT': 65.0, 'SELF_ANY_TH': 25.893126130569158, 'SELF_END_TH': 9.303165116169112, 'HAIRPIN_TH': 33.97899652747088}, {'PENALTY': 0.04413418366300448, 'SEQUENCE': 'GTAGCACGGCGGGCGTCTTT', 'COORDS': [130, 20], 'TM': 60.044134183663004, 'GC_PERCENT': 65.0, 'SELF_ANY_TH': 25.893126130569158, 'SELF_END_TH': 9.303165116169112, 'HAIRPIN_TH': 33.97899652747088}, {'PENALTY': 0.04413418366300448, 'SEQUENCE': 'GTAGCACGGCGGGCGTCTTT', 'COORDS': [130, 20], 'TM': 60.044134183663004, 'GC_PERCENT': 65.0, 'SELF_ANY_TH': 25.893126130569158, 'SELF_END_TH': 9.303165116169112, 'HAIRPIN_TH': 33.97899652747088}]\n",
      "PRIMER_PAIR_0_PENALTY: 0.42132891917782445\n",
      "PRIMER_LEFT_0_PENALTY: 0.37931569698349676\n",
      "PRIMER_RIGHT_0_PENALTY: 0.04201322219432768\n",
      "PRIMER_INTERNAL_0_PENALTY: 4.380910805419035\n",
      "PRIMER_LEFT_0_SEQUENCE: CCGGCCAATTACGGTTTAGC\n",
      "PRIMER_RIGHT_0_SEQUENCE: GATCGAGCTACCTGTCGTCG\n",
      "PRIMER_INTERNAL_0_SEQUENCE: AGCGCTTTGCCAGAACAAAGGA\n",
      "PRIMER_LEFT_0: [171, 20]\n",
      "PRIMER_RIGHT_0: [289, 20]\n",
      "PRIMER_INTERNAL_0: [213, 22]\n",
      "PRIMER_LEFT_0_TM: 59.6206843030165\n",
      "PRIMER_RIGHT_0_TM: 60.04201322219433\n",
      "PRIMER_INTERNAL_0_TM: 57.619089194580965\n",
      "PRIMER_LEFT_0_GC_PERCENT: 55.0\n",
      "PRIMER_RIGHT_0_GC_PERCENT: 60.0\n",
      "PRIMER_INTERNAL_0_GC_PERCENT: 50.0\n",
      "PRIMER_LEFT_0_SELF_ANY_TH: 2.236646359005192\n",
      "PRIMER_RIGHT_0_SELF_ANY_TH: 0.0\n",
      "PRIMER_INTERNAL_0_SELF_ANY_TH: 0.0\n",
      "PRIMER_LEFT_0_SELF_END_TH: 0.0\n",
      "PRIMER_RIGHT_0_SELF_END_TH: 0.0\n",
      "PRIMER_INTERNAL_0_SELF_END_TH: 0.0\n",
      "PRIMER_LEFT_0_HAIRPIN_TH: 44.85416666299585\n",
      "PRIMER_RIGHT_0_HAIRPIN_TH: 37.46089260988566\n",
      "PRIMER_INTERNAL_0_HAIRPIN_TH: 46.21830111992318\n",
      "PRIMER_LEFT_0_END_STABILITY: 3.09\n",
      "PRIMER_RIGHT_0_END_STABILITY: 5.12\n",
      "PRIMER_PAIR_0_COMPL_ANY_TH: 0.0\n",
      "PRIMER_PAIR_0_COMPL_END_TH: 0.0\n",
      "PRIMER_PAIR_0_PRODUCT_SIZE: 119\n",
      "PRIMER_PAIR_0_PRODUCT_TM: 83.74517309519567\n",
      "PRIMER_PAIR_1_PENALTY: 0.44012224215788365\n",
      "PRIMER_LEFT_1_PENALTY: 0.4094838132257905\n",
      "PRIMER_RIGHT_1_PENALTY: 0.03063842893209312\n",
      "PRIMER_INTERNAL_1_PENALTY: 0.04413418366300448\n",
      "PRIMER_LEFT_1_SEQUENCE: ATTCCACAAGGGTCAAGGGG\n",
      "PRIMER_RIGHT_1_SEQUENCE: TTTGTTCTGGCAAAGCGCTC\n",
      "PRIMER_INTERNAL_1_SEQUENCE: GTAGCACGGCGGGCGTCTTT\n",
      "PRIMER_LEFT_1: [28, 20]\n",
      "PRIMER_RIGHT_1: [231, 20]\n",
      "PRIMER_INTERNAL_1: [130, 20]\n",
      "PRIMER_LEFT_1_TM: 59.59051618677421\n",
      "PRIMER_RIGHT_1_TM: 59.96936157106791\n",
      "PRIMER_INTERNAL_1_TM: 60.044134183663004\n",
      "PRIMER_LEFT_1_GC_PERCENT: 55.0\n",
      "PRIMER_RIGHT_1_GC_PERCENT: 50.0\n",
      "PRIMER_INTERNAL_1_GC_PERCENT: 65.0\n",
      "PRIMER_LEFT_1_SELF_ANY_TH: 0.0\n",
      "PRIMER_RIGHT_1_SELF_ANY_TH: 12.056413739117374\n",
      "PRIMER_INTERNAL_1_SELF_ANY_TH: 25.893126130569158\n",
      "PRIMER_LEFT_1_SELF_END_TH: 0.0\n",
      "PRIMER_RIGHT_1_SELF_END_TH: 0.0\n",
      "PRIMER_INTERNAL_1_SELF_END_TH: 9.303165116169112\n",
      "PRIMER_LEFT_1_HAIRPIN_TH: 38.11191835318118\n",
      "PRIMER_RIGHT_1_HAIRPIN_TH: 41.911649083362136\n",
      "PRIMER_INTERNAL_1_HAIRPIN_TH: 33.97899652747088\n",
      "PRIMER_LEFT_1_END_STABILITY: 4.79\n",
      "PRIMER_RIGHT_1_END_STABILITY: 5.03\n",
      "PRIMER_PAIR_1_COMPL_ANY_TH: 0.0\n",
      "PRIMER_PAIR_1_COMPL_END_TH: 0.0\n",
      "PRIMER_PAIR_1_PRODUCT_SIZE: 204\n",
      "PRIMER_PAIR_1_PRODUCT_TM: 86.62122351536374\n",
      "PRIMER_PAIR_2_PENALTY: 0.44066222716770653\n",
      "PRIMER_LEFT_2_PENALTY: 0.4094838132257905\n",
      "PRIMER_RIGHT_2_PENALTY: 0.031178413941916006\n",
      "PRIMER_INTERNAL_2_PENALTY: 0.04413418366300448\n",
      "PRIMER_LEFT_2_SEQUENCE: ATTCCACAAGGGTCAAGGGG\n",
      "PRIMER_RIGHT_2_SEQUENCE: CTTTGTTCTGGCAAAGCGCT\n",
      "PRIMER_INTERNAL_2_SEQUENCE: GTAGCACGGCGGGCGTCTTT\n",
      "PRIMER_LEFT_2: [28, 20]\n",
      "PRIMER_RIGHT_2: [232, 20]\n",
      "PRIMER_INTERNAL_2: [130, 20]\n",
      "PRIMER_LEFT_2_TM: 59.59051618677421\n",
      "PRIMER_RIGHT_2_TM: 59.968821586058084\n",
      "PRIMER_INTERNAL_2_TM: 60.044134183663004\n",
      "PRIMER_LEFT_2_GC_PERCENT: 55.0\n",
      "PRIMER_RIGHT_2_GC_PERCENT: 50.0\n",
      "PRIMER_INTERNAL_2_GC_PERCENT: 65.0\n",
      "PRIMER_LEFT_2_SELF_ANY_TH: 0.0\n",
      "PRIMER_RIGHT_2_SELF_ANY_TH: 2.6374023557038413\n",
      "PRIMER_INTERNAL_2_SELF_ANY_TH: 25.893126130569158\n",
      "PRIMER_LEFT_2_SELF_END_TH: 0.0\n",
      "PRIMER_RIGHT_2_SELF_END_TH: 2.6374023557038413\n",
      "PRIMER_INTERNAL_2_SELF_END_TH: 9.303165116169112\n",
      "PRIMER_LEFT_2_HAIRPIN_TH: 38.11191835318118\n",
      "PRIMER_RIGHT_2_HAIRPIN_TH: 45.57475054917268\n",
      "PRIMER_INTERNAL_2_HAIRPIN_TH: 33.97899652747088\n",
      "PRIMER_LEFT_2_END_STABILITY: 4.79\n",
      "PRIMER_RIGHT_2_END_STABILITY: 5.92\n",
      "PRIMER_PAIR_2_COMPL_ANY_TH: 0.0\n",
      "PRIMER_PAIR_2_COMPL_END_TH: 0.0\n",
      "PRIMER_PAIR_2_PRODUCT_SIZE: 205\n",
      "PRIMER_PAIR_2_PRODUCT_TM: 86.7326295411887\n",
      "PRIMER_PAIR_3_PENALTY: 0.4442396702864926\n",
      "PRIMER_LEFT_3_PENALTY: 0.4094838132257905\n",
      "PRIMER_RIGHT_3_PENALTY: 0.034755857060702056\n",
      "PRIMER_INTERNAL_3_PENALTY: 0.04413418366300448\n",
      "PRIMER_LEFT_3_SEQUENCE: ATTCCACAAGGGTCAAGGGG\n",
      "PRIMER_RIGHT_3_SEQUENCE: TGTTCTGGCAAAGCGCTCTA\n",
      "PRIMER_INTERNAL_3_SEQUENCE: GTAGCACGGCGGGCGTCTTT\n",
      "PRIMER_LEFT_3: [28, 20]\n",
      "PRIMER_RIGHT_3: [229, 20]\n",
      "PRIMER_INTERNAL_3: [130, 20]\n",
      "PRIMER_LEFT_3_TM: 59.59051618677421\n",
      "PRIMER_RIGHT_3_TM: 59.9652441429393\n",
      "PRIMER_INTERNAL_3_TM: 60.044134183663004\n",
      "PRIMER_LEFT_3_GC_PERCENT: 55.0\n",
      "PRIMER_RIGHT_3_GC_PERCENT: 50.0\n",
      "PRIMER_INTERNAL_3_GC_PERCENT: 65.0\n",
      "PRIMER_LEFT_3_SELF_ANY_TH: 0.0\n",
      "PRIMER_RIGHT_3_SELF_ANY_TH: 12.056413739117374\n",
      "PRIMER_INTERNAL_3_SELF_ANY_TH: 25.893126130569158\n",
      "PRIMER_LEFT_3_SELF_END_TH: 0.0\n",
      "PRIMER_RIGHT_3_SELF_END_TH: 0.0\n",
      "PRIMER_INTERNAL_3_SELF_END_TH: 9.303165116169112\n",
      "PRIMER_LEFT_3_HAIRPIN_TH: 38.11191835318118\n",
      "PRIMER_RIGHT_3_HAIRPIN_TH: 41.911649083362136\n",
      "PRIMER_INTERNAL_3_HAIRPIN_TH: 33.97899652747088\n",
      "PRIMER_LEFT_3_END_STABILITY: 4.79\n",
      "PRIMER_RIGHT_3_END_STABILITY: 2.43\n",
      "PRIMER_PAIR_3_COMPL_ANY_TH: 0.0\n",
      "PRIMER_PAIR_3_COMPL_END_TH: 0.0\n",
      "PRIMER_PAIR_3_PRODUCT_SIZE: 202\n",
      "PRIMER_PAIR_3_PRODUCT_TM: 86.80104296789722\n",
      "PRIMER_PAIR_4_PENALTY: 0.4514970354201182\n",
      "PRIMER_LEFT_4_PENALTY: 0.4094838132257905\n",
      "PRIMER_RIGHT_4_PENALTY: 0.04201322219432768\n",
      "PRIMER_INTERNAL_4_PENALTY: 0.04413418366300448\n",
      "PRIMER_LEFT_4_SEQUENCE: ATTCCACAAGGGTCAAGGGG\n",
      "PRIMER_RIGHT_4_SEQUENCE: GATCGAGCTACCTGTCGTCG\n",
      "PRIMER_INTERNAL_4_SEQUENCE: GTAGCACGGCGGGCGTCTTT\n",
      "PRIMER_LEFT_4: [28, 20]\n",
      "PRIMER_RIGHT_4: [289, 20]\n",
      "PRIMER_INTERNAL_4: [130, 20]\n",
      "PRIMER_LEFT_4_TM: 59.59051618677421\n",
      "PRIMER_RIGHT_4_TM: 60.04201322219433\n",
      "PRIMER_INTERNAL_4_TM: 60.044134183663004\n",
      "PRIMER_LEFT_4_GC_PERCENT: 55.0\n",
      "PRIMER_RIGHT_4_GC_PERCENT: 60.0\n",
      "PRIMER_INTERNAL_4_GC_PERCENT: 65.0\n",
      "PRIMER_LEFT_4_SELF_ANY_TH: 0.0\n",
      "PRIMER_RIGHT_4_SELF_ANY_TH: 0.0\n",
      "PRIMER_INTERNAL_4_SELF_ANY_TH: 25.893126130569158\n",
      "PRIMER_LEFT_4_SELF_END_TH: 0.0\n",
      "PRIMER_RIGHT_4_SELF_END_TH: 0.0\n",
      "PRIMER_INTERNAL_4_SELF_END_TH: 9.303165116169112\n",
      "PRIMER_LEFT_4_HAIRPIN_TH: 38.11191835318118\n",
      "PRIMER_RIGHT_4_HAIRPIN_TH: 37.46089260988566\n",
      "PRIMER_INTERNAL_4_HAIRPIN_TH: 33.97899652747088\n",
      "PRIMER_LEFT_4_END_STABILITY: 4.79\n",
      "PRIMER_RIGHT_4_END_STABILITY: 5.12\n",
      "PRIMER_PAIR_4_COMPL_ANY_TH: 0.0\n",
      "PRIMER_PAIR_4_COMPL_END_TH: 0.0\n",
      "PRIMER_PAIR_4_PRODUCT_SIZE: 262\n",
      "PRIMER_PAIR_4_PRODUCT_TM: 87.45182522169512\n"
     ]
    }
   ],
   "source": [
    "import primer3\n",
    "\n",
    "# Define sequence arguments\n",
    "seq_args = {\n",
    "    'SEQUENCE_ID': 'example',\n",
    "    'SEQUENCE_TEMPLATE': random_gene_seq,\n",
    "    'SEQUENCE_INCLUDED_REGION': [15, len(random_gene_seq) - 15]\n",
    "}\n",
    "\n",
    "# Define global arguments\n",
    "global_args = {\n",
    "    'PRIMER_TASK': 'generic',\n",
    "    'PRIMER_PICK_LEFT_PRIMER': 1,\n",
    "    'PRIMER_PICK_INTERNAL_OLIGO': 1,\n",
    "    'PRIMER_PICK_RIGHT_PRIMER': 1,\n",
    "    'PRIMER_OPT_SIZE': 20,\n",
    "    'PRIMER_MIN_SIZE': 18,\n",
    "    'PRIMER_MAX_SIZE': 25,\n",
    "    'PRIMER_NUM_RETURN': 5,\n",
    "    'PRIMER_MIN_TM': 57.0,\n",
    "    'PRIMER_MAX_TM': 63.0,\n",
    "    'PRIMER_MIN_GC': 20.0,\n",
    "    'PRIMER_MAX_GC': 80.0,\n",
    "    'PRIMER_MAX_POLY_X': 100,\n",
    "    'PRIMER_INTERNAL_MAX_POLY_X': 100,\n",
    "    'PRIMER_SALT_MONOVALENT': 50.0,\n",
    "    'PRIMER_DNA_CONC': 50.0,\n",
    "    'PRIMER_MAX_NS_ACCEPTED': 0,\n",
    "    'PRIMER_MAX_SELF_ANY': 12,\n",
    "    'PRIMER_MAX_SELF_END': 8,\n",
    "    'PRIMER_PAIR_MAX_COMPL_ANY': 12,\n",
    "    'PRIMER_PAIR_MAX_COMPL_END': 8\n",
    "}\n",
    "\n",
    "# Run the primer design\n",
    "designs = primer3.design_primers(seq_args, global_args)\n",
    "designs = bindings.design_primers(seq_args, global_args)\n",
    "\n",
    "# Output results\n",
    "for key, value in designs.items():\n",
    "    print(f\"{key}: {value}\")\n"
   ]
  },
  {
   "cell_type": "code",
   "execution_count": 12,
   "metadata": {},
   "outputs": [
    {
     "name": "stdout",
     "output_type": "stream",
     "text": [
      "Start of SEQUENCE_INCLUDED_REGION:  1\n",
      "Length of SEQUENCE_INCLUDED_REGION:  70\n",
      "Total length of SEQUENCE_TEMPLATE:  71\n"
     ]
    }
   ],
   "source": [
    "# Print to validate\n",
    "print(\"Start of SEQUENCE_INCLUDED_REGION: \", seq_args['SEQUENCE_INCLUDED_REGION'][0])\n",
    "print(\"Length of SEQUENCE_INCLUDED_REGION: \", seq_args['SEQUENCE_INCLUDED_REGION'][1])\n",
    "print(\"Total length of SEQUENCE_TEMPLATE: \", len(seq_args['SEQUENCE_TEMPLATE']))\n",
    "\n",
    "# Validate bounds\n",
    "if seq_args['SEQUENCE_INCLUDED_REGION'][0] + seq_args['SEQUENCE_INCLUDED_REGION'][1] > len(seq_args['SEQUENCE_TEMPLATE']):\n",
    "    print(\"Error: SEQUENCE_INCLUDED_REGION is out of bounds\")\n"
   ]
  },
  {
   "cell_type": "code",
   "execution_count": 3,
   "metadata": {},
   "outputs": [
    {
     "data": {
      "text/plain": [
       "1500"
      ]
     },
     "execution_count": 3,
     "metadata": {},
     "output_type": "execute_result"
    }
   ],
   "source": [
    "seq = 'AGTGCTTTCGCACGTCGTACCCCTCGGGTAGCTGGCGCTGGATCAGGCTCAGGAACATCTTCCGCATGCGCCGTGGCCACTTCTGGCAGGCGCTGTACACGGCCGCCTGGCGCAGCACGTTCTTCCACCGTACCGCGGTGTAGGCCATGGTCTCCGGCAGCCAGCGGTTGAGCTTCTCGGCGATGCCGTCCCGGTCTGGCTGCGACACGATGTAGGTGGGTGAGCGCTGCAGCATCGTGACGTGCTTGGCGCCCGAGTCCGCCAGCGCCGGCACGAGCGTGACCGCCGTTGCGCCACTGCCGATCACGACGATGTTCTTAGCGTCGTAGTCGAGGTCCTCGGGCCAGTGCTGCGGATGGATGATCGGCCCGACGAAATCCTCCGAGCCGGCGAATCTCGGCGAGTAGCCCTCGTCGTAGTTGTAGTAGCCGCTGCACAGAAAGAGGAATTCGCAGGTGAGGGCGCTGAGCGTGCCGTGGCTTTGGATGTGAACGGTCCAGCGGTTTTCCGCGGTCGACCAATCGGCACTGATCACCTTGTGGTGGAACCGGATATGCCTGTCGATTCCATACATGGCCGCGGTGCTCTTGACGTACTCGAGGATGGGCTTGCCGTCGGCGATCGCCTGCCGTCCGGTCCAGGGACGGAATCGGAAACCTAGCGTGTACATGTCGGAGTCGGAGCGAATTCCGGGATAACGGAACAAATCCCAGGTGCCGCCCATGGATTCCCGCTTTTCCAGGATGGCGTAGCTCTTGGTCGGGCAACGGTCCTGCAGGTGCCAGGCCGCGCTGACACCGGAGATTCCAGCGCCCACGATGACAACGTCGAGGTGCTCGGTCATGGATCCACGCTATCAACGTAATGTCGAGGCCGTCAACGAGATGTCGACACTATCGACACGTAGTAAGCTGCCAGGGTGACCACCTCCGCGGCCAGTCAGGCTTCGCTGCCTAGGGGCCGGCGCACCGCGCGGCCGTCCGGCGACGATCGTGAACTGGCGATCCTCGCCACCGCCGAGAACCTTCTCGAGGACCGTCCGCTGGCCGATATCTCGGTCGACGATCTGGCCAAGGGCGCCGGTATCTCGAGGCCGACGTTCTACTTCTATTTCCCATCCAAGGAAGCGGTGCTGCTGACCCTGCTGGACCGGGTGGTCAATCAAGCCGACATGGCCCTACAGACCCTTGCCGAGAATCCCGCCGACACCGACCGCGAGAACATGTGGCGCACCGGGATCAACGTGTTCTTCGAGACATTCGGGTCGCACAAGGCGGTAACCCGAGCCGGTCAGGCCGCCAGGGCAACCAGTGTCGAAGTCGCCGAACTGTGGTCGACGTTTATGCAGAAGTGGATCGCCTACACGGCCGCCGTGATCGACGCCGAACGCGACCGAGGCGCGGCGCCGCGCACCCTGCCGGCCCATGAACTGGCCACAGCGCTCAACCTGATGAACGAGCGGACGCTGTTCGCGTCATTCGCCGGCGAACAGCCCTCGGT'\n",
    "len(seq)"
   ]
  },
  {
   "cell_type": "code",
   "execution_count": 8,
   "metadata": {},
   "outputs": [
    {
     "data": {
      "text/plain": [
       "'CACGATGTAGGTGGGTGAGCGCTGC'"
      ]
     },
     "execution_count": 8,
     "metadata": {},
     "output_type": "execute_result"
    }
   ],
   "source": [
    "seq[205:230]"
   ]
  },
  {
   "cell_type": "code",
   "execution_count": null,
   "metadata": {},
   "outputs": [],
   "source": [
    "ACTGCCGATCACGACGATGT"
   ]
  },
  {
   "cell_type": "code",
   "execution_count": 13,
   "metadata": {},
   "outputs": [
    {
     "data": {
      "text/plain": [
       "295"
      ]
     },
     "execution_count": 13,
     "metadata": {},
     "output_type": "execute_result"
    }
   ],
   "source": [
    "left_seq = 'AGTGCTTTCGCACGTCGTACCCCTCGGGTAGCTGGCGCTGGATCAGGCTCAGGAACATCTTCCGCATGCGCCGTGGCCACTTCTGGCAGGCGCTGTACACGGCCGCCTGGCGCAGCACGTTCTTCCACCGTACCGCGGTGTAGGCCATGGTCTCCGGCAGCCAGCGGTTGAGCTTCTCGGCGATGCCGTCCCGGTCTGGCTGCGACACGATGTAGGTGGGTGAGCGCTGCAGCATCGTGACGTGCTTGGCGCCCGAGTCCGCCAGCGCCGGCACGAGCGTGACCGCCGTTGCGCC'\n",
    "len(left_seq)"
   ]
  },
  {
   "cell_type": "code",
   "execution_count": null,
   "metadata": {},
   "outputs": [],
   "source": []
  },
  {
   "cell_type": "code",
   "execution_count": 10,
   "metadata": {},
   "outputs": [
    {
     "data": {
      "text/plain": [
       "'AGTGCTTTCGCACGTCGTACCCCTCGGGTAGCTGGCGCTGGATCAGGCTCAGGAACATCTTCCGCATGCGCCGTGGCCACTTCTGGCAGGCGCTGTACACGGCCGCCTGGCGCAGCACGTTCTTCCACCGTACCGCGGTGTAGGCCATGGTCTCCGGCAGCCAGCGGTTGAGCTTCTCGGCGATGCCGTCCCGGTCTGGCTGCGACACGATGTAGGTGGGTGAGCGCTGCAGCATCGTGACGTGCTTGGCGCCCGAGTCCGCCAGCGCCGGCACGAGCGTGACCGCCGTTGCGCC'"
      ]
     },
     "execution_count": 10,
     "metadata": {},
     "output_type": "execute_result"
    }
   ],
   "source": [
    "left_seq"
   ]
  },
  {
   "cell_type": "code",
   "execution_count": 12,
   "metadata": {},
   "outputs": [
    {
     "data": {
      "text/plain": [
       "'AACCGGATATGCCTGTCGAT'"
      ]
     },
     "execution_count": 12,
     "metadata": {},
     "output_type": "execute_result"
    }
   ],
   "source": [
    "primer_selection.extract_sequence_from_fasta(4327174, 4327174+20, padding=0)"
   ]
  },
  {
   "cell_type": "code",
   "execution_count": 15,
   "metadata": {},
   "outputs": [
    {
     "data": {
      "text/plain": [
       "'CGGTTTTCCGCGGTCGACCA'"
      ]
     },
     "execution_count": 15,
     "metadata": {},
     "output_type": "execute_result"
    }
   ],
   "source": [
    "primer_selection.extract_sequence_from_fasta(4327129, 4327129+20, padding=0)\n"
   ]
  },
  {
   "cell_type": "code",
   "execution_count": 14,
   "metadata": {},
   "outputs": [
    {
     "data": {
      "text/plain": [
       "4327424"
      ]
     },
     "execution_count": 14,
     "metadata": {},
     "output_type": "execute_result"
    }
   ],
   "source": [
    "4327129 + 295"
   ]
  },
  {
   "cell_type": "code",
   "execution_count": 36,
   "metadata": {},
   "outputs": [
    {
     "name": "stdout",
     "output_type": "stream",
     "text": [
      "Sequence found in Chromosome from position 760286 to 760306\n"
     ]
    }
   ],
   "source": [
    "from Bio import SeqIO\n",
    "\n",
    "def find_sequence_location(fasta_file, query_sequence):\n",
    "    for record in SeqIO.parse(fasta_file, \"fasta\"):\n",
    "        sequence = str(record.seq)\n",
    "        if query_sequence in sequence:\n",
    "            start_index = sequence.index(query_sequence)\n",
    "            end_index = start_index + len(query_sequence)\n",
    "            return f\"Sequence found in {record.id} from position {start_index} to {end_index}\"\n",
    "    return \"Sequence not found in the FASTA file\"\n",
    "\n",
    "# Example usage\n",
    "fasta_file = \"/mnt/storage10/lwang/Projects/Amplicone_design_tool/MTB-h37rv_asm19595v2-eg18.fa\"\n",
    "query_sequence = \"ATCATCAACGGGACCGAGCG\"\n",
    "\n",
    "result = find_sequence_location(fasta_file, query_sequence)\n",
    "print(result)\n"
   ]
  },
  {
   "cell_type": "code",
   "execution_count": 40,
   "metadata": {},
   "outputs": [
    {
     "name": "stdout",
     "output_type": "stream",
     "text": [
      "Sequence found in Chromosome from position 760365 to 760385\n"
     ]
    }
   ],
   "source": [
    "fasta_file = \"/mnt/storage10/lwang/Projects/Amplicone_design_tool/MTB-h37rv_asm19595v2-eg18.fa\"\n",
    "query_sequence = \"AGTCCACCGACAAGACGCTG\"\n",
    "\n",
    "result = find_sequence_location(fasta_file, query_sequence)\n",
    "print(result)"
   ]
  },
  {
   "cell_type": "code",
   "execution_count": 35,
   "metadata": {},
   "outputs": [
    {
     "data": {
      "text/plain": [
       "4327879"
      ]
     },
     "execution_count": 35,
     "metadata": {},
     "output_type": "execute_result"
    }
   ],
   "source": [
    "4328229-350"
   ]
  },
  {
   "cell_type": "code",
   "execution_count": 41,
   "metadata": {},
   "outputs": [
    {
     "data": {
      "text/plain": [
       "'Sequence found in Chromosome from position 13 to 33'"
      ]
     },
     "execution_count": 41,
     "metadata": {},
     "output_type": "execute_result"
    }
   ],
   "source": [
    "find_sequence_location(fasta_file, 'CCGGTTCAGGCTTCACCACA')"
   ]
  },
  {
   "cell_type": "code",
   "execution_count": 45,
   "metadata": {},
   "outputs": [],
   "source": [
    "from Bio import SeqIO\n",
    "\n",
    "def find_sequence_location(query_sequence, position, fasta_file):\n",
    "    closest_start = float('inf')\n",
    "    closest_end = float('inf')\n",
    "    closest_record = None\n",
    "\n",
    "    for record in SeqIO.parse(fasta_file, \"fasta\"):\n",
    "        sequence = str(record.seq)\n",
    "        index = sequence.find(query_sequence)\n",
    "        \n",
    "        while index != -1:\n",
    "            start_index = index\n",
    "            end_index = index + len(query_sequence)\n",
    "            \n",
    "            if abs(position - start_index) < abs(position - closest_start):\n",
    "                closest_start = start_index\n",
    "                closest_end = end_index\n",
    "                closest_record = record.id\n",
    "\n",
    "            index = sequence.find(query_sequence, index + 1)\n",
    "\n",
    "    if closest_record is not None:\n",
    "        return closest_start, closest_end\n",
    "    else:\n",
    "        print(\"Primer Sequence not found in FASTA file.\")\n",
    "        return 0,0"
   ]
  },
  {
   "cell_type": "code",
   "execution_count": 50,
   "metadata": {},
   "outputs": [
    {
     "data": {
      "text/plain": [
       "(4325973, 4325993)"
      ]
     },
     "execution_count": 50,
     "metadata": {},
     "output_type": "execute_result"
    }
   ],
   "source": [
    "find_sequence_location('GCCTAAACCGGCGCTAAACC', 4326008, fasta_file='/mnt/storage10/lwang/Projects/Amplicone_design_tool/MTB-h37rv_asm19595v2-eg18.fa')\n"
   ]
  },
  {
   "cell_type": "code",
   "execution_count": 28,
   "metadata": {},
   "outputs": [
    {
     "data": {
      "text/plain": [
       "'ACTGCCGATCACGACGATGT'"
      ]
     },
     "execution_count": 28,
     "metadata": {},
     "output_type": "execute_result"
    }
   ],
   "source": [
    "primer_selection.extract_sequence_from_fasta(4326924, 4326944, padding=0)\n"
   ]
  },
  {
   "cell_type": "code",
   "execution_count": 25,
   "metadata": {},
   "outputs": [],
   "source": [
    "from Bio import SeqIO\n",
    "\n",
    "def find_sequence_location(fasta_file, query_sequence, position):\n",
    "    closest_start = float('inf')\n",
    "    closest_end = float('inf')\n",
    "    closest_record = None\n",
    "\n",
    "    for record in SeqIO.parse(fasta_file, \"fasta\"):\n",
    "        sequence = str(record.seq)\n",
    "        index = sequence.find(query_sequence)\n",
    "        \n",
    "        while index != -1:\n",
    "            start_index = index\n",
    "            end_index = index + len(query_sequence)\n",
    "            \n",
    "            if abs(position - start_index) < abs(position - closest_start):\n",
    "                closest_start = start_index\n",
    "                closest_end = end_index\n",
    "                closest_record = record.id\n",
    "\n",
    "            index = sequence.find(query_sequence, index + 1)\n",
    "\n",
    "    if closest_record is not None:\n",
    "        return closest_start, closest_end\n",
    "    else:\n",
    "        return \"Sequence not found in the FASTA file\""
   ]
  },
  {
   "cell_type": "code",
   "execution_count": 29,
   "metadata": {},
   "outputs": [
    {
     "data": {
      "text/plain": [
       "4326924"
      ]
     },
     "execution_count": 29,
     "metadata": {},
     "output_type": "execute_result"
    }
   ],
   "source": [
    "query_sequence ='ACTGCCGATCACGACGATGT'\n",
    "# query_sequence = primer_selection.reverse_complement_sequence(query_sequence)\n",
    "find_sequence_location(fasta_file, query_sequence, 4327932)[0]\n",
    "# print(result)"
   ]
  },
  {
   "cell_type": "code",
   "execution_count": null,
   "metadata": {},
   "outputs": [],
   "source": [
    "4327129 4327629"
   ]
  },
  {
   "cell_type": "code",
   "execution_count": null,
   "metadata": {},
   "outputs": [],
   "source": [
    "4327129"
   ]
  },
  {
   "cell_type": "code",
   "execution_count": 20,
   "metadata": {},
   "outputs": [
    {
     "data": {
      "text/plain": [
       "4326629"
      ]
     },
     "execution_count": 20,
     "metadata": {},
     "output_type": "execute_result"
    }
   ],
   "source": [
    "[[4326879, 4327879],\n",
    " [2282776, 2283776],\n",
    " [2285958, 2286958],\n",
    " [4246734, 4247734],\n",
    " [4244193, 4245193],\n",
    " [2280899, 2281899],\n",
    " [2152912, 2153912],\n",
    " [2284954, 2285954],\n",
    " [2747141, 2748141],\n",
    " [1834840, 1835840],\n",
    " [2150990, 2151990],\n",
    " [2277174, 2278174],\n",
    " [3067958, 3068958],\n",
    " [2147188, 2148188],\n",
    " [2138550, 2139550],\n",
    " [2281712, 2282712],\n",
    " [2283527, 2284527],\n",
    " [1416371, 1417371],\n",
    " [3840393, 3841393],\n",
    " [3073502, 3074502],\n",
    " [2149884, 2150884],\n",
    " [2276296, 2277296],\n",
    " [2279554, 2280554],\n",
    " [2287239, 2288239],\n",
    " [2141412, 2142412],\n",
    " [2140159, 2141159],\n",
    " [2148199, 2149199],\n",
    " [2144518, 2145518],\n",
    " [3086947, 3087947],\n",
    " [2128861, 2129861]]"
   ]
  }
 ],
 "metadata": {
  "kernelspec": {
   "display_name": "ml-s10",
   "language": "python",
   "name": "python3"
  },
  "language_info": {
   "codemirror_mode": {
    "name": "ipython",
    "version": 3
   },
   "file_extension": ".py",
   "mimetype": "text/x-python",
   "name": "python",
   "nbconvert_exporter": "python",
   "pygments_lexer": "ipython3",
   "version": "3.11.6"
  },
  "orig_nbformat": 4
 },
 "nbformat": 4,
 "nbformat_minor": 2
}
